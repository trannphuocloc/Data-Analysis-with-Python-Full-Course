{
 "cells": [
  {
   "cell_type": "markdown",
   "id": "22a9618c-1ced-4eae-9a49-da9d36f25f15",
   "metadata": {},
   "source": [
    "# Pandas Part 2"
   ]
  },
  {
   "cell_type": "markdown",
   "id": "7239799a-752b-4771-9b86-42d263d14f4e",
   "metadata": {},
   "source": [
    "## Combining and Merging Datasets\n",
    "### Joining DataFrame"
   ]
  },
  {
   "cell_type": "code",
   "execution_count": null,
   "id": "0d206570-0bcf-4223-abff-a172eaf5a0f0",
   "metadata": {},
   "outputs": [],
   "source": [
    "from IPython.display import Image\n",
    "Image(filename='pandas2_intro.png') "
   ]
  },
  {
   "cell_type": "code",
   "execution_count": null,
   "id": "097ac00d-5b39-4854-9574-0ddee5b2cd9d",
   "metadata": {},
   "outputs": [],
   "source": [
    "import pandas as pd\n",
    "import numpy as np"
   ]
  },
  {
   "cell_type": "code",
   "execution_count": null,
   "id": "41403d99-1b30-4f43-abaa-c5fcae831588",
   "metadata": {
    "jupyter": {
     "source_hidden": true
    }
   },
   "outputs": [],
   "source": [
    "d1 = pd.DataFrame({\n",
    "    'key' : ['a','b','c','c','d','e'],\n",
    "    'num1' : range(6)\n",
    "})\n",
    "\n",
    "d2 = pd.DataFrame({\n",
    "    'key' : ['b','c','e','f'],\n",
    "    'num2' : range(4)\n",
    "})\n",
    "\n",
    "print(d1)\n",
    "print(d2)"
   ]
  },
  {
   "cell_type": "code",
   "execution_count": null,
   "id": "c47c5de2-38d8-4d23-ab50-7fe6e3a5c7d0",
   "metadata": {},
   "outputs": [],
   "source": [
    "# pandas merge d1 d2 with key\n",
    "pd.merge(d1,d2,on='key')"
   ]
  },
  {
   "cell_type": "code",
   "execution_count": null,
   "id": "b2846b32-d1af-46d0-a79a-2f7e97c4c9e6",
   "metadata": {},
   "outputs": [],
   "source": [
    "# pandas merge d1 d2 without key\n",
    "# without 'on' khi tên của 2 cột chung là duy nhất và giống nhau\n",
    "pd.merge(d1,d2)"
   ]
  },
  {
   "cell_type": "code",
   "execution_count": null,
   "id": "fc03d524-1740-4f2f-b5b3-c6d0a6518a30",
   "metadata": {},
   "outputs": [],
   "source": [
    "d3 = pd.DataFrame({\n",
    "    'key1' : ['a','b','c','c','d','e'],\n",
    "    'num1' : range(6)\n",
    "})\n",
    "d4 = pd.DataFrame({\n",
    "    'key2' : ['b','c','e','f'],\n",
    "    'num1' : range(4)\n",
    "})\n",
    "\n",
    "# đã ko còn trùng cột key như d1,d2"
   ]
  },
  {
   "cell_type": "code",
   "execution_count": null,
   "id": "420393d6-6dc4-400a-b3d9-ae4eec4982a3",
   "metadata": {},
   "outputs": [],
   "source": [
    "# pandas merge with left on, right on\n",
    "pd.merge(d3,d4,left_on='key1',right_on='key2')"
   ]
  },
  {
   "cell_type": "code",
   "execution_count": null,
   "id": "4b9ac793-2c3e-4024-b3bb-1517b4d52881",
   "metadata": {},
   "outputs": [],
   "source": [
    "# full outer join d1, d2\n",
    "pd.merge(d1,d2,on='key', how='outer')"
   ]
  },
  {
   "cell_type": "code",
   "execution_count": null,
   "id": "804bd02b-2848-4786-b926-bb925a3a0605",
   "metadata": {},
   "outputs": [],
   "source": [
    "# left join\n",
    "pd.merge(d1,d2,on='key', how='left')"
   ]
  },
  {
   "cell_type": "code",
   "execution_count": null,
   "id": "21bee742-5f7b-4373-bc2d-bafdeb4e059f",
   "metadata": {},
   "outputs": [],
   "source": [
    "# right join\n",
    "pd.merge(d1,d2,on='key', how='right')"
   ]
  },
  {
   "cell_type": "code",
   "execution_count": null,
   "id": "b793180a-dd94-41b2-b0ae-0e823929d1b8",
   "metadata": {},
   "outputs": [],
   "source": [
    "df1  =pd.DataFrame({\n",
    "    'key' : ['a','b','c','c','d','e'],\n",
    "    'num1' : range(6),\n",
    "    'count' : ['one','three','two','one','one','two']\n",
    "})\n",
    "\n",
    "df2 = pd.DataFrame({\n",
    "    'key' : ['b','c','e','f'],\n",
    "    'num1' : range(4),\n",
    "    'count' : ['one','two','two','two']\n",
    "})\n",
    "print(df1)\n",
    "print(df2)"
   ]
  },
  {
   "cell_type": "code",
   "execution_count": null,
   "id": "ab77811b-1171-4ff4-b02c-156eea646cc1",
   "metadata": {},
   "outputs": [],
   "source": [
    "# full outer key: key, count (trên 2 primary key)\n",
    "print(pd.merge(df1,df2,left_on=['key','count'],right_on = ['key','count']))\n",
    "\n",
    "# full outer trên 1 primary key\n",
    "pd.merge(df1,df2, on='key',how='outer')"
   ]
  },
  {
   "cell_type": "code",
   "execution_count": null,
   "id": "ec760e9a-d6a6-46f5-914f-f93704b72baf",
   "metadata": {},
   "outputs": [],
   "source": [
    "# join with suffixes (hậu tố cho cái tên column, chứ ko liên quan tới data bên trong)\n",
    "pd.merge(df1,df2,\n",
    "         on = 'key',\n",
    "         suffixes = ('_data1', '_data2'))"
   ]
  },
  {
   "cell_type": "markdown",
   "id": "7a78eb36-6ead-440e-b63b-fb238b441d6b",
   "metadata": {},
   "source": [
    "## Merging on index"
   ]
  },
  {
   "cell_type": "code",
   "execution_count": null,
   "id": "a726fa67-ec19-4faf-85ff-ce0dd9473a09",
   "metadata": {},
   "outputs": [],
   "source": [
    "df1  =pd.DataFrame({\n",
    "    'letter' : ['a','a','b','b','a','c'],\n",
    "    'num' : range(6)\n",
    "})\n",
    "\n",
    "df2 = pd.DataFrame({\n",
    "    \"value\" : [3,5,7]},\n",
    "    index = ['a','b','c']\n",
    ")\n",
    "print(df1)\n",
    "print(df2)"
   ]
  },
  {
   "cell_type": "code",
   "execution_count": null,
   "id": "5dab4a47-8ba9-445a-b262-4ed30ae0013c",
   "metadata": {},
   "outputs": [],
   "source": [
    "# right_index\n",
    "pd.merge(df1,df2,\n",
    "         left_on='letter',\n",
    "         right_index = True)"
   ]
  },
  {
   "cell_type": "code",
   "execution_count": null,
   "id": "fe87a2c5-588e-4d91-99af-612ae242bce2",
   "metadata": {},
   "outputs": [],
   "source": [
    "right = pd.DataFrame(\n",
    "    [[1,2],[3,4],[5,6]],\n",
    "    index = ['a','c','d'],\n",
    "    columns = ['Tom','Tim']\n",
    ")\n",
    "\n",
    "left = pd.DataFrame(\n",
    "    [[7,8],[9,10],[11,12],[13,14]],\n",
    "     index = ['a','b','e','f'],\n",
    "     columns = ['Sam','Kim']\n",
    ")\n",
    "print(left)\n",
    "print(right)"
   ]
  },
  {
   "cell_type": "code",
   "execution_count": null,
   "id": "ca5749bc-5d2c-41de-8487-77951fa76475",
   "metadata": {},
   "outputs": [],
   "source": [
    "# merge with full index (ý là 2 bên merge bằng index)\n",
    "pd.merge(left, right,\n",
    "         left_index = True,\n",
    "         right_index = True)"
   ]
  },
  {
   "cell_type": "code",
   "execution_count": null,
   "id": "6eaa9018-e4e1-49d3-bfcf-84714d908899",
   "metadata": {},
   "outputs": [],
   "source": [
    "left.join(right)"
   ]
  },
  {
   "cell_type": "code",
   "execution_count": null,
   "id": "72fd48e8-dabc-4ff9-a3fb-dbca6a7672fc",
   "metadata": {},
   "outputs": [],
   "source": [
    "left.join(right,how='outer')\n",
    "\n",
    "# giống với full outer join bên dưới"
   ]
  },
  {
   "cell_type": "code",
   "execution_count": null,
   "id": "a82bd793-2524-44f9-8536-fa98fb178a79",
   "metadata": {},
   "outputs": [],
   "source": [
    "#(full outer join)\n",
    "pd.merge(left, right,\n",
    "         left_index = True,\n",
    "         right_index = True,\n",
    "         how = 'outer')    "
   ]
  },
  {
   "cell_type": "code",
   "execution_count": null,
   "id": "714f5e3d-682b-41bf-8a78-c5a3da1ccd62",
   "metadata": {},
   "outputs": [],
   "source": [
    "data = pd.DataFrame(\n",
    "    [[1,3],[5,7],[9,11]],\n",
    "    index = ['a','b','f'],\n",
    "    columns = ['Alex','Keta']\n",
    ")"
   ]
  },
  {
   "cell_type": "code",
   "execution_count": null,
   "id": "c80ca443-9660-4a06-9fe4-19cb5e385e0d",
   "metadata": {},
   "outputs": [],
   "source": [
    "# join multiple df without common key\n",
    "left.join([right,data])"
   ]
  },
  {
   "cell_type": "markdown",
   "id": "9f95bcb7-ca1e-4cbe-9d41-4e22f29cd7c5",
   "metadata": {},
   "source": [
    "## Concateing along Axis"
   ]
  },
  {
   "cell_type": "code",
   "execution_count": 134,
   "id": "810355bf-4848-465d-a5df-3bd7db1f6c78",
   "metadata": {},
   "outputs": [
    {
     "data": {
      "text/plain": [
       "array([[ 0,  1,  2,  3,  4],\n",
       "       [ 5,  6,  7,  8,  9],\n",
       "       [10, 11, 12, 13, 14],\n",
       "       [15, 16, 17, 18, 19]])"
      ]
     },
     "execution_count": 134,
     "metadata": {},
     "output_type": "execute_result"
    }
   ],
   "source": [
    "seq = np.arange(20).reshape(4,5)\n",
    "seq"
   ]
  },
  {
   "cell_type": "code",
   "execution_count": 135,
   "id": "0f6a0dc3-c905-46dd-95d2-26167da41c18",
   "metadata": {},
   "outputs": [
    {
     "data": {
      "text/plain": [
       "array([[ 0,  1,  2,  3,  4,  0,  1,  2,  3,  4],\n",
       "       [ 5,  6,  7,  8,  9,  5,  6,  7,  8,  9],\n",
       "       [10, 11, 12, 13, 14, 10, 11, 12, 13, 14],\n",
       "       [15, 16, 17, 18, 19, 15, 16, 17, 18, 19]])"
      ]
     },
     "execution_count": 135,
     "metadata": {},
     "output_type": "execute_result"
    }
   ],
   "source": [
    "# numpy concatenate seq seq col\n",
    "np.concatenate([seq,seq],axis=1)"
   ]
  },
  {
   "cell_type": "code",
   "execution_count": null,
   "id": "3a57eccf-9c57-46e5-85e9-ea7e10e41a09",
   "metadata": {},
   "outputs": [],
   "source": [
    "# numpy concatenate seq seq row\n",
    "np.concatenate([seq,seq],axis=0)"
   ]
  },
  {
   "cell_type": "code",
   "execution_count": null,
   "id": "34367c37-d428-4579-bdb6-698cccb48dd9",
   "metadata": {},
   "outputs": [],
   "source": [
    "data1 = pd.Series([0,1], index = ['a','b'])\n",
    "data2 = pd.Series([2,3,4], index = ['c','d','e'])\n",
    "data3 = pd.Series([5,6], index = ['f','g'])\n",
    "\n",
    "print(data1)\n",
    "print(data2)\n",
    "print(data3)"
   ]
  },
  {
   "cell_type": "code",
   "execution_count": 137,
   "id": "ed5a44b5-66a0-4603-be01-932f9080a492",
   "metadata": {},
   "outputs": [
    {
     "data": {
      "text/plain": [
       "a    0\n",
       "b    1\n",
       "c    2\n",
       "d    3\n",
       "e    4\n",
       "f    5\n",
       "g    6\n",
       "dtype: int64"
      ]
     },
     "execution_count": 137,
     "metadata": {},
     "output_type": "execute_result"
    }
   ],
   "source": [
    "# pandas concat data 1 2 3\n",
    "pd.concat([data1,data2,data3])"
   ]
  },
  {
   "cell_type": "code",
   "execution_count": 138,
   "id": "063b828e-72eb-458a-91e5-0eb11afd70fd",
   "metadata": {},
   "outputs": [
    {
     "data": {
      "text/html": [
       "<div>\n",
       "<style scoped>\n",
       "    .dataframe tbody tr th:only-of-type {\n",
       "        vertical-align: middle;\n",
       "    }\n",
       "\n",
       "    .dataframe tbody tr th {\n",
       "        vertical-align: top;\n",
       "    }\n",
       "\n",
       "    .dataframe thead th {\n",
       "        text-align: right;\n",
       "    }\n",
       "</style>\n",
       "<table border=\"1\" class=\"dataframe\">\n",
       "  <thead>\n",
       "    <tr style=\"text-align: right;\">\n",
       "      <th></th>\n",
       "      <th>0</th>\n",
       "      <th>1</th>\n",
       "      <th>2</th>\n",
       "    </tr>\n",
       "  </thead>\n",
       "  <tbody>\n",
       "    <tr>\n",
       "      <th>a</th>\n",
       "      <td>0.0</td>\n",
       "      <td>NaN</td>\n",
       "      <td>NaN</td>\n",
       "    </tr>\n",
       "    <tr>\n",
       "      <th>b</th>\n",
       "      <td>1.0</td>\n",
       "      <td>NaN</td>\n",
       "      <td>NaN</td>\n",
       "    </tr>\n",
       "    <tr>\n",
       "      <th>c</th>\n",
       "      <td>NaN</td>\n",
       "      <td>2.0</td>\n",
       "      <td>NaN</td>\n",
       "    </tr>\n",
       "    <tr>\n",
       "      <th>d</th>\n",
       "      <td>NaN</td>\n",
       "      <td>3.0</td>\n",
       "      <td>NaN</td>\n",
       "    </tr>\n",
       "    <tr>\n",
       "      <th>e</th>\n",
       "      <td>NaN</td>\n",
       "      <td>4.0</td>\n",
       "      <td>NaN</td>\n",
       "    </tr>\n",
       "    <tr>\n",
       "      <th>f</th>\n",
       "      <td>NaN</td>\n",
       "      <td>NaN</td>\n",
       "      <td>5.0</td>\n",
       "    </tr>\n",
       "    <tr>\n",
       "      <th>g</th>\n",
       "      <td>NaN</td>\n",
       "      <td>NaN</td>\n",
       "      <td>6.0</td>\n",
       "    </tr>\n",
       "  </tbody>\n",
       "</table>\n",
       "</div>"
      ],
      "text/plain": [
       "     0    1    2\n",
       "a  0.0  NaN  NaN\n",
       "b  1.0  NaN  NaN\n",
       "c  NaN  2.0  NaN\n",
       "d  NaN  3.0  NaN\n",
       "e  NaN  4.0  NaN\n",
       "f  NaN  NaN  5.0\n",
       "g  NaN  NaN  6.0"
      ]
     },
     "execution_count": 138,
     "metadata": {},
     "output_type": "execute_result"
    }
   ],
   "source": [
    "# pandas concat data 1 2 3 col\n",
    "pd.concat([data1,data2,data3],axis = 1)"
   ]
  },
  {
   "cell_type": "code",
   "execution_count": null,
   "id": "63ae1ecf-665e-4ad9-9376-c22bedcaf66d",
   "metadata": {},
   "outputs": [],
   "source": [
    "data4 = pd.Series([10,11,12], index = ['a','b','c'])\n",
    "\n",
    "pd.concat([data1,data4],axis=1,join='outer')"
   ]
  },
  {
   "cell_type": "code",
   "execution_count": null,
   "id": "34a4a5d7-04a9-4db4-a6af-5f6cb7adb807",
   "metadata": {},
   "outputs": [],
   "source": [
    "x = pd.concat(\n",
    "    [data1, data2, data4],\n",
    "    keys = ['one','two','three']\n",
    ")\n",
    "x"
   ]
  },
  {
   "cell_type": "code",
   "execution_count": null,
   "id": "d28e52f9-9ed8-430a-a092-bf7080f398d8",
   "metadata": {},
   "outputs": [],
   "source": [
    "x = pd.concat(\n",
    "    [data1, data2, data4],\n",
    "    keys = ['one','two','three'],\n",
    "    axis = 1\n",
    ")\n",
    "x"
   ]
  },
  {
   "cell_type": "code",
   "execution_count": null,
   "id": "d3741fc3-2780-43b9-ad4b-19577c7d8ea1",
   "metadata": {},
   "outputs": [],
   "source": [
    "df1 = pd.DataFrame(\n",
    "    np.arange(6).reshape(3,2),\n",
    "    index = ['a','b','c'],\n",
    "    columns = ['one','two']\n",
    ")\n",
    "df2 = pd.DataFrame(\n",
    "    np.arange(4).reshape(2,2),\n",
    "    index = ['a','c'],\n",
    "    columns = ['three','four']\n",
    ")\n",
    "print(df1)\n",
    "print(df2)"
   ]
  },
  {
   "cell_type": "code",
   "execution_count": 141,
   "id": "e05a9095-bcbc-4e60-8adf-8f7f985675db",
   "metadata": {},
   "outputs": [
    {
     "data": {
      "text/html": [
       "<div>\n",
       "<style scoped>\n",
       "    .dataframe tbody tr th:only-of-type {\n",
       "        vertical-align: middle;\n",
       "    }\n",
       "\n",
       "    .dataframe tbody tr th {\n",
       "        vertical-align: top;\n",
       "    }\n",
       "\n",
       "    .dataframe thead tr th {\n",
       "        text-align: left;\n",
       "    }\n",
       "</style>\n",
       "<table border=\"1\" class=\"dataframe\">\n",
       "  <thead>\n",
       "    <tr>\n",
       "      <th></th>\n",
       "      <th colspan=\"2\" halign=\"left\">s1</th>\n",
       "      <th colspan=\"2\" halign=\"left\">s2</th>\n",
       "    </tr>\n",
       "    <tr>\n",
       "      <th></th>\n",
       "      <th>one</th>\n",
       "      <th>two</th>\n",
       "      <th>three</th>\n",
       "      <th>four</th>\n",
       "    </tr>\n",
       "  </thead>\n",
       "  <tbody>\n",
       "    <tr>\n",
       "      <th>a</th>\n",
       "      <td>0</td>\n",
       "      <td>1</td>\n",
       "      <td>0.0</td>\n",
       "      <td>1.0</td>\n",
       "    </tr>\n",
       "    <tr>\n",
       "      <th>b</th>\n",
       "      <td>2</td>\n",
       "      <td>3</td>\n",
       "      <td>NaN</td>\n",
       "      <td>NaN</td>\n",
       "    </tr>\n",
       "    <tr>\n",
       "      <th>c</th>\n",
       "      <td>4</td>\n",
       "      <td>5</td>\n",
       "      <td>2.0</td>\n",
       "      <td>3.0</td>\n",
       "    </tr>\n",
       "  </tbody>\n",
       "</table>\n",
       "</div>"
      ],
      "text/plain": [
       "   s1        s2     \n",
       "  one two three four\n",
       "a   0   1   0.0  1.0\n",
       "b   2   3   NaN  NaN\n",
       "c   4   5   2.0  3.0"
      ]
     },
     "execution_count": 141,
     "metadata": {},
     "output_type": "execute_result"
    }
   ],
   "source": [
    "pd.concat(\n",
    "    [df1,df2],\n",
    "    axis = 1,\n",
    "    keys = ['s1','s2'],\n",
    "    sort = False\n",
    ")"
   ]
  },
  {
   "cell_type": "markdown",
   "id": "a473662b-7f18-4402-8082-45f239ce6d68",
   "metadata": {},
   "source": [
    "## Reshaping and Pivoting"
   ]
  },
  {
   "cell_type": "code",
   "execution_count": null,
   "id": "b4c0dbb1-bfbf-415f-8206-eb6e9ff4b6fb",
   "metadata": {},
   "outputs": [],
   "source": [
    "s1 = pd.Series(\n",
    "    np.arange(4), index = list(\"abcd\"))\n",
    "s2 = pd.Series(\n",
    "    np.arange(6,9), index = list(\"cde\"))\n",
    "\n",
    "print(s1)\n",
    "print(s2)"
   ]
  },
  {
   "cell_type": "code",
   "execution_count": 143,
   "id": "fdaf9036-013a-4f17-a02e-cd8207cc3fbc",
   "metadata": {},
   "outputs": [
    {
     "data": {
      "text/plain": [
       "bir  a    0\n",
       "     b    1\n",
       "     c    2\n",
       "     d    3\n",
       "iki  c    6\n",
       "     d    7\n",
       "     e    8\n",
       "dtype: int32"
      ]
     },
     "execution_count": 143,
     "metadata": {},
     "output_type": "execute_result"
    }
   ],
   "source": [
    "data2 = pd.concat(\n",
    "    [s1,s2],\n",
    "    keys = [\"bir\",\"iki\"]\n",
    ")\n",
    "data2\n",
    "\n",
    "#nested"
   ]
  },
  {
   "cell_type": "code",
   "execution_count": 144,
   "id": "d99699a4-480e-4177-8a98-d27d1329252a",
   "metadata": {},
   "outputs": [
    {
     "data": {
      "text/html": [
       "<div>\n",
       "<style scoped>\n",
       "    .dataframe tbody tr th:only-of-type {\n",
       "        vertical-align: middle;\n",
       "    }\n",
       "\n",
       "    .dataframe tbody tr th {\n",
       "        vertical-align: top;\n",
       "    }\n",
       "\n",
       "    .dataframe thead th {\n",
       "        text-align: right;\n",
       "    }\n",
       "</style>\n",
       "<table border=\"1\" class=\"dataframe\">\n",
       "  <thead>\n",
       "    <tr style=\"text-align: right;\">\n",
       "      <th></th>\n",
       "      <th>a</th>\n",
       "      <th>b</th>\n",
       "      <th>c</th>\n",
       "      <th>d</th>\n",
       "      <th>e</th>\n",
       "    </tr>\n",
       "  </thead>\n",
       "  <tbody>\n",
       "    <tr>\n",
       "      <th>bir</th>\n",
       "      <td>0.0</td>\n",
       "      <td>1.0</td>\n",
       "      <td>2.0</td>\n",
       "      <td>3.0</td>\n",
       "      <td>NaN</td>\n",
       "    </tr>\n",
       "    <tr>\n",
       "      <th>iki</th>\n",
       "      <td>NaN</td>\n",
       "      <td>NaN</td>\n",
       "      <td>6.0</td>\n",
       "      <td>7.0</td>\n",
       "      <td>8.0</td>\n",
       "    </tr>\n",
       "  </tbody>\n",
       "</table>\n",
       "</div>"
      ],
      "text/plain": [
       "       a    b    c    d    e\n",
       "bir  0.0  1.0  2.0  3.0  NaN\n",
       "iki  NaN  NaN  6.0  7.0  8.0"
      ]
     },
     "execution_count": 144,
     "metadata": {},
     "output_type": "execute_result"
    }
   ],
   "source": [
    "# unstack\n",
    "data2.unstack()"
   ]
  },
  {
   "cell_type": "code",
   "execution_count": 145,
   "id": "4fba2954-8d47-41d8-a8cb-881599c585d5",
   "metadata": {},
   "outputs": [
    {
     "data": {
      "text/plain": [
       "bir  a    0.0\n",
       "     b    1.0\n",
       "     c    2.0\n",
       "     d    3.0\n",
       "iki  c    6.0\n",
       "     d    7.0\n",
       "     e    8.0\n",
       "dtype: float64"
      ]
     },
     "execution_count": 145,
     "metadata": {},
     "output_type": "execute_result"
    }
   ],
   "source": [
    "data2.unstack().stack()"
   ]
  },
  {
   "cell_type": "code",
   "execution_count": 146,
   "id": "2db02abc-2d4e-4315-8f91-07fed5ee9bc3",
   "metadata": {},
   "outputs": [
    {
     "data": {
      "text/plain": [
       "bir  a    0.0\n",
       "     b    1.0\n",
       "     c    2.0\n",
       "     d    3.0\n",
       "iki  c    6.0\n",
       "     d    7.0\n",
       "     e    8.0\n",
       "dtype: float64"
      ]
     },
     "execution_count": 146,
     "metadata": {},
     "output_type": "execute_result"
    }
   ],
   "source": [
    "data2.unstack().stack(dropna = True)"
   ]
  },
  {
   "cell_type": "code",
   "execution_count": null,
   "id": "25ee465f-376e-4747-9e8c-140d4abf76a2",
   "metadata": {},
   "outputs": [],
   "source": [
    "data2.unstack().stack(dropna = False)"
   ]
  },
  {
   "cell_type": "markdown",
   "id": "d7e27dc2-d746-4f25-ba68-c31421910595",
   "metadata": {},
   "source": [
    "## Pivot \"Long\" to \"Wide Format"
   ]
  },
  {
   "cell_type": "code",
   "execution_count": null,
   "id": "0006ed86-731d-4c48-9857-3a83b2d3f555",
   "metadata": {},
   "outputs": [],
   "source": [
    "stock = pd.DataFrame({\n",
    "    'fruit': ['apple','plum','grape'] * 2,\n",
    "    'color' : ['purple','yellow'] * 3,\n",
    "    'piece' : [3,4,5,6,1,2]\n",
    "})\n",
    "stock"
   ]
  },
  {
   "cell_type": "code",
   "execution_count": null,
   "id": "3c827ad0-b26d-4225-ad1a-a8d3dcf3e134",
   "metadata": {},
   "outputs": [],
   "source": [
    "stock.sort_values(by = ['fruit','color'])"
   ]
  },
  {
   "cell_type": "code",
   "execution_count": null,
   "id": "85dc5bb5-cb6a-499b-a1e7-5a93bb2404a1",
   "metadata": {},
   "outputs": [],
   "source": [
    "# pivot to weide table\n",
    "stock.pivot(index = 'fruit', columns = 'color', values = 'piece')"
   ]
  },
  {
   "cell_type": "code",
   "execution_count": null,
   "id": "459eaf3f-d2d1-42a2-830a-ac74143a75fe",
   "metadata": {},
   "outputs": [],
   "source": [
    "stock['value'] = np.random.randn(len(stock))\n",
    "stock"
   ]
  },
  {
   "cell_type": "code",
   "execution_count": null,
   "id": "0c179cee-dc68-464c-8476-96c2696e5425",
   "metadata": {},
   "outputs": [],
   "source": [
    "p = stock.pivot(index = 'fruit',columns = 'color',values = ['piece','value'])\n",
    "p"
   ]
  },
  {
   "cell_type": "code",
   "execution_count": null,
   "id": "a27d64fa-85bb-436f-b951-2d648a66747c",
   "metadata": {},
   "outputs": [],
   "source": [
    "p['value']"
   ]
  },
  {
   "cell_type": "markdown",
   "id": "4d8a6fb2-0085-4ebd-9252-14ffbd5059bb",
   "metadata": {},
   "source": [
    "## Pivot \"Wide\" to \"Long\" Format"
   ]
  },
  {
   "cell_type": "code",
   "execution_count": 149,
   "id": "6af6ff1b-04de-4010-a699-f72effe4ce3a",
   "metadata": {},
   "outputs": [
    {
     "data": {
      "text/html": [
       "<div>\n",
       "<style scoped>\n",
       "    .dataframe tbody tr th:only-of-type {\n",
       "        vertical-align: middle;\n",
       "    }\n",
       "\n",
       "    .dataframe tbody tr th {\n",
       "        vertical-align: top;\n",
       "    }\n",
       "\n",
       "    .dataframe thead th {\n",
       "        text-align: right;\n",
       "    }\n",
       "</style>\n",
       "<table border=\"1\" class=\"dataframe\">\n",
       "  <thead>\n",
       "    <tr style=\"text-align: right;\">\n",
       "      <th></th>\n",
       "      <th>lesson</th>\n",
       "      <th>Sam</th>\n",
       "      <th>Kim</th>\n",
       "      <th>Tom</th>\n",
       "    </tr>\n",
       "  </thead>\n",
       "  <tbody>\n",
       "    <tr>\n",
       "      <th>0</th>\n",
       "      <td>math</td>\n",
       "      <td>50</td>\n",
       "      <td>80</td>\n",
       "      <td>60</td>\n",
       "    </tr>\n",
       "    <tr>\n",
       "      <th>1</th>\n",
       "      <td>stat</td>\n",
       "      <td>60</td>\n",
       "      <td>70</td>\n",
       "      <td>70</td>\n",
       "    </tr>\n",
       "    <tr>\n",
       "      <th>2</th>\n",
       "      <td>bio</td>\n",
       "      <td>70</td>\n",
       "      <td>90</td>\n",
       "      <td>85</td>\n",
       "    </tr>\n",
       "  </tbody>\n",
       "</table>\n",
       "</div>"
      ],
      "text/plain": [
       "  lesson  Sam  Kim  Tom\n",
       "0   math   50   80   60\n",
       "1   stat   60   70   70\n",
       "2    bio   70   90   85"
      ]
     },
     "execution_count": 149,
     "metadata": {},
     "output_type": "execute_result"
    }
   ],
   "source": [
    "data = pd.DataFrame({\n",
    "    'lesson' : ['math','stat','bio'],\n",
    "    'Sam' : [50,60,70],\n",
    "    'Kim' : [80,70,90],\n",
    "    'Tom' : [60,70,85]\n",
    "})\n",
    "data"
   ]
  },
  {
   "cell_type": "code",
   "execution_count": 150,
   "id": "5296eeb2-e848-4996-a5f0-b055a4921234",
   "metadata": {},
   "outputs": [
    {
     "data": {
      "text/html": [
       "<div>\n",
       "<style scoped>\n",
       "    .dataframe tbody tr th:only-of-type {\n",
       "        vertical-align: middle;\n",
       "    }\n",
       "\n",
       "    .dataframe tbody tr th {\n",
       "        vertical-align: top;\n",
       "    }\n",
       "\n",
       "    .dataframe thead th {\n",
       "        text-align: right;\n",
       "    }\n",
       "</style>\n",
       "<table border=\"1\" class=\"dataframe\">\n",
       "  <thead>\n",
       "    <tr style=\"text-align: right;\">\n",
       "      <th></th>\n",
       "      <th>lesson</th>\n",
       "      <th>variable</th>\n",
       "      <th>value</th>\n",
       "    </tr>\n",
       "  </thead>\n",
       "  <tbody>\n",
       "    <tr>\n",
       "      <th>0</th>\n",
       "      <td>math</td>\n",
       "      <td>Sam</td>\n",
       "      <td>50</td>\n",
       "    </tr>\n",
       "    <tr>\n",
       "      <th>1</th>\n",
       "      <td>stat</td>\n",
       "      <td>Sam</td>\n",
       "      <td>60</td>\n",
       "    </tr>\n",
       "    <tr>\n",
       "      <th>2</th>\n",
       "      <td>bio</td>\n",
       "      <td>Sam</td>\n",
       "      <td>70</td>\n",
       "    </tr>\n",
       "    <tr>\n",
       "      <th>3</th>\n",
       "      <td>math</td>\n",
       "      <td>Kim</td>\n",
       "      <td>80</td>\n",
       "    </tr>\n",
       "    <tr>\n",
       "      <th>4</th>\n",
       "      <td>stat</td>\n",
       "      <td>Kim</td>\n",
       "      <td>70</td>\n",
       "    </tr>\n",
       "    <tr>\n",
       "      <th>5</th>\n",
       "      <td>bio</td>\n",
       "      <td>Kim</td>\n",
       "      <td>90</td>\n",
       "    </tr>\n",
       "    <tr>\n",
       "      <th>6</th>\n",
       "      <td>math</td>\n",
       "      <td>Tom</td>\n",
       "      <td>60</td>\n",
       "    </tr>\n",
       "    <tr>\n",
       "      <th>7</th>\n",
       "      <td>stat</td>\n",
       "      <td>Tom</td>\n",
       "      <td>70</td>\n",
       "    </tr>\n",
       "    <tr>\n",
       "      <th>8</th>\n",
       "      <td>bio</td>\n",
       "      <td>Tom</td>\n",
       "      <td>85</td>\n",
       "    </tr>\n",
       "  </tbody>\n",
       "</table>\n",
       "</div>"
      ],
      "text/plain": [
       "  lesson variable  value\n",
       "0   math      Sam     50\n",
       "1   stat      Sam     60\n",
       "2    bio      Sam     70\n",
       "3   math      Kim     80\n",
       "4   stat      Kim     70\n",
       "5    bio      Kim     90\n",
       "6   math      Tom     60\n",
       "7   stat      Tom     70\n",
       "8    bio      Tom     85"
      ]
     },
     "execution_count": 150,
     "metadata": {},
     "output_type": "execute_result"
    }
   ],
   "source": [
    "# pandas melt to long table\n",
    "group = pd.melt(data,['lesson'])\n",
    "group"
   ]
  },
  {
   "cell_type": "code",
   "execution_count": null,
   "id": "92382916-58c0-4094-95a2-3bb2be9acbb4",
   "metadata": {},
   "outputs": [],
   "source": [
    "data = group.pivot(\n",
    "    index = 'lesson',\n",
    "    columns = 'variable',\n",
    "    values = 'value'\n",
    ")\n",
    "data"
   ]
  },
  {
   "cell_type": "code",
   "execution_count": null,
   "id": "8e7c7ab7-d2fa-4a73-bbd2-da59cfda32b6",
   "metadata": {},
   "outputs": [],
   "source": [
    "data.reset_index()"
   ]
  },
  {
   "cell_type": "markdown",
   "id": "fb94dbb0-6fe8-4ba5-9493-00efead2ea29",
   "metadata": {},
   "source": [
    "## Group by"
   ]
  },
  {
   "cell_type": "code",
   "execution_count": 218,
   "id": "c074ff34-49b5-4fd8-ac46-e0ddfbb69d13",
   "metadata": {},
   "outputs": [
    {
     "data": {
      "text/html": [
       "<div>\n",
       "<style scoped>\n",
       "    .dataframe tbody tr th:only-of-type {\n",
       "        vertical-align: middle;\n",
       "    }\n",
       "\n",
       "    .dataframe tbody tr th {\n",
       "        vertical-align: top;\n",
       "    }\n",
       "\n",
       "    .dataframe thead th {\n",
       "        text-align: right;\n",
       "    }\n",
       "</style>\n",
       "<table border=\"1\" class=\"dataframe\">\n",
       "  <thead>\n",
       "    <tr style=\"text-align: right;\">\n",
       "      <th></th>\n",
       "      <th>key1</th>\n",
       "      <th>key2</th>\n",
       "      <th>data1</th>\n",
       "      <th>data2</th>\n",
       "    </tr>\n",
       "  </thead>\n",
       "  <tbody>\n",
       "    <tr>\n",
       "      <th>0</th>\n",
       "      <td>a</td>\n",
       "      <td>one</td>\n",
       "      <td>-0.282512</td>\n",
       "      <td>-0.266833</td>\n",
       "    </tr>\n",
       "    <tr>\n",
       "      <th>1</th>\n",
       "      <td>a</td>\n",
       "      <td>two</td>\n",
       "      <td>-0.248609</td>\n",
       "      <td>-0.879424</td>\n",
       "    </tr>\n",
       "    <tr>\n",
       "      <th>2</th>\n",
       "      <td>b</td>\n",
       "      <td>three</td>\n",
       "      <td>-0.564737</td>\n",
       "      <td>-0.293870</td>\n",
       "    </tr>\n",
       "    <tr>\n",
       "      <th>3</th>\n",
       "      <td>b</td>\n",
       "      <td>one</td>\n",
       "      <td>-1.170940</td>\n",
       "      <td>-1.999769</td>\n",
       "    </tr>\n",
       "    <tr>\n",
       "      <th>4</th>\n",
       "      <td>a</td>\n",
       "      <td>two</td>\n",
       "      <td>-1.933762</td>\n",
       "      <td>-0.969820</td>\n",
       "    </tr>\n",
       "    <tr>\n",
       "      <th>5</th>\n",
       "      <td>b</td>\n",
       "      <td>three</td>\n",
       "      <td>1.094597</td>\n",
       "      <td>0.069437</td>\n",
       "    </tr>\n",
       "  </tbody>\n",
       "</table>\n",
       "</div>"
      ],
      "text/plain": [
       "  key1   key2     data1     data2\n",
       "0    a    one -0.282512 -0.266833\n",
       "1    a    two -0.248609 -0.879424\n",
       "2    b  three -0.564737 -0.293870\n",
       "3    b    one -1.170940 -1.999769\n",
       "4    a    two -1.933762 -0.969820\n",
       "5    b  three  1.094597  0.069437"
      ]
     },
     "execution_count": 218,
     "metadata": {},
     "output_type": "execute_result"
    }
   ],
   "source": [
    "df = pd.DataFrame({\n",
    "    'key1' : list('aabbab'),\n",
    "    'key2' : ['one','two','three'] * 2,\n",
    "    'data1' : np.random.randn(6),\n",
    "    'data2' : np.random.randn(6)\n",
    "})\n",
    "df"
   ]
  },
  {
   "cell_type": "code",
   "execution_count": 152,
   "id": "05dc6885-d7a6-46a7-b95e-13ff1f671ec4",
   "metadata": {},
   "outputs": [
    {
     "data": {
      "text/plain": [
       "<pandas.core.groupby.generic.SeriesGroupBy object at 0x000002CDA2B75ED0>"
      ]
     },
     "execution_count": 152,
     "metadata": {},
     "output_type": "execute_result"
    }
   ],
   "source": [
    "group = df['data1'].groupby(df['key1'])\n",
    "group"
   ]
  },
  {
   "cell_type": "code",
   "execution_count": null,
   "id": "9e26f923-9fed-48ce-b815-e70ba048afd7",
   "metadata": {},
   "outputs": [],
   "source": [
    "print(group.mean())\n",
    "print(group.count())\n",
    "print(group.max())\n",
    "print(group.min())"
   ]
  },
  {
   "cell_type": "code",
   "execution_count": 154,
   "id": "70b2814f-112e-4901-b4e7-dce30250d747",
   "metadata": {},
   "outputs": [
    {
     "data": {
      "text/plain": [
       "key1  key2 \n",
       "a     one     -2.281599\n",
       "      two      1.526482\n",
       "b     one     -0.903038\n",
       "      three   -0.521493\n",
       "Name: data1, dtype: float64"
      ]
     },
     "execution_count": 154,
     "metadata": {},
     "output_type": "execute_result"
    }
   ],
   "source": [
    "ave = df['data1'].groupby([df['key1'], df['key2']]).mean()\n",
    "ave"
   ]
  },
  {
   "cell_type": "code",
   "execution_count": 155,
   "id": "3ccd2016-65a4-45a9-99e6-46b088041a16",
   "metadata": {},
   "outputs": [
    {
     "data": {
      "text/html": [
       "<div>\n",
       "<style scoped>\n",
       "    .dataframe tbody tr th:only-of-type {\n",
       "        vertical-align: middle;\n",
       "    }\n",
       "\n",
       "    .dataframe tbody tr th {\n",
       "        vertical-align: top;\n",
       "    }\n",
       "\n",
       "    .dataframe thead th {\n",
       "        text-align: right;\n",
       "    }\n",
       "</style>\n",
       "<table border=\"1\" class=\"dataframe\">\n",
       "  <thead>\n",
       "    <tr style=\"text-align: right;\">\n",
       "      <th>key2</th>\n",
       "      <th>one</th>\n",
       "      <th>three</th>\n",
       "      <th>two</th>\n",
       "    </tr>\n",
       "    <tr>\n",
       "      <th>key1</th>\n",
       "      <th></th>\n",
       "      <th></th>\n",
       "      <th></th>\n",
       "    </tr>\n",
       "  </thead>\n",
       "  <tbody>\n",
       "    <tr>\n",
       "      <th>a</th>\n",
       "      <td>-2.281599</td>\n",
       "      <td>NaN</td>\n",
       "      <td>1.526482</td>\n",
       "    </tr>\n",
       "    <tr>\n",
       "      <th>b</th>\n",
       "      <td>-0.903038</td>\n",
       "      <td>-0.521493</td>\n",
       "      <td>NaN</td>\n",
       "    </tr>\n",
       "  </tbody>\n",
       "</table>\n",
       "</div>"
      ],
      "text/plain": [
       "key2       one     three       two\n",
       "key1                              \n",
       "a    -2.281599       NaN  1.526482\n",
       "b    -0.903038 -0.521493       NaN"
      ]
     },
     "execution_count": 155,
     "metadata": {},
     "output_type": "execute_result"
    }
   ],
   "source": [
    "ave.unstack()"
   ]
  },
  {
   "cell_type": "code",
   "execution_count": 156,
   "id": "948deebb-c7d6-4278-8a0e-cb3cf9eb87b4",
   "metadata": {},
   "outputs": [
    {
     "data": {
      "text/plain": [
       "key1\n",
       "a    0.257122\n",
       "b   -0.648675\n",
       "Name: data1, dtype: float64"
      ]
     },
     "execution_count": 156,
     "metadata": {},
     "output_type": "execute_result"
    }
   ],
   "source": [
    "df['data1'].groupby(df[\"key1\"]).mean()"
   ]
  },
  {
   "cell_type": "markdown",
   "id": "b4343fc8-8b20-4088-bfe7-2cadd5265871",
   "metadata": {},
   "source": [
    "## Select a column or a subset of columns"
   ]
  },
  {
   "cell_type": "code",
   "execution_count": 219,
   "id": "9cd4e554-9d41-41cb-8867-92d8e9c5dbef",
   "metadata": {},
   "outputs": [
    {
     "data": {
      "text/html": [
       "<div>\n",
       "<style scoped>\n",
       "    .dataframe tbody tr th:only-of-type {\n",
       "        vertical-align: middle;\n",
       "    }\n",
       "\n",
       "    .dataframe tbody tr th {\n",
       "        vertical-align: top;\n",
       "    }\n",
       "\n",
       "    .dataframe thead th {\n",
       "        text-align: right;\n",
       "    }\n",
       "</style>\n",
       "<table border=\"1\" class=\"dataframe\">\n",
       "  <thead>\n",
       "    <tr style=\"text-align: right;\">\n",
       "      <th></th>\n",
       "      <th>key1</th>\n",
       "      <th>key2</th>\n",
       "      <th>data1</th>\n",
       "      <th>data2</th>\n",
       "    </tr>\n",
       "  </thead>\n",
       "  <tbody>\n",
       "    <tr>\n",
       "      <th>0</th>\n",
       "      <td>a</td>\n",
       "      <td>one</td>\n",
       "      <td>-0.282512</td>\n",
       "      <td>-0.266833</td>\n",
       "    </tr>\n",
       "    <tr>\n",
       "      <th>1</th>\n",
       "      <td>a</td>\n",
       "      <td>two</td>\n",
       "      <td>-0.248609</td>\n",
       "      <td>-0.879424</td>\n",
       "    </tr>\n",
       "    <tr>\n",
       "      <th>2</th>\n",
       "      <td>b</td>\n",
       "      <td>three</td>\n",
       "      <td>-0.564737</td>\n",
       "      <td>-0.293870</td>\n",
       "    </tr>\n",
       "    <tr>\n",
       "      <th>3</th>\n",
       "      <td>b</td>\n",
       "      <td>one</td>\n",
       "      <td>-1.170940</td>\n",
       "      <td>-1.999769</td>\n",
       "    </tr>\n",
       "    <tr>\n",
       "      <th>4</th>\n",
       "      <td>a</td>\n",
       "      <td>two</td>\n",
       "      <td>-1.933762</td>\n",
       "      <td>-0.969820</td>\n",
       "    </tr>\n",
       "    <tr>\n",
       "      <th>5</th>\n",
       "      <td>b</td>\n",
       "      <td>three</td>\n",
       "      <td>1.094597</td>\n",
       "      <td>0.069437</td>\n",
       "    </tr>\n",
       "  </tbody>\n",
       "</table>\n",
       "</div>"
      ],
      "text/plain": [
       "  key1   key2     data1     data2\n",
       "0    a    one -0.282512 -0.266833\n",
       "1    a    two -0.248609 -0.879424\n",
       "2    b  three -0.564737 -0.293870\n",
       "3    b    one -1.170940 -1.999769\n",
       "4    a    two -1.933762 -0.969820\n",
       "5    b  three  1.094597  0.069437"
      ]
     },
     "execution_count": 219,
     "metadata": {},
     "output_type": "execute_result"
    }
   ],
   "source": [
    "df"
   ]
  },
  {
   "cell_type": "code",
   "execution_count": 220,
   "id": "a582f139-e1b9-48db-9aca-f73c9970b6a4",
   "metadata": {},
   "outputs": [
    {
     "data": {
      "text/plain": [
       "key1\n",
       "a   -0.821628\n",
       "b   -0.213693\n",
       "Name: data1, dtype: float64"
      ]
     },
     "execution_count": 220,
     "metadata": {},
     "output_type": "execute_result"
    }
   ],
   "source": [
    "# mean of data 1 by key1\n",
    "df.groupby('key1')['data1'].mean()"
   ]
  },
  {
   "cell_type": "code",
   "execution_count": 221,
   "id": "dc5b94e6-243b-4957-8694-0b0f02714783",
   "metadata": {},
   "outputs": [
    {
     "data": {
      "text/plain": [
       "key1  key2 \n",
       "a     one     -0.282512\n",
       "      two     -1.091185\n",
       "b     one     -1.170940\n",
       "      three    0.264930\n",
       "Name: data1, dtype: float64"
      ]
     },
     "execution_count": 221,
     "metadata": {},
     "output_type": "execute_result"
    }
   ],
   "source": [
    "# mean of data1 by key1, key2\n",
    "df.groupby(['key1','key2'])['data1'].mean()"
   ]
  },
  {
   "cell_type": "code",
   "execution_count": null,
   "id": "9615c030-768e-47e3-be24-79ce86b5fe0d",
   "metadata": {},
   "outputs": [],
   "source": [
    "# mean of data1, data2 by key1\n",
    "df.groupby('key1')[['data1','data2']].mean()"
   ]
  },
  {
   "cell_type": "code",
   "execution_count": null,
   "id": "052cda96-5c54-4b55-b599-64462e37be51",
   "metadata": {},
   "outputs": [],
   "source": [
    "# mean of data1, data2 by key1, key2\n",
    "df.groupby(['key1','key2'])[['data1','data2']].mean()"
   ]
  },
  {
   "cell_type": "code",
   "execution_count": null,
   "id": "bcbcea61-bb44-4291-9aa0-2e46887e2c95",
   "metadata": {},
   "outputs": [],
   "source": [
    "df.groupby(['key1','key2'])[['data1','data2']].mean().unstack()"
   ]
  },
  {
   "cell_type": "markdown",
   "id": "6496824a-ba72-4726-802d-8bba55635f9d",
   "metadata": {},
   "source": [
    "## Grouping by Index Levels"
   ]
  },
  {
   "cell_type": "code",
   "execution_count": 160,
   "id": "8e436251-ab7d-40dc-98f6-7db161d3b282",
   "metadata": {},
   "outputs": [],
   "source": [
    "data = pd.DataFrame(\n",
    "    np.random.randn(4,5),\n",
    "    columns = [list(\"AAABB\"),[1,2,3,1,2]]\n",
    ")"
   ]
  },
  {
   "cell_type": "code",
   "execution_count": 161,
   "id": "0ce33da2-5574-4289-9163-a0b383667d25",
   "metadata": {},
   "outputs": [
    {
     "data": {
      "text/html": [
       "<div>\n",
       "<style scoped>\n",
       "    .dataframe tbody tr th:only-of-type {\n",
       "        vertical-align: middle;\n",
       "    }\n",
       "\n",
       "    .dataframe tbody tr th {\n",
       "        vertical-align: top;\n",
       "    }\n",
       "\n",
       "    .dataframe thead tr th {\n",
       "        text-align: left;\n",
       "    }\n",
       "</style>\n",
       "<table border=\"1\" class=\"dataframe\">\n",
       "  <thead>\n",
       "    <tr>\n",
       "      <th>letter</th>\n",
       "      <th colspan=\"3\" halign=\"left\">A</th>\n",
       "      <th colspan=\"2\" halign=\"left\">B</th>\n",
       "    </tr>\n",
       "    <tr>\n",
       "      <th>number</th>\n",
       "      <th>1</th>\n",
       "      <th>2</th>\n",
       "      <th>3</th>\n",
       "      <th>1</th>\n",
       "      <th>2</th>\n",
       "    </tr>\n",
       "  </thead>\n",
       "  <tbody>\n",
       "    <tr>\n",
       "      <th>0</th>\n",
       "      <td>0.533683</td>\n",
       "      <td>0.615338</td>\n",
       "      <td>-1.708170</td>\n",
       "      <td>-1.387920</td>\n",
       "      <td>-1.169310</td>\n",
       "    </tr>\n",
       "    <tr>\n",
       "      <th>1</th>\n",
       "      <td>0.812617</td>\n",
       "      <td>-0.107062</td>\n",
       "      <td>2.277406</td>\n",
       "      <td>-1.447928</td>\n",
       "      <td>-0.282114</td>\n",
       "    </tr>\n",
       "    <tr>\n",
       "      <th>2</th>\n",
       "      <td>2.290889</td>\n",
       "      <td>-1.974606</td>\n",
       "      <td>-0.371216</td>\n",
       "      <td>0.232469</td>\n",
       "      <td>-0.508600</td>\n",
       "    </tr>\n",
       "    <tr>\n",
       "      <th>3</th>\n",
       "      <td>-1.538991</td>\n",
       "      <td>0.810725</td>\n",
       "      <td>0.166565</td>\n",
       "      <td>0.954000</td>\n",
       "      <td>0.496148</td>\n",
       "    </tr>\n",
       "  </tbody>\n",
       "</table>\n",
       "</div>"
      ],
      "text/plain": [
       "letter         A                             B          \n",
       "number         1         2         3         1         2\n",
       "0       0.533683  0.615338 -1.708170 -1.387920 -1.169310\n",
       "1       0.812617 -0.107062  2.277406 -1.447928 -0.282114\n",
       "2       2.290889 -1.974606 -0.371216  0.232469 -0.508600\n",
       "3      -1.538991  0.810725  0.166565  0.954000  0.496148"
      ]
     },
     "execution_count": 161,
     "metadata": {},
     "output_type": "execute_result"
    }
   ],
   "source": [
    "data.columns.names = ['letter','number']\n",
    "data"
   ]
  },
  {
   "cell_type": "code",
   "execution_count": 162,
   "id": "2eac0d67-12c1-4bd4-a148-36b921b059d0",
   "metadata": {},
   "outputs": [
    {
     "name": "stderr",
     "output_type": "stream",
     "text": [
      "C:\\Users\\Admin\\AppData\\Local\\Temp\\ipykernel_14380\\3016972824.py:1: FutureWarning: DataFrame.groupby with axis=1 is deprecated. Do `frame.T.groupby(...)` without axis instead.\n",
      "  data.groupby(level = 'letter',axis = 1).sum()\n"
     ]
    },
    {
     "data": {
      "text/html": [
       "<div>\n",
       "<style scoped>\n",
       "    .dataframe tbody tr th:only-of-type {\n",
       "        vertical-align: middle;\n",
       "    }\n",
       "\n",
       "    .dataframe tbody tr th {\n",
       "        vertical-align: top;\n",
       "    }\n",
       "\n",
       "    .dataframe thead th {\n",
       "        text-align: right;\n",
       "    }\n",
       "</style>\n",
       "<table border=\"1\" class=\"dataframe\">\n",
       "  <thead>\n",
       "    <tr style=\"text-align: right;\">\n",
       "      <th>letter</th>\n",
       "      <th>A</th>\n",
       "      <th>B</th>\n",
       "    </tr>\n",
       "  </thead>\n",
       "  <tbody>\n",
       "    <tr>\n",
       "      <th>0</th>\n",
       "      <td>-0.559149</td>\n",
       "      <td>-2.557230</td>\n",
       "    </tr>\n",
       "    <tr>\n",
       "      <th>1</th>\n",
       "      <td>2.982960</td>\n",
       "      <td>-1.730042</td>\n",
       "    </tr>\n",
       "    <tr>\n",
       "      <th>2</th>\n",
       "      <td>-0.054933</td>\n",
       "      <td>-0.276131</td>\n",
       "    </tr>\n",
       "    <tr>\n",
       "      <th>3</th>\n",
       "      <td>-0.561702</td>\n",
       "      <td>1.450148</td>\n",
       "    </tr>\n",
       "  </tbody>\n",
       "</table>\n",
       "</div>"
      ],
      "text/plain": [
       "letter         A         B\n",
       "0      -0.559149 -2.557230\n",
       "1       2.982960 -1.730042\n",
       "2      -0.054933 -0.276131\n",
       "3      -0.561702  1.450148"
      ]
     },
     "execution_count": 162,
     "metadata": {},
     "output_type": "execute_result"
    }
   ],
   "source": [
    "data.groupby(level = 'letter',axis = 1).sum()"
   ]
  },
  {
   "cell_type": "markdown",
   "id": "8bc73b7f-87a0-4064-903b-130a53d6b4c9",
   "metadata": {},
   "source": [
    "## Application with Real Dataset"
   ]
  },
  {
   "cell_type": "code",
   "execution_count": 163,
   "id": "5319284a-3a3f-4eba-8095-1017a4d30895",
   "metadata": {},
   "outputs": [],
   "source": [
    "game = pd.read_csv(\"vgsales.csv\")"
   ]
  },
  {
   "cell_type": "code",
   "execution_count": null,
   "id": "36f91ec2-2ae7-457c-8bd6-2d48e13dad37",
   "metadata": {},
   "outputs": [],
   "source": [
    "game.info()"
   ]
  },
  {
   "cell_type": "code",
   "execution_count": null,
   "id": "2de8ffce-367b-4aae-bde8-5caa83f46200",
   "metadata": {},
   "outputs": [],
   "source": [
    "# print top 5\n",
    "game.head()"
   ]
  },
  {
   "cell_type": "code",
   "execution_count": null,
   "id": "f9905b50-e64b-4824-9590-479ff838d217",
   "metadata": {},
   "outputs": [],
   "source": [
    "game['Name'].describe()"
   ]
  },
  {
   "cell_type": "code",
   "execution_count": null,
   "id": "8d13ba5b-b07a-4be2-a3de-55960d47954b",
   "metadata": {},
   "outputs": [],
   "source": [
    "# describe data\n",
    "game.describe()"
   ]
  },
  {
   "cell_type": "code",
   "execution_count": null,
   "id": "1a30e627-3932-4926-b2b2-4b9e6bf8ec78",
   "metadata": {},
   "outputs": [],
   "source": [
    "# average Global_Sales\n",
    "game['Global_Sales'].mean()"
   ]
  },
  {
   "cell_type": "code",
   "execution_count": 164,
   "id": "02751d88-b9d9-4bb3-a9a8-1a69aa99add6",
   "metadata": {},
   "outputs": [],
   "source": [
    "# total Global Sales of each genre\n",
    "global_sales_groupby = game['Global_Sales'].groupby(game['Genre'])"
   ]
  },
  {
   "cell_type": "code",
   "execution_count": 165,
   "id": "dfa1b610-2b42-47e4-b3d5-0f15083cd2b9",
   "metadata": {},
   "outputs": [
    {
     "name": "stdout",
     "output_type": "stream",
     "text": [
      "Genre\n",
      "Platform        0.938341\n",
      "Shooter         0.791885\n",
      "Role-Playing    0.623233\n",
      "Racing          0.586101\n",
      "Sports          0.567319\n",
      "Fighting        0.529375\n",
      "Action          0.528100\n",
      "Misc            0.465762\n",
      "Simulation      0.452364\n",
      "Puzzle          0.420876\n",
      "Strategy        0.257151\n",
      "Adventure       0.185879\n",
      "Name: Global_Sales, dtype: float64\n"
     ]
    }
   ],
   "source": [
    "print(global_sales_groupby.mean().sort_values(ascending = False))"
   ]
  },
  {
   "cell_type": "code",
   "execution_count": null,
   "id": "3c3c7787-6bbc-498c-970e-1cefade1beaa",
   "metadata": {},
   "outputs": [],
   "source": [
    "print(global_sales_groupby.median().sort_values(ascending = False))"
   ]
  },
  {
   "cell_type": "code",
   "execution_count": null,
   "id": "a616ef90-8a87-496b-9eb4-5f4938b3574d",
   "metadata": {},
   "outputs": [],
   "source": [
    "print(global_sales_groupby.sum().sort_values(ascending = False))"
   ]
  },
  {
   "cell_type": "code",
   "execution_count": null,
   "id": "47d16aa4-8ec1-4691-b86d-ed96b45b63b4",
   "metadata": {},
   "outputs": [],
   "source": [
    "global_sales_groupby.sum().sort_values(ascending = True).plot(kind = 'barh')"
   ]
  },
  {
   "cell_type": "code",
   "execution_count": 166,
   "id": "c01aa270-794d-4d3c-b783-baaeae6cd7e7",
   "metadata": {},
   "outputs": [],
   "source": [
    "g = game[[\n",
    "    'NA_Sales',\n",
    "    'EU_Sales',\n",
    "    'JP_Sales']].groupby(game['Genre'])"
   ]
  },
  {
   "cell_type": "code",
   "execution_count": 167,
   "id": "1c0715d8-b0d7-4170-8ac8-fa617f3aed9b",
   "metadata": {},
   "outputs": [
    {
     "data": {
      "text/plain": [
       "<Axes: xlabel='Genre'>"
      ]
     },
     "execution_count": 167,
     "metadata": {},
     "output_type": "execute_result"
    },
    {
     "data": {
      "image/png": "[encoded data removed]",
      "text/plain": [
       "<Figure size 640x480 with 1 Axes>"
      ]
     },
     "metadata": {},
     "output_type": "display_data"
    }
   ],
   "source": [
    "g.sum().sort_values(by=['NA_Sales','EU_Sales','JP_Sales'],ascending = False).plot(kind = 'bar')"
   ]
  },
  {
   "cell_type": "markdown",
   "id": "dbc604b3-933d-4660-aba4-b4c73ea0be94",
   "metadata": {},
   "source": [
    "## Exercise"
   ]
  },
  {
   "cell_type": "code",
   "execution_count": 168,
   "id": "f4815eab-55ff-4f0f-b8cb-09fd6790e53a",
   "metadata": {},
   "outputs": [],
   "source": [
    "'''\n",
    "    Tạo bảng mean_sale: ghi nhận doanh thu trung bình của 4 thị trường NA, EU, JP, Other theo từng tựa game\n",
    "'''\n",
    "mean_sale = game[['NA_Sales','EU_Sales','JP_Sales','Other_Sales']].groupby(game['Name']).mean().sort_values(by=['NA_Sales'], ascending = False)"
   ]
  },
  {
   "cell_type": "code",
   "execution_count": 169,
   "id": "9b1b6ff0-3666-43fa-896f-3f8f7eb12766",
   "metadata": {},
   "outputs": [
    {
     "data": {
      "text/html": [
       "<div>\n",
       "<style scoped>\n",
       "    .dataframe tbody tr th:only-of-type {\n",
       "        vertical-align: middle;\n",
       "    }\n",
       "\n",
       "    .dataframe tbody tr th {\n",
       "        vertical-align: top;\n",
       "    }\n",
       "\n",
       "    .dataframe thead th {\n",
       "        text-align: right;\n",
       "    }\n",
       "</style>\n",
       "<table border=\"1\" class=\"dataframe\">\n",
       "  <thead>\n",
       "    <tr style=\"text-align: right;\">\n",
       "      <th></th>\n",
       "      <th>Rank</th>\n",
       "      <th>Name</th>\n",
       "      <th>Platform</th>\n",
       "      <th>Year</th>\n",
       "      <th>Genre</th>\n",
       "      <th>Publisher</th>\n",
       "      <th>NA_Sales</th>\n",
       "      <th>EU_Sales</th>\n",
       "      <th>JP_Sales</th>\n",
       "      <th>Other_Sales</th>\n",
       "      <th>Global_Sales</th>\n",
       "    </tr>\n",
       "  </thead>\n",
       "  <tbody>\n",
       "    <tr>\n",
       "      <th>0</th>\n",
       "      <td>1</td>\n",
       "      <td>Wii Sports</td>\n",
       "      <td>Wii</td>\n",
       "      <td>2006.0</td>\n",
       "      <td>Sports</td>\n",
       "      <td>Nintendo</td>\n",
       "      <td>41.49</td>\n",
       "      <td>29.02</td>\n",
       "      <td>3.77</td>\n",
       "      <td>8.46</td>\n",
       "      <td>82.74</td>\n",
       "    </tr>\n",
       "  </tbody>\n",
       "</table>\n",
       "</div>"
      ],
      "text/plain": [
       "   Rank        Name Platform    Year   Genre Publisher  NA_Sales  EU_Sales  \\\n",
       "0     1  Wii Sports      Wii  2006.0  Sports  Nintendo     41.49     29.02   \n",
       "\n",
       "   JP_Sales  Other_Sales  Global_Sales  \n",
       "0      3.77         8.46         82.74  "
      ]
     },
     "execution_count": 169,
     "metadata": {},
     "output_type": "execute_result"
    }
   ],
   "source": [
    "game.head(1)"
   ]
  },
  {
   "cell_type": "code",
   "execution_count": 170,
   "id": "ae41ef08-11cc-4901-a3e0-f77a66dee467",
   "metadata": {},
   "outputs": [
    {
     "data": {
      "text/plain": [
       "count                           16598\n",
       "unique                          11493\n",
       "top       Need for Speed: Most Wanted\n",
       "freq                               12\n",
       "Name: Name, dtype: object"
      ]
     },
     "execution_count": 170,
     "metadata": {},
     "output_type": "execute_result"
    }
   ],
   "source": [
    "game['Name'].describe()"
   ]
  },
  {
   "cell_type": "code",
   "execution_count": 171,
   "id": "fd46ebf2-bcea-492b-9a50-cdb2f3749d06",
   "metadata": {},
   "outputs": [],
   "source": [
    "'''\n",
    "    Tạo bảng publish_year: ghi nhận năm phát hàng của từng tựa game\n",
    "'''\n",
    "publish_year = game['Year'].groupby(game['Name']).min()\n",
    "#publish_year.min().isnull().sum()"
   ]
  },
  {
   "cell_type": "code",
   "execution_count": 172,
   "id": "c6c14755-a974-4c38-b3af-d0bce7afe17b",
   "metadata": {},
   "outputs": [
    {
     "data": {
      "text/html": [
       "<div>\n",
       "<style scoped>\n",
       "    .dataframe tbody tr th:only-of-type {\n",
       "        vertical-align: middle;\n",
       "    }\n",
       "\n",
       "    .dataframe tbody tr th {\n",
       "        vertical-align: top;\n",
       "    }\n",
       "\n",
       "    .dataframe thead th {\n",
       "        text-align: right;\n",
       "    }\n",
       "</style>\n",
       "<table border=\"1\" class=\"dataframe\">\n",
       "  <thead>\n",
       "    <tr style=\"text-align: right;\">\n",
       "      <th></th>\n",
       "      <th>NA_Sales</th>\n",
       "      <th>EU_Sales</th>\n",
       "      <th>JP_Sales</th>\n",
       "      <th>Other_Sales</th>\n",
       "      <th>Year</th>\n",
       "    </tr>\n",
       "    <tr>\n",
       "      <th>Name</th>\n",
       "      <th></th>\n",
       "      <th></th>\n",
       "      <th></th>\n",
       "      <th></th>\n",
       "      <th></th>\n",
       "    </tr>\n",
       "  </thead>\n",
       "  <tbody>\n",
       "    <tr>\n",
       "      <th>Wii Sports</th>\n",
       "      <td>41.49</td>\n",
       "      <td>29.02</td>\n",
       "      <td>3.77</td>\n",
       "      <td>8.460</td>\n",
       "      <td>2006.0</td>\n",
       "    </tr>\n",
       "    <tr>\n",
       "      <th>Duck Hunt</th>\n",
       "      <td>26.93</td>\n",
       "      <td>0.63</td>\n",
       "      <td>0.28</td>\n",
       "      <td>0.470</td>\n",
       "      <td>1984.0</td>\n",
       "    </tr>\n",
       "    <tr>\n",
       "      <th>Super Mario Bros.</th>\n",
       "      <td>16.24</td>\n",
       "      <td>2.44</td>\n",
       "      <td>3.48</td>\n",
       "      <td>0.495</td>\n",
       "      <td>1985.0</td>\n",
       "    </tr>\n",
       "    <tr>\n",
       "      <th>Mario Kart Wii</th>\n",
       "      <td>15.85</td>\n",
       "      <td>12.88</td>\n",
       "      <td>3.79</td>\n",
       "      <td>3.310</td>\n",
       "      <td>2008.0</td>\n",
       "    </tr>\n",
       "    <tr>\n",
       "      <th>Wii Sports Resort</th>\n",
       "      <td>15.75</td>\n",
       "      <td>11.01</td>\n",
       "      <td>3.28</td>\n",
       "      <td>2.960</td>\n",
       "      <td>2009.0</td>\n",
       "    </tr>\n",
       "    <tr>\n",
       "      <th>...</th>\n",
       "      <td>...</td>\n",
       "      <td>...</td>\n",
       "      <td>...</td>\n",
       "      <td>...</td>\n",
       "      <td>...</td>\n",
       "    </tr>\n",
       "    <tr>\n",
       "      <th>Pachitte Chonmage Tatsujin 10: Pachinko Fuyu no Sonata</th>\n",
       "      <td>0.00</td>\n",
       "      <td>0.00</td>\n",
       "      <td>0.09</td>\n",
       "      <td>0.000</td>\n",
       "      <td>2007.0</td>\n",
       "    </tr>\n",
       "    <tr>\n",
       "      <th>Pachinko Wars II</th>\n",
       "      <td>0.00</td>\n",
       "      <td>0.00</td>\n",
       "      <td>0.05</td>\n",
       "      <td>0.000</td>\n",
       "      <td>1993.0</td>\n",
       "    </tr>\n",
       "    <tr>\n",
       "      <th>Pachinko Kaou: Misora Hibari</th>\n",
       "      <td>0.00</td>\n",
       "      <td>0.00</td>\n",
       "      <td>0.02</td>\n",
       "      <td>0.000</td>\n",
       "      <td>2007.0</td>\n",
       "    </tr>\n",
       "    <tr>\n",
       "      <th>Pachinko Kamen Rider: Shocker Zenmetsu Daisakusen</th>\n",
       "      <td>0.00</td>\n",
       "      <td>0.00</td>\n",
       "      <td>0.03</td>\n",
       "      <td>0.000</td>\n",
       "      <td>2008.0</td>\n",
       "    </tr>\n",
       "    <tr>\n",
       "      <th>¡Shin Chan Flipa en colores!</th>\n",
       "      <td>0.00</td>\n",
       "      <td>0.00</td>\n",
       "      <td>0.14</td>\n",
       "      <td>0.000</td>\n",
       "      <td>2007.0</td>\n",
       "    </tr>\n",
       "  </tbody>\n",
       "</table>\n",
       "<p>11493 rows × 5 columns</p>\n",
       "</div>"
      ],
      "text/plain": [
       "                                                    NA_Sales  EU_Sales  \\\n",
       "Name                                                                     \n",
       "Wii Sports                                             41.49     29.02   \n",
       "Duck Hunt                                              26.93      0.63   \n",
       "Super Mario Bros.                                      16.24      2.44   \n",
       "Mario Kart Wii                                         15.85     12.88   \n",
       "Wii Sports Resort                                      15.75     11.01   \n",
       "...                                                      ...       ...   \n",
       "Pachitte Chonmage Tatsujin 10: Pachinko Fuyu no...      0.00      0.00   \n",
       "Pachinko Wars II                                        0.00      0.00   \n",
       "Pachinko Kaou: Misora Hibari                            0.00      0.00   \n",
       "Pachinko Kamen Rider: Shocker Zenmetsu Daisakusen       0.00      0.00   \n",
       "¡Shin Chan Flipa en colores!                            0.00      0.00   \n",
       "\n",
       "                                                    JP_Sales  Other_Sales  \\\n",
       "Name                                                                        \n",
       "Wii Sports                                              3.77        8.460   \n",
       "Duck Hunt                                               0.28        0.470   \n",
       "Super Mario Bros.                                       3.48        0.495   \n",
       "Mario Kart Wii                                          3.79        3.310   \n",
       "Wii Sports Resort                                       3.28        2.960   \n",
       "...                                                      ...          ...   \n",
       "Pachitte Chonmage Tatsujin 10: Pachinko Fuyu no...      0.09        0.000   \n",
       "Pachinko Wars II                                        0.05        0.000   \n",
       "Pachinko Kaou: Misora Hibari                            0.02        0.000   \n",
       "Pachinko Kamen Rider: Shocker Zenmetsu Daisakusen       0.03        0.000   \n",
       "¡Shin Chan Flipa en colores!                            0.14        0.000   \n",
       "\n",
       "                                                      Year  \n",
       "Name                                                        \n",
       "Wii Sports                                          2006.0  \n",
       "Duck Hunt                                           1984.0  \n",
       "Super Mario Bros.                                   1985.0  \n",
       "Mario Kart Wii                                      2008.0  \n",
       "Wii Sports Resort                                   2009.0  \n",
       "...                                                    ...  \n",
       "Pachitte Chonmage Tatsujin 10: Pachinko Fuyu no...  2007.0  \n",
       "Pachinko Wars II                                    1993.0  \n",
       "Pachinko Kaou: Misora Hibari                        2007.0  \n",
       "Pachinko Kamen Rider: Shocker Zenmetsu Daisakusen   2008.0  \n",
       "¡Shin Chan Flipa en colores!                        2007.0  \n",
       "\n",
       "[11493 rows x 5 columns]"
      ]
     },
     "execution_count": 172,
     "metadata": {},
     "output_type": "execute_result"
    }
   ],
   "source": [
    "'''\n",
    "    Merge bảng mean_sale và publish_year, key là tựa game\n",
    "'''\n",
    "pd.merge(\n",
    "    mean_sale, publish_year,\n",
    "    left_on = 'Name',\n",
    "    right_on = 'Name'\n",
    ")"
   ]
  },
  {
   "cell_type": "code",
   "execution_count": null,
   "id": "f95eef06-fa88-4bed-b8b0-e2e62c73fe25",
   "metadata": {},
   "outputs": [],
   "source": [
    "'''\n",
    "    Tạo bảng sale gồm các cột Name, NA_Sales, EU_Sales, JP_Sales, Other_Sales\n",
    "    Chuyển bảng sale từ dạng wide về dạng long table\n",
    "'''\n",
    "games = game[['Name','NA_Sales','EU_Sales','JP_Sales','Other_Sales']]\n",
    "games"
   ]
  },
  {
   "cell_type": "code",
   "execution_count": null,
   "id": "f20a27c9-b91e-4abb-97ac-317cdaa048dc",
   "metadata": {},
   "outputs": [],
   "source": [
    "pd.melt(games,'Name')"
   ]
  },
  {
   "cell_type": "markdown",
   "id": "37fecbe2-b5d8-4ac3-bb88-2ca2765a46f1",
   "metadata": {},
   "source": [
    "## Pivot table"
   ]
  },
  {
   "cell_type": "code",
   "execution_count": 174,
   "id": "9f442982-55f9-47df-9d67-447bc288e594",
   "metadata": {},
   "outputs": [
    {
     "data": {
      "text/html": [
       "<div>\n",
       "<style scoped>\n",
       "    .dataframe tbody tr th:only-of-type {\n",
       "        vertical-align: middle;\n",
       "    }\n",
       "\n",
       "    .dataframe tbody tr th {\n",
       "        vertical-align: top;\n",
       "    }\n",
       "\n",
       "    .dataframe thead th {\n",
       "        text-align: right;\n",
       "    }\n",
       "</style>\n",
       "<table border=\"1\" class=\"dataframe\">\n",
       "  <thead>\n",
       "    <tr style=\"text-align: right;\">\n",
       "      <th></th>\n",
       "      <th>class</th>\n",
       "      <th>lesson</th>\n",
       "      <th>sex</th>\n",
       "      <th>sibling</th>\n",
       "      <th>score</th>\n",
       "    </tr>\n",
       "  </thead>\n",
       "  <tbody>\n",
       "    <tr>\n",
       "      <th>0</th>\n",
       "      <td>A</td>\n",
       "      <td>math</td>\n",
       "      <td>M</td>\n",
       "      <td>1</td>\n",
       "      <td>40</td>\n",
       "    </tr>\n",
       "    <tr>\n",
       "      <th>1</th>\n",
       "      <td>B</td>\n",
       "      <td>stat</td>\n",
       "      <td>F</td>\n",
       "      <td>2</td>\n",
       "      <td>45</td>\n",
       "    </tr>\n",
       "    <tr>\n",
       "      <th>2</th>\n",
       "      <td>C</td>\n",
       "      <td>math</td>\n",
       "      <td>M</td>\n",
       "      <td>3</td>\n",
       "      <td>50</td>\n",
       "    </tr>\n",
       "    <tr>\n",
       "      <th>3</th>\n",
       "      <td>A</td>\n",
       "      <td>stat</td>\n",
       "      <td>M</td>\n",
       "      <td>1</td>\n",
       "      <td>55</td>\n",
       "    </tr>\n",
       "    <tr>\n",
       "      <th>4</th>\n",
       "      <td>B</td>\n",
       "      <td>math</td>\n",
       "      <td>M</td>\n",
       "      <td>2</td>\n",
       "      <td>60</td>\n",
       "    </tr>\n",
       "    <tr>\n",
       "      <th>5</th>\n",
       "      <td>C</td>\n",
       "      <td>stat</td>\n",
       "      <td>F</td>\n",
       "      <td>3</td>\n",
       "      <td>65</td>\n",
       "    </tr>\n",
       "    <tr>\n",
       "      <th>6</th>\n",
       "      <td>A</td>\n",
       "      <td>math</td>\n",
       "      <td>M</td>\n",
       "      <td>1</td>\n",
       "      <td>70</td>\n",
       "    </tr>\n",
       "    <tr>\n",
       "      <th>7</th>\n",
       "      <td>B</td>\n",
       "      <td>stat</td>\n",
       "      <td>M</td>\n",
       "      <td>2</td>\n",
       "      <td>75</td>\n",
       "    </tr>\n",
       "    <tr>\n",
       "      <th>8</th>\n",
       "      <td>C</td>\n",
       "      <td>math</td>\n",
       "      <td>M</td>\n",
       "      <td>3</td>\n",
       "      <td>80</td>\n",
       "    </tr>\n",
       "    <tr>\n",
       "      <th>9</th>\n",
       "      <td>A</td>\n",
       "      <td>stat</td>\n",
       "      <td>F</td>\n",
       "      <td>1</td>\n",
       "      <td>85</td>\n",
       "    </tr>\n",
       "    <tr>\n",
       "      <th>10</th>\n",
       "      <td>B</td>\n",
       "      <td>math</td>\n",
       "      <td>M</td>\n",
       "      <td>2</td>\n",
       "      <td>90</td>\n",
       "    </tr>\n",
       "    <tr>\n",
       "      <th>11</th>\n",
       "      <td>C</td>\n",
       "      <td>stat</td>\n",
       "      <td>M</td>\n",
       "      <td>3</td>\n",
       "      <td>95</td>\n",
       "    </tr>\n",
       "  </tbody>\n",
       "</table>\n",
       "</div>"
      ],
      "text/plain": [
       "   class lesson sex  sibling  score\n",
       "0      A   math   M        1     40\n",
       "1      B   stat   F        2     45\n",
       "2      C   math   M        3     50\n",
       "3      A   stat   M        1     55\n",
       "4      B   math   M        2     60\n",
       "5      C   stat   F        3     65\n",
       "6      A   math   M        1     70\n",
       "7      B   stat   M        2     75\n",
       "8      C   math   M        3     80\n",
       "9      A   stat   F        1     85\n",
       "10     B   math   M        2     90\n",
       "11     C   stat   M        3     95"
      ]
     },
     "execution_count": 174,
     "metadata": {},
     "output_type": "execute_result"
    }
   ],
   "source": [
    "df = pd.DataFrame({\n",
    "    'class' : list('ABC')*4,\n",
    "    'lesson' : ['math','stat']*6,\n",
    "    'sex' : list('MFMM')*3,\n",
    "    'sibling' : [1,2,3]*4,\n",
    "    'score' : np.arange(40,100,5)\n",
    "})\n",
    "df"
   ]
  },
  {
   "cell_type": "code",
   "execution_count": null,
   "id": "c0cbb4bd-5747-4b5c-af6d-23c27571687d",
   "metadata": {},
   "outputs": [],
   "source": [
    "df.groupby('lesson')['score'].mean()"
   ]
  },
  {
   "cell_type": "code",
   "execution_count": null,
   "id": "fa8ee4f0-af45-4a29-853a-d29c339be277",
   "metadata": {},
   "outputs": [],
   "source": [
    "df.groupby(['lesson','class'])['score'].aggregate('mean').unstack()"
   ]
  },
  {
   "cell_type": "markdown",
   "id": "03e074b0-dd8f-4b3d-8aba-3f1df1f1bee8",
   "metadata": {},
   "source": [
    "### - Pivot"
   ]
  },
  {
   "cell_type": "code",
   "execution_count": null,
   "id": "392c6584-7f6e-4a45-b629-ddee2b3eb0db",
   "metadata": {},
   "outputs": [],
   "source": [
    "df.pivot_table(\n",
    "    index = ['class','lesson'],   # hàng - row\n",
    "    columns = 'sex',              # cột - columns\n",
    "    values = ['sibling','score']  # giá trị điền vào - values\n",
    ")"
   ]
  },
  {
   "cell_type": "code",
   "execution_count": null,
   "id": "0afd4462-133d-4fbc-94ea-6c49a470cc41",
   "metadata": {},
   "outputs": [],
   "source": [
    "df.pivot_table(\n",
    "    ['sibling','score'],\n",
    "    index = ['class','lesson'],\n",
    "    columns = 'sex',\n",
    "    margins = True\n",
    ")"
   ]
  },
  {
   "cell_type": "code",
   "execution_count": null,
   "id": "3a548bc9-bf48-42dd-91ac-c646b4872af2",
   "metadata": {},
   "outputs": [],
   "source": [
    "df.pivot_table(\n",
    "    ['sibling','score'],\n",
    "    index = ['class','lesson'],\n",
    "    columns = 'sex',\n",
    "    fill_value = 0\n",
    ")"
   ]
  },
  {
   "cell_type": "markdown",
   "id": "8cfc7588-d3a7-4d2d-9fea-4c33d04057d4",
   "metadata": {},
   "source": [
    "## Cross-Tabulations: Crosstab"
   ]
  },
  {
   "cell_type": "code",
   "execution_count": 176,
   "id": "ed2b6106-ddeb-4f00-be6f-c2764f3e1555",
   "metadata": {},
   "outputs": [
    {
     "data": {
      "text/html": [
       "<div>\n",
       "<style scoped>\n",
       "    .dataframe tbody tr th:only-of-type {\n",
       "        vertical-align: middle;\n",
       "    }\n",
       "\n",
       "    .dataframe tbody tr th {\n",
       "        vertical-align: top;\n",
       "    }\n",
       "\n",
       "    .dataframe thead th {\n",
       "        text-align: right;\n",
       "    }\n",
       "</style>\n",
       "<table border=\"1\" class=\"dataframe\">\n",
       "  <thead>\n",
       "    <tr style=\"text-align: right;\">\n",
       "      <th></th>\n",
       "      <th>class</th>\n",
       "      <th>lesson</th>\n",
       "      <th>sex</th>\n",
       "      <th>sibling</th>\n",
       "      <th>score</th>\n",
       "    </tr>\n",
       "  </thead>\n",
       "  <tbody>\n",
       "    <tr>\n",
       "      <th>0</th>\n",
       "      <td>A</td>\n",
       "      <td>math</td>\n",
       "      <td>M</td>\n",
       "      <td>1</td>\n",
       "      <td>40</td>\n",
       "    </tr>\n",
       "    <tr>\n",
       "      <th>1</th>\n",
       "      <td>B</td>\n",
       "      <td>stat</td>\n",
       "      <td>F</td>\n",
       "      <td>2</td>\n",
       "      <td>45</td>\n",
       "    </tr>\n",
       "    <tr>\n",
       "      <th>2</th>\n",
       "      <td>C</td>\n",
       "      <td>math</td>\n",
       "      <td>M</td>\n",
       "      <td>3</td>\n",
       "      <td>50</td>\n",
       "    </tr>\n",
       "    <tr>\n",
       "      <th>3</th>\n",
       "      <td>A</td>\n",
       "      <td>stat</td>\n",
       "      <td>M</td>\n",
       "      <td>1</td>\n",
       "      <td>55</td>\n",
       "    </tr>\n",
       "    <tr>\n",
       "      <th>4</th>\n",
       "      <td>B</td>\n",
       "      <td>math</td>\n",
       "      <td>M</td>\n",
       "      <td>2</td>\n",
       "      <td>60</td>\n",
       "    </tr>\n",
       "    <tr>\n",
       "      <th>5</th>\n",
       "      <td>C</td>\n",
       "      <td>stat</td>\n",
       "      <td>F</td>\n",
       "      <td>3</td>\n",
       "      <td>65</td>\n",
       "    </tr>\n",
       "    <tr>\n",
       "      <th>6</th>\n",
       "      <td>A</td>\n",
       "      <td>math</td>\n",
       "      <td>M</td>\n",
       "      <td>1</td>\n",
       "      <td>70</td>\n",
       "    </tr>\n",
       "    <tr>\n",
       "      <th>7</th>\n",
       "      <td>B</td>\n",
       "      <td>stat</td>\n",
       "      <td>M</td>\n",
       "      <td>2</td>\n",
       "      <td>75</td>\n",
       "    </tr>\n",
       "    <tr>\n",
       "      <th>8</th>\n",
       "      <td>C</td>\n",
       "      <td>math</td>\n",
       "      <td>M</td>\n",
       "      <td>3</td>\n",
       "      <td>80</td>\n",
       "    </tr>\n",
       "    <tr>\n",
       "      <th>9</th>\n",
       "      <td>A</td>\n",
       "      <td>stat</td>\n",
       "      <td>F</td>\n",
       "      <td>1</td>\n",
       "      <td>85</td>\n",
       "    </tr>\n",
       "    <tr>\n",
       "      <th>10</th>\n",
       "      <td>B</td>\n",
       "      <td>math</td>\n",
       "      <td>M</td>\n",
       "      <td>2</td>\n",
       "      <td>90</td>\n",
       "    </tr>\n",
       "    <tr>\n",
       "      <th>11</th>\n",
       "      <td>C</td>\n",
       "      <td>stat</td>\n",
       "      <td>M</td>\n",
       "      <td>3</td>\n",
       "      <td>95</td>\n",
       "    </tr>\n",
       "  </tbody>\n",
       "</table>\n",
       "</div>"
      ],
      "text/plain": [
       "   class lesson sex  sibling  score\n",
       "0      A   math   M        1     40\n",
       "1      B   stat   F        2     45\n",
       "2      C   math   M        3     50\n",
       "3      A   stat   M        1     55\n",
       "4      B   math   M        2     60\n",
       "5      C   stat   F        3     65\n",
       "6      A   math   M        1     70\n",
       "7      B   stat   M        2     75\n",
       "8      C   math   M        3     80\n",
       "9      A   stat   F        1     85\n",
       "10     B   math   M        2     90\n",
       "11     C   stat   M        3     95"
      ]
     },
     "execution_count": 176,
     "metadata": {},
     "output_type": "execute_result"
    }
   ],
   "source": [
    "df"
   ]
  },
  {
   "cell_type": "code",
   "execution_count": 175,
   "id": "9981dbeb-2164-491d-bbb9-4cb206fb950b",
   "metadata": {},
   "outputs": [
    {
     "data": {
      "text/html": [
       "<div>\n",
       "<style scoped>\n",
       "    .dataframe tbody tr th:only-of-type {\n",
       "        vertical-align: middle;\n",
       "    }\n",
       "\n",
       "    .dataframe tbody tr th {\n",
       "        vertical-align: top;\n",
       "    }\n",
       "\n",
       "    .dataframe thead th {\n",
       "        text-align: right;\n",
       "    }\n",
       "</style>\n",
       "<table border=\"1\" class=\"dataframe\">\n",
       "  <thead>\n",
       "    <tr style=\"text-align: right;\">\n",
       "      <th></th>\n",
       "      <th>sex</th>\n",
       "      <th>F</th>\n",
       "      <th>M</th>\n",
       "    </tr>\n",
       "    <tr>\n",
       "      <th>sibling</th>\n",
       "      <th>lesson</th>\n",
       "      <th></th>\n",
       "      <th></th>\n",
       "    </tr>\n",
       "  </thead>\n",
       "  <tbody>\n",
       "    <tr>\n",
       "      <th rowspan=\"2\" valign=\"top\">1</th>\n",
       "      <th>math</th>\n",
       "      <td>0</td>\n",
       "      <td>2</td>\n",
       "    </tr>\n",
       "    <tr>\n",
       "      <th>stat</th>\n",
       "      <td>1</td>\n",
       "      <td>1</td>\n",
       "    </tr>\n",
       "    <tr>\n",
       "      <th rowspan=\"2\" valign=\"top\">2</th>\n",
       "      <th>math</th>\n",
       "      <td>0</td>\n",
       "      <td>2</td>\n",
       "    </tr>\n",
       "    <tr>\n",
       "      <th>stat</th>\n",
       "      <td>1</td>\n",
       "      <td>1</td>\n",
       "    </tr>\n",
       "    <tr>\n",
       "      <th rowspan=\"2\" valign=\"top\">3</th>\n",
       "      <th>math</th>\n",
       "      <td>0</td>\n",
       "      <td>2</td>\n",
       "    </tr>\n",
       "    <tr>\n",
       "      <th>stat</th>\n",
       "      <td>1</td>\n",
       "      <td>1</td>\n",
       "    </tr>\n",
       "  </tbody>\n",
       "</table>\n",
       "</div>"
      ],
      "text/plain": [
       "sex             F  M\n",
       "sibling lesson      \n",
       "1       math    0  2\n",
       "        stat    1  1\n",
       "2       math    0  2\n",
       "        stat    1  1\n",
       "3       math    0  2\n",
       "        stat    1  1"
      ]
     },
     "execution_count": 175,
     "metadata": {},
     "output_type": "execute_result"
    }
   ],
   "source": [
    "# pandas crosstab df sibling and lesson\n",
    "pd.crosstab([df.sibling,df.lesson], df.sex)"
   ]
  },
  {
   "cell_type": "markdown",
   "id": "94cfdad7-fc3d-4d65-837f-b2fa97ccc7b1",
   "metadata": {},
   "source": [
    "## [Important] Working with Text Data"
   ]
  },
  {
   "cell_type": "code",
   "execution_count": null,
   "id": "2bbbe5b8-1ca9-4d58-8d00-fc1c59159ae6",
   "metadata": {},
   "outputs": [],
   "source": [
    "'hello'.upper()"
   ]
  },
  {
   "cell_type": "markdown",
   "id": "45671093-e78e-4f9a-895c-f708df5d52d9",
   "metadata": {},
   "source": [
    "### Vectorized String Functions in Pandas"
   ]
  },
  {
   "cell_type": "code",
   "execution_count": 177,
   "id": "2cc6ae4a-e5b7-472d-8260-44bb75f4cc30",
   "metadata": {},
   "outputs": [],
   "source": [
    "data = ['tim','Kate','SUSan',np.nan,'aLEX']"
   ]
  },
  {
   "cell_type": "code",
   "execution_count": 179,
   "id": "4bab27fa-920d-45b0-9a30-d29dc351927f",
   "metadata": {},
   "outputs": [],
   "source": [
    "name = pd.Series(data)"
   ]
  },
  {
   "cell_type": "code",
   "execution_count": 180,
   "id": "5d1be889-9772-4e11-ab56-2061a8337de4",
   "metadata": {},
   "outputs": [
    {
     "data": {
      "text/plain": [
       "0      Tim\n",
       "1     Kate\n",
       "2    Susan\n",
       "3      NaN\n",
       "4     Alex\n",
       "dtype: object"
      ]
     },
     "execution_count": 180,
     "metadata": {},
     "output_type": "execute_result"
    }
   ],
   "source": [
    "name.str.capitalize()"
   ]
  },
  {
   "cell_type": "code",
   "execution_count": 181,
   "id": "bb948563-77bc-4257-b3a8-829c73785057",
   "metadata": {},
   "outputs": [
    {
     "data": {
      "text/plain": [
       "0      tim\n",
       "1     kate\n",
       "2    susan\n",
       "3      NaN\n",
       "4     alex\n",
       "dtype: object"
      ]
     },
     "execution_count": 181,
     "metadata": {},
     "output_type": "execute_result"
    }
   ],
   "source": [
    "name.str.lower()"
   ]
  },
  {
   "cell_type": "code",
   "execution_count": 182,
   "id": "c9ba57f3-ddc9-474e-8b17-fae5919254e5",
   "metadata": {},
   "outputs": [
    {
     "data": {
      "text/plain": [
       "0    3.0\n",
       "1    4.0\n",
       "2    5.0\n",
       "3    NaN\n",
       "4    4.0\n",
       "dtype: float64"
      ]
     },
     "execution_count": 182,
     "metadata": {},
     "output_type": "execute_result"
    }
   ],
   "source": [
    "name.str.len()"
   ]
  },
  {
   "cell_type": "code",
   "execution_count": 185,
   "id": "5dd2c27f-edde-42e6-86de-935cc11ba6bf",
   "metadata": {},
   "outputs": [
    {
     "data": {
      "text/plain": [
       "0    False\n",
       "1    False\n",
       "2    False\n",
       "3      NaN\n",
       "4     True\n",
       "dtype: object"
      ]
     },
     "execution_count": 185,
     "metadata": {},
     "output_type": "execute_result"
    }
   ],
   "source": [
    "name.str.startswith('a')\n",
    "\n",
    "#hàm trả về True/False dùng làm điều kiện lọc data"
   ]
  },
  {
   "cell_type": "code",
   "execution_count": null,
   "id": "e6f0cc12-1669-49ab-94ed-a278b28ef27d",
   "metadata": {},
   "outputs": [],
   "source": [
    "df = pd.DataFrame(\n",
    "    np.random.randn(3,2),\n",
    "    columns = ['Column A','Column B'],\n",
    "    index = range(3)\n",
    ")\n",
    "df"
   ]
  },
  {
   "cell_type": "code",
   "execution_count": null,
   "id": "d3526765-bf4b-448b-90e1-0d2ec33501ec",
   "metadata": {},
   "outputs": [],
   "source": [
    "df.columns"
   ]
  },
  {
   "cell_type": "code",
   "execution_count": null,
   "id": "31a68d15-1620-47e0-bbe4-7c8730c331aa",
   "metadata": {},
   "outputs": [],
   "source": [
    "df.columns.str.lower().str.replace(' ','_')"
   ]
  },
  {
   "cell_type": "code",
   "execution_count": 188,
   "id": "ecdbde31-1a4d-446f-99ce-8e51a024d688",
   "metadata": {},
   "outputs": [
    {
     "data": {
      "text/plain": [
       "0    a_b_c\n",
       "1    c_d_d\n",
       "2      NaN\n",
       "3    f_g_h\n",
       "dtype: object"
      ]
     },
     "execution_count": 188,
     "metadata": {},
     "output_type": "execute_result"
    }
   ],
   "source": [
    "s = pd.Series(['a_b_c','c_d_d',np.nan,'f_g_h'])\n",
    "s"
   ]
  },
  {
   "cell_type": "code",
   "execution_count": 189,
   "id": "74655a74-6f17-4b28-abf5-a89e124d6b80",
   "metadata": {},
   "outputs": [
    {
     "data": {
      "text/plain": [
       "0      b\n",
       "1      d\n",
       "2    NaN\n",
       "3      g\n",
       "dtype: object"
      ]
     },
     "execution_count": 189,
     "metadata": {},
     "output_type": "execute_result"
    }
   ],
   "source": [
    "s.str.split('_').str[1]"
   ]
  },
  {
   "cell_type": "code",
   "execution_count": 190,
   "id": "4d29f339-c682-460e-bd88-8c6ade3a0c1a",
   "metadata": {},
   "outputs": [
    {
     "data": {
      "text/html": [
       "<div>\n",
       "<style scoped>\n",
       "    .dataframe tbody tr th:only-of-type {\n",
       "        vertical-align: middle;\n",
       "    }\n",
       "\n",
       "    .dataframe tbody tr th {\n",
       "        vertical-align: top;\n",
       "    }\n",
       "\n",
       "    .dataframe thead th {\n",
       "        text-align: right;\n",
       "    }\n",
       "</style>\n",
       "<table border=\"1\" class=\"dataframe\">\n",
       "  <thead>\n",
       "    <tr style=\"text-align: right;\">\n",
       "      <th></th>\n",
       "      <th>0</th>\n",
       "      <th>1</th>\n",
       "    </tr>\n",
       "  </thead>\n",
       "  <tbody>\n",
       "    <tr>\n",
       "      <th>0</th>\n",
       "      <td>a</td>\n",
       "      <td>b_c</td>\n",
       "    </tr>\n",
       "    <tr>\n",
       "      <th>1</th>\n",
       "      <td>c</td>\n",
       "      <td>d_d</td>\n",
       "    </tr>\n",
       "    <tr>\n",
       "      <th>2</th>\n",
       "      <td>NaN</td>\n",
       "      <td>NaN</td>\n",
       "    </tr>\n",
       "    <tr>\n",
       "      <th>3</th>\n",
       "      <td>f</td>\n",
       "      <td>g_h</td>\n",
       "    </tr>\n",
       "  </tbody>\n",
       "</table>\n",
       "</div>"
      ],
      "text/plain": [
       "     0    1\n",
       "0    a  b_c\n",
       "1    c  d_d\n",
       "2  NaN  NaN\n",
       "3    f  g_h"
      ]
     },
     "execution_count": 190,
     "metadata": {},
     "output_type": "execute_result"
    }
   ],
   "source": [
    "s.str.split('_', expand = True, n=1)"
   ]
  },
  {
   "cell_type": "code",
   "execution_count": 192,
   "id": "63fd333c-36bf-4d86-bcf1-31dfc5702581",
   "metadata": {},
   "outputs": [
    {
     "data": {
      "text/plain": [
       "0       15\n",
       "1     -$20\n",
       "2    $3000\n",
       "dtype: object"
      ]
     },
     "execution_count": 192,
     "metadata": {},
     "output_type": "execute_result"
    }
   ],
   "source": [
    "money = pd.Series(['15','-$20','$3000'])\n",
    "money"
   ]
  },
  {
   "cell_type": "code",
   "execution_count": 195,
   "id": "b26501c7-aaf5-4f0d-8984-7e7105fd6031",
   "metadata": {},
   "outputs": [
    {
     "data": {
      "text/plain": [
       "0       15\n",
       "1       20\n",
       "2    $3000\n",
       "dtype: object"
      ]
     },
     "execution_count": 195,
     "metadata": {},
     "output_type": "execute_result"
    }
   ],
   "source": [
    "money.str.replace('-$','')"
   ]
  },
  {
   "cell_type": "code",
   "execution_count": null,
   "id": "07aaed8b-2127-41b7-bdb1-dd4239909da5",
   "metadata": {},
   "outputs": [],
   "source": [
    "money.str.replace('-$','-')"
   ]
  },
  {
   "cell_type": "code",
   "execution_count": null,
   "id": "ae3347b8-2da5-445b-8743-714c77c7430b",
   "metadata": {},
   "outputs": [],
   "source": [
    "film = pd.read_csv('http:/bit.ly/imdbratings')\n",
    "film.head()"
   ]
  },
  {
   "cell_type": "code",
   "execution_count": null,
   "id": "caa6e3a7-e89a-4f62-9d45-9cf526b1964c",
   "metadata": {},
   "outputs": [],
   "source": [
    "film.title.str.upper()"
   ]
  },
  {
   "cell_type": "code",
   "execution_count": null,
   "id": "8a2daf0f-2a4a-4953-ae0a-a7aff8b3b397",
   "metadata": {},
   "outputs": [],
   "source": [
    "film.columns = film.columns.str.capitalize()"
   ]
  },
  {
   "cell_type": "code",
   "execution_count": null,
   "id": "c468d53a-e4dc-4f0a-868e-e0b7faa79d09",
   "metadata": {},
   "outputs": [],
   "source": [
    "film.head()"
   ]
  },
  {
   "cell_type": "code",
   "execution_count": null,
   "id": "63b6a36a-0428-4b65-b563-793646a0dea8",
   "metadata": {},
   "outputs": [],
   "source": [
    "film[film.Actors_list.str.contains('Brad Pitt')]"
   ]
  },
  {
   "cell_type": "code",
   "execution_count": null,
   "id": "0fa4787c-4b03-44df-a638-74ee7505851a",
   "metadata": {},
   "outputs": [],
   "source": [
    "film.Actors_list.str.replace('[','')"
   ]
  },
  {
   "cell_type": "code",
   "execution_count": null,
   "id": "f3dc3a75-0b3e-4090-931d-8a7cbd6f5744",
   "metadata": {},
   "outputs": [],
   "source": [
    "film.Actors_list.str.replace('[','').str.replace(']','')"
   ]
  },
  {
   "cell_type": "markdown",
   "id": "d1f8485c-6db7-4bd3-98f6-2fab51fe2c40",
   "metadata": {},
   "source": [
    "## [Important] Working with Time Series in Pandas"
   ]
  },
  {
   "cell_type": "markdown",
   "id": "8edee84d-943f-462d-a3cd-f9389cc62715",
   "metadata": {},
   "source": [
    "### *to_datetime* method"
   ]
  },
  {
   "cell_type": "code",
   "execution_count": 200,
   "id": "a240c56c-5de4-4e97-b632-850016c7c8fe",
   "metadata": {},
   "outputs": [
    {
     "data": {
      "text/plain": [
       "Timestamp('2019-08-15 00:00:00')"
      ]
     },
     "execution_count": 200,
     "metadata": {},
     "output_type": "execute_result"
    }
   ],
   "source": [
    "# convert '15/08/2019' to datetime\n",
    "\n",
    "pd.to_datetime('15/08/2019',dayfirst=True)\n"
   ]
  },
  {
   "cell_type": "code",
   "execution_count": 201,
   "id": "1bef4013-78d1-4705-bfc8-e1db4b56ccd7",
   "metadata": {},
   "outputs": [],
   "source": [
    "date = ['2019-01-05','jan 6, 2019',\n",
    "       '7/05/2019','2019/01/9','20190110']"
   ]
  },
  {
   "cell_type": "code",
   "execution_count": 203,
   "id": "b658774a-16da-4d14-87e6-f6893ce89a4c",
   "metadata": {},
   "outputs": [
    {
     "data": {
      "text/plain": [
       "DatetimeIndex(['2019-01-05', '2019-01-06', '2019-07-05', '2019-01-09',\n",
       "               '2019-01-10'],\n",
       "              dtype='datetime64[ns]', freq=None)"
      ]
     },
     "execution_count": 203,
     "metadata": {},
     "output_type": "execute_result"
    }
   ],
   "source": [
    "pd.to_datetime(date, format='mixed')"
   ]
  },
  {
   "cell_type": "code",
   "execution_count": 132,
   "id": "067d78e3-e6b0-476d-ac63-9fd0638a8a99",
   "metadata": {},
   "outputs": [
    {
     "data": {
      "text/plain": [
       "Timestamp('2019-03-05 00:00:00')"
      ]
     },
     "execution_count": 132,
     "metadata": {},
     "output_type": "execute_result"
    }
   ],
   "source": [
    "pd.to_datetime('03/05/2019')"
   ]
  },
  {
   "cell_type": "code",
   "execution_count": 204,
   "id": "bd3e0903-cdd1-4aac-95a7-343e81ade3d9",
   "metadata": {},
   "outputs": [
    {
     "data": {
      "text/plain": [
       "Timestamp('2019-03-05 00:00:00')"
      ]
     },
     "execution_count": 204,
     "metadata": {},
     "output_type": "execute_result"
    }
   ],
   "source": [
    "pd.to_datetime('05/03/2019',dayfirst = True)"
   ]
  },
  {
   "cell_type": "code",
   "execution_count": 207,
   "id": "4cfc24de-a7fa-4d57-bdad-61ec06f908df",
   "metadata": {},
   "outputs": [
    {
     "data": {
      "text/plain": [
       "Timestamp('2019-03-05 00:00:00')"
      ]
     },
     "execution_count": 207,
     "metadata": {},
     "output_type": "execute_result"
    }
   ],
   "source": [
    "pd.to_datetime('05/03/2019',format = '%d/%m/%Y',dayfirst = True)\n",
    "\n",
    "// ứng với //\n",
    "** ứng **\n",
    "\n",
    "#format params ở đây là để Python hiểu ngày của mình đang định dạng theo thứ tự nào"
   ]
  },
  {
   "cell_type": "code",
   "execution_count": null,
   "id": "3dc6f918-1c14-4731-8236-9a5905b3abde",
   "metadata": {},
   "outputs": [],
   "source": [
    "pd.to_datetime('05/03/2019',format = '%d$%m$%Y')"
   ]
  },
  {
   "cell_type": "code",
   "execution_count": 209,
   "id": "44e2ef22-e042-4d00-8897-0b2b3fc09977",
   "metadata": {},
   "outputs": [],
   "source": [
    "date =[\n",
    "    '2019-01-05',\n",
    "    'jan 6, 2019',\n",
    "    '7/05/2019',\n",
    "    '2019/01/9',\n",
    "    '20190110',\n",
    "    'xyz'\n",
    "] "
   ]
  },
  {
   "cell_type": "code",
   "execution_count": 213,
   "id": "1b6d390d-3865-44e2-98e4-d7e4512c1dd2",
   "metadata": {},
   "outputs": [
    {
     "data": {
      "text/plain": [
       "DatetimeIndex(['2019-01-05', '2019-01-06', '2019-07-05', '2019-01-09',\n",
       "               '2019-01-10', 'NaT'],\n",
       "              dtype='datetime64[ns]', freq=None)"
      ]
     },
     "execution_count": 213,
     "metadata": {},
     "output_type": "execute_result"
    }
   ],
   "source": [
    "pd.to_datetime(date, format = 'mixed', errors = 'coerce')"
   ]
  },
  {
   "cell_type": "code",
   "execution_count": null,
   "id": "28971218-f903-4e13-9a5f-b328d64bfb75",
   "metadata": {},
   "outputs": [],
   "source": [
    "pd.to_datetime(date, errors = 'coerce')"
   ]
  },
  {
   "cell_type": "code",
   "execution_count": null,
   "id": "b7e5d33c-d352-4d9e-9f2b-664c61db41c0",
   "metadata": {},
   "outputs": [],
   "source": []
  },
  {
   "cell_type": "code",
   "execution_count": null,
   "id": "88452e19-e6e9-4e8f-af74-de0f27c22c07",
   "metadata": {},
   "outputs": [],
   "source": [
    "t = 1 000 000 000"
   ]
  },
  {
   "cell_type": "code",
   "execution_count": null,
   "id": "7b4fb032-7993-46b6-85fc-1e481214f7d9",
   "metadata": {},
   "outputs": [],
   "source": [
    "pd.to_datetime(t, unit = 's')"
   ]
  }
 ],
 "metadata": {
  "kernelspec": {
   "display_name": "Python 3 (ipykernel)",
   "language": "python",
   "name": "python3"
  },
  "language_info": {
   "codemirror_mode": {
    "name": "ipython",
    "version": 3
   },
   "file_extension": ".py",
   "mimetype": "text/x-python",
   "name": "python",
   "nbconvert_exporter": "python",
   "pygments_lexer": "ipython3",
   "version": "3.11.7"
  }
 },
 "nbformat": 4,
 "nbformat_minor": 5
}
