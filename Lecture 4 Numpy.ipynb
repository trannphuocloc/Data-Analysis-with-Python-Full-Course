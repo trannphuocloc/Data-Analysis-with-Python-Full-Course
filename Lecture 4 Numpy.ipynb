{
 "cells": [
  {
   "cell_type": "markdown",
   "id": "3f9bb66b-5c55-4126-be4c-ebf7dbb9f761",
   "metadata": {},
   "source": [
    "# Lecture 4: Introduction to Numpy"
   ]
  },
  {
   "cell_type": "code",
   "execution_count": 3,
   "id": "fe5f1026-bd20-456a-bfd3-356463b91236",
   "metadata": {},
   "outputs": [],
   "source": [
    "import numpy as np"
   ]
  },
  {
   "cell_type": "markdown",
   "id": "d330b2da-fa55-4aac-8b60-718930f7771f",
   "metadata": {},
   "source": [
    "## Tổng quan\n",
    "- Numpy (Numeric Python): là một thư viện toán học phổ biến và mạnh mẽ của Python. Cho phép làm việc hiệu quả với ma trận và mảng\n",
    "- Các phẩn tử của array phải cùng kiểu dtype (ép kiểu sẽ xảy ra khi cần thiết)\n",
    "- Numpy array là party mutable: có thể thay đổi các element đang có, nhưng không thể thay đổi kích thước của cả array (no apeend, remove, delete)"
   ]
  },
  {
   "cell_type": "markdown",
   "id": "63a56ecc-4f35-4076-ad58-58b3fa9b96b2",
   "metadata": {},
   "source": [
    "### Tạo Numpy array"
   ]
  },
  {
   "cell_type": "code",
   "execution_count": 2,
   "id": "1cd94ec9-f7c4-4c03-985f-73334d4ea83e",
   "metadata": {},
   "outputs": [
    {
     "name": "stdout",
     "output_type": "stream",
     "text": [
      "[1 2 3 4]\n",
      "<class 'numpy.ndarray'>\n",
      "int32\n"
     ]
    }
   ],
   "source": [
    "# 1. From a list\n",
    "l = [1, 2, 3, 4]\n",
    "a = np.array(l)\n",
    "\n",
    "print(a)\n",
    "print(type(a))\n",
    "print(a.dtype)"
   ]
  },
  {
   "cell_type": "code",
   "execution_count": 3,
   "id": "90d980cd-eb11-4ec3-bd98-5c01d6c3a639",
   "metadata": {},
   "outputs": [
    {
     "name": "stdout",
     "output_type": "stream",
     "text": [
      "[1 2 3 4]\n",
      "<class 'numpy.ndarray'>\n",
      "int32\n"
     ]
    }
   ],
   "source": [
    "# 2. From a tuple\n",
    "t = (1, 2, 3, 4)\n",
    "a = np.array(t)\n",
    "\n",
    "print(a)\n",
    "print(type(a))\n",
    "print(a.dtype)"
   ]
  },
  {
   "cell_type": "code",
   "execution_count": 4,
   "id": "6afc69fa-9a5c-4bed-be4a-303017531ca6",
   "metadata": {},
   "outputs": [
    {
     "data": {
      "text/plain": [
       "array(['1', '2', '3', 'a'], dtype='<U11')"
      ]
     },
     "execution_count": 4,
     "metadata": {},
     "output_type": "execute_result"
    }
   ],
   "source": [
    "t = (1, 2, 3, 'a')\n",
    "a = np.array(t)\n",
    "\n",
    "a"
   ]
  },
  {
   "cell_type": "code",
   "execution_count": 6,
   "id": "3fcdf49f-36b9-48d6-8b96-41511dd4564d",
   "metadata": {},
   "outputs": [
    {
     "name": "stdout",
     "output_type": "stream",
     "text": [
      "[0 1 2 3 4 5 6 7 8]\n",
      "<class 'numpy.ndarray'>\n",
      "int32\n"
     ]
    }
   ],
   "source": [
    "# Using numpy.arange()\n",
    "a = np.arange(9)\n",
    "\n",
    "print(a)\n",
    "print(type(a))\n",
    "print(a.dtype)"
   ]
  },
  {
   "cell_type": "code",
   "execution_count": 4,
   "id": "6dba1a7a-baac-4399-afb3-0850113f5cf1",
   "metadata": {},
   "outputs": [
    {
     "name": "stdout",
     "output_type": "stream",
     "text": [
      "[[1 2]\n",
      " [3 4]]\n",
      "<class 'numpy.ndarray'>\n",
      "int32\n"
     ]
    }
   ],
   "source": [
    "# 4. Multi-dimensional array\n",
    "a = np.array([[1,2],[3,4]])\n",
    "\n",
    "print(a)\n",
    "print(type(a))  # type của toàn bộ a\n",
    "print(a.dtype)  # type của từng element trong a "
   ]
  },
  {
   "cell_type": "code",
   "execution_count": 10,
   "id": "85632e2a-bb07-4706-84ac-9777a8211e45",
   "metadata": {},
   "outputs": [
    {
     "name": "stdout",
     "output_type": "stream",
     "text": [
      "[0 1 2 3 4 5 6 7 8]\n",
      "[99  1  2  3  4  5  6  7  8]\n"
     ]
    }
   ],
   "source": [
    "# Try to modify an array (OK)\n",
    "a = np.arange(9)\n",
    "print(a)\n",
    "\n",
    "a[0] = 99\n",
    "print(a)"
   ]
  },
  {
   "cell_type": "code",
   "execution_count": 11,
   "id": "6195aa2f-0bbf-4c52-b946-55dada24ee4f",
   "metadata": {},
   "outputs": [
    {
     "name": "stdout",
     "output_type": "stream",
     "text": [
      "[0 1 2 3 4 5 6 7 8]\n"
     ]
    },
    {
     "ename": "ValueError",
     "evalue": "cannot delete array elements",
     "output_type": "error",
     "traceback": [
      "\u001b[1;31m---------------------------------------------------------------------------\u001b[0m",
      "\u001b[1;31mValueError\u001b[0m                                Traceback (most recent call last)",
      "Cell \u001b[1;32mIn[11], line 5\u001b[0m\n\u001b[0;32m      2\u001b[0m a \u001b[38;5;241m=\u001b[39m np\u001b[38;5;241m.\u001b[39marange(\u001b[38;5;241m9\u001b[39m)\n\u001b[0;32m      3\u001b[0m \u001b[38;5;28mprint\u001b[39m(a)\n\u001b[1;32m----> 5\u001b[0m \u001b[38;5;28;01mdel\u001b[39;00m a[\u001b[38;5;241m0\u001b[39m]\n",
      "\u001b[1;31mValueError\u001b[0m: cannot delete array elements"
     ]
    }
   ],
   "source": [
    "# Try to modify an array'size (Error)\n",
    "a = np.arange(9)\n",
    "print(a)\n",
    "\n",
    "del a[0]"
   ]
  },
  {
   "cell_type": "code",
   "execution_count": 12,
   "id": "f5554dd7-cb78-4301-9d76-377ce4113f9e",
   "metadata": {},
   "outputs": [
    {
     "name": "stdout",
     "output_type": "stream",
     "text": [
      "[1 0 1 2]\n",
      "int32\n"
     ]
    }
   ],
   "source": [
    "# Convert bool to int\n",
    "a = np.array([True, False, 1, 2])\n",
    "print(a)\n",
    "print(a.dtype)"
   ]
  },
  {
   "cell_type": "code",
   "execution_count": 13,
   "id": "cdedcdb6-5c6b-4f3c-836b-6ba79ae76233",
   "metadata": {},
   "outputs": [
    {
     "name": "stdout",
     "output_type": "stream",
     "text": [
      "['1' '2' 'a']\n",
      "<U11\n"
     ]
    }
   ],
   "source": [
    "# Convert in to string\n",
    "a = np.array([1, 2, \"a\"])\n",
    "\n",
    "print(a)\n",
    "print(a.dtype)"
   ]
  },
  {
   "cell_type": "code",
   "execution_count": 12,
   "id": "d2614cdc-0efb-4a61-ad6b-6a3fe54c8a30",
   "metadata": {},
   "outputs": [
    {
     "name": "stdout",
     "output_type": "stream",
     "text": [
      "[[0. 0.]\n",
      " [0. 0.]]\n",
      "[[1. 1.]]\n",
      "[[7 7]\n",
      " [7 7]]\n",
      "[[1. 0.]\n",
      " [0. 1.]]\n",
      "[0 1 2 3]\n"
     ]
    }
   ],
   "source": [
    "# # Other method to create arrays\n",
    "a = np.zeros((2,2))   \n",
    "print(a)              # mảng dữ liệu 0\n",
    "\n",
    "b = np.ones((1,2))\n",
    "print(b)              # mảng dữ liệu 1\n",
    "\n",
    "c = np.full((2,2), 7)\n",
    "print(c)\n",
    "\n",
    "d = np.eye(2)\n",
    "print(d)              # ma trận chéo\n",
    "\n",
    "e = np.arange(0,4)\n",
    "print(e)"
   ]
  },
  {
   "cell_type": "markdown",
   "id": "31bc65db-c57d-4db2-a8d5-690936151e3e",
   "metadata": {},
   "source": [
    "### Thao tác với Numpy array"
   ]
  },
  {
   "cell_type": "markdown",
   "id": "4b57c91e-aeba-4229-842f-752405f08057",
   "metadata": {},
   "source": [
    "#### Lấy thông tin cơ bản"
   ]
  },
  {
   "cell_type": "code",
   "execution_count": 18,
   "id": "d8b3aba3-1f9d-476c-ae45-599fc417d5b9",
   "metadata": {},
   "outputs": [],
   "source": [
    "a = np.array([1,2,3])\n",
    "b = np.array([[1,2],[3,4]])"
   ]
  },
  {
   "cell_type": "code",
   "execution_count": 20,
   "id": "63c515bc-0ade-4ad3-b33e-3537bee6b47e",
   "metadata": {},
   "outputs": [
    {
     "name": "stdout",
     "output_type": "stream",
     "text": [
      "3\n",
      "3\n",
      "4\n",
      "2\n"
     ]
    }
   ],
   "source": [
    "#Size\n",
    "print(a.size)   \n",
    "print(len(a))\n",
    "\n",
    "print(b.size)   #size - 4 phần tử\n",
    "print(len(b))   #len = 2 ele lists"
   ]
  },
  {
   "cell_type": "code",
   "execution_count": 21,
   "id": "6cac7319-9d40-4b60-9d08-13cc0bcd0f30",
   "metadata": {},
   "outputs": [
    {
     "name": "stdout",
     "output_type": "stream",
     "text": [
      "int32\n",
      "int32\n"
     ]
    }
   ],
   "source": [
    "# dtype\n",
    "print(a.dtype)\n",
    "print(b.dtype)"
   ]
  },
  {
   "cell_type": "code",
   "execution_count": 22,
   "id": "0143ddde-0e68-4a87-84e8-3fd26bab1829",
   "metadata": {},
   "outputs": [
    {
     "name": "stdout",
     "output_type": "stream",
     "text": [
      "(3,)\n",
      "(2, 2)\n"
     ]
    }
   ],
   "source": [
    "# shape\n",
    "print(a.shape)\n",
    "print(b.shape)"
   ]
  },
  {
   "cell_type": "code",
   "execution_count": 23,
   "id": "a2e8c4ec-8da3-41fd-a1fc-e3b06dce83e1",
   "metadata": {},
   "outputs": [
    {
     "name": "stdout",
     "output_type": "stream",
     "text": [
      "1\n",
      "2\n"
     ]
    }
   ],
   "source": [
    "# dimension\n",
    "print(a.ndim)\n",
    "print(b.ndim)"
   ]
  },
  {
   "cell_type": "markdown",
   "id": "d3c20d32-5aff-4c64-993d-b2ead026cc0b",
   "metadata": {},
   "source": [
    "#### Indexing & Slicing"
   ]
  },
  {
   "cell_type": "markdown",
   "id": "2f896fe9-6788-4794-ae45-bf8067b832c9",
   "metadata": {},
   "source": [
    "##### 1-D array"
   ]
  },
  {
   "cell_type": "code",
   "execution_count": 26,
   "id": "941c5505-7e7e-4a4e-be52-a28974a2c7ce",
   "metadata": {},
   "outputs": [
    {
     "name": "stdout",
     "output_type": "stream",
     "text": [
      "[ 0  1  2  3  4  5  6  7  8  9 10 11]\n"
     ]
    }
   ],
   "source": [
    "a = np.arange(12)\n",
    "print(a)"
   ]
  },
  {
   "cell_type": "code",
   "execution_count": 30,
   "id": "1a6a8891-976a-46af-ba87-9976e1adddc5",
   "metadata": {},
   "outputs": [
    {
     "name": "stdout",
     "output_type": "stream",
     "text": [
      "0\n",
      "11\n",
      "[0 1 2]\n",
      "[ 3  4  5  6  7  8  9 10 11]\n"
     ]
    }
   ],
   "source": [
    "# 1st element\n",
    "print(a[0])\n",
    "\n",
    "# last element\n",
    "print(a[-1])\n",
    "\n",
    "# 1st to 3rd\n",
    "print(a[:3])\n",
    "\n",
    "# 3rd to last\n",
    "print(a[3:])"
   ]
  },
  {
   "cell_type": "code",
   "execution_count": 13,
   "id": "34da49a4-aed9-4d66-ab45-3f700ee6f2a2",
   "metadata": {},
   "outputs": [
    {
     "name": "stdout",
     "output_type": "stream",
     "text": [
      "[[ 1  2  3  4]\n",
      " [ 5  6  7  8]\n",
      " [ 9 10 11 12]]\n",
      "[[2 3]\n",
      " [6 7]]\n"
     ]
    }
   ],
   "source": [
    "a = np.array([[1,2,3,4], [5,6,7,8,], [9,10,11,12]])\n",
    "print(a)\n",
    "print(a[:2, 1:3])"
   ]
  },
  {
   "cell_type": "markdown",
   "id": "62175f60-895e-4f38-9cfc-e6663540a2e9",
   "metadata": {},
   "source": [
    "##### n-D array"
   ]
  },
  {
   "cell_type": "code",
   "execution_count": 33,
   "id": "f5ccab06-82ab-4d07-94f1-c0ac511531f7",
   "metadata": {},
   "outputs": [
    {
     "name": "stdout",
     "output_type": "stream",
     "text": [
      "[[0 1 2]\n",
      " [3 4 5]\n",
      " [6 7 8]]\n"
     ]
    }
   ],
   "source": [
    "# Note: try with order = \"F\"\n",
    "a = np.arange(9).reshape((3,3))\n",
    "print(a)"
   ]
  },
  {
   "cell_type": "code",
   "execution_count": 36,
   "id": "3164f53f-9f6d-4a2b-bf64-2a444ba05bfb",
   "metadata": {},
   "outputs": [
    {
     "name": "stdout",
     "output_type": "stream",
     "text": [
      "0\n",
      "[0 1 2]\n",
      "[6 7 8]\n"
     ]
    }
   ],
   "source": [
    "# Element at 0,0\n",
    "print(a[0,0])\n",
    "\n",
    "# First row\n",
    "print(a[0]) #print(a[0,:])l\n",
    "\n",
    "# last row \n",
    "print(a[-1])"
   ]
  },
  {
   "cell_type": "code",
   "execution_count": 37,
   "id": "100408ea-9021-49cd-bea0-63aaaa63f0e7",
   "metadata": {},
   "outputs": [
    {
     "name": "stdout",
     "output_type": "stream",
     "text": [
      "[0 3 6]\n",
      "[2 5 8]\n",
      "[[0 2]\n",
      " [3 5]\n",
      " [6 8]]\n",
      "[[0 1 2]\n",
      " [3 4 5]\n",
      " [6 7 8]]\n"
     ]
    }
   ],
   "source": [
    "# First column\n",
    "print(a[:,0])\n",
    "\n",
    "# last column\n",
    "print(a[:,-1])\n",
    "\n",
    "# First and Last column\n",
    "print(a[:,[0,-1]])\n",
    "\n",
    "#Everything\n",
    "print(a[:,:])"
   ]
  },
  {
   "cell_type": "markdown",
   "id": "114aa1a6-1479-4444-ba98-8996c0e708b7",
   "metadata": {},
   "source": [
    "### Array math"
   ]
  },
  {
   "cell_type": "code",
   "execution_count": 38,
   "id": "8ab01ba4-4f18-4908-a575-579ba2238120",
   "metadata": {},
   "outputs": [
    {
     "name": "stdout",
     "output_type": "stream",
     "text": [
      "[[1. 2.]\n",
      " [3. 4.]]\n",
      "[[5. 6.]\n",
      " [7. 8.]]\n"
     ]
    }
   ],
   "source": [
    "import numpy as np\n",
    "\n",
    "x = np.array([[1,2],[3,4]], dtype = np.float64)\n",
    "y = np.array([[5,6],[7,8]], dtype = np.float64)\n",
    "print(x)\n",
    "print(y)"
   ]
  },
  {
   "cell_type": "code",
   "execution_count": 39,
   "id": "2c442331-6f33-4cc9-b3ea-fab799637719",
   "metadata": {},
   "outputs": [
    {
     "name": "stdout",
     "output_type": "stream",
     "text": [
      "[[ 6.  8.]\n",
      " [10. 12.]]\n",
      "[[ 6.  8.]\n",
      " [10. 12.]]\n"
     ]
    }
   ],
   "source": [
    "# Elementwise sum ; both produce the array\n",
    "print(x + y)\n",
    "print(np.add(x,y))"
   ]
  },
  {
   "cell_type": "code",
   "execution_count": 40,
   "id": "fed755fc-b578-4f4a-8169-a69ce7e76b3e",
   "metadata": {},
   "outputs": [
    {
     "name": "stdout",
     "output_type": "stream",
     "text": [
      "[[-4. -4.]\n",
      " [-4. -4.]]\n",
      "[[-4. -4.]\n",
      " [-4. -4.]]\n"
     ]
    }
   ],
   "source": [
    "# Elementwise difference ; both produce the array\n",
    "print(x - y)\n",
    "print(np.subtract(x,y))"
   ]
  },
  {
   "cell_type": "code",
   "execution_count": 41,
   "id": "d5af838d-2135-4aef-ba0b-2854bbf7add6",
   "metadata": {},
   "outputs": [
    {
     "name": "stdout",
     "output_type": "stream",
     "text": [
      "[[ 5. 12.]\n",
      " [21. 32.]]\n",
      "[[ 5. 12.]\n",
      " [21. 32.]]\n"
     ]
    }
   ],
   "source": [
    "# Elementwise product ; both produce the array\n",
    "print(x * y)\n",
    "print(np.multiply(x,y))"
   ]
  },
  {
   "cell_type": "code",
   "execution_count": 45,
   "id": "152f7391-3507-4d25-9b66-39856f43eb5b",
   "metadata": {},
   "outputs": [
    {
     "name": "stdout",
     "output_type": "stream",
     "text": [
      "[[1.         1.41421356]\n",
      " [1.73205081 2.        ]]\n"
     ]
    }
   ],
   "source": [
    "# Elementwise square root; product the array\n",
    "print(np.sqrt(x))"
   ]
  },
  {
   "cell_type": "code",
   "execution_count": 46,
   "id": "04588a8b-22d1-483d-8377-234d5fc4b311",
   "metadata": {},
   "outputs": [],
   "source": [
    "import numpy as np\n",
    "\n",
    "x = np.array([[1,2],[3,4]])\n",
    "y = np.array([[5,6],[7,8]])\n",
    "\n",
    "v = np.array([9,10])\n",
    "w = np.array([11,12])"
   ]
  },
  {
   "cell_type": "code",
   "execution_count": 48,
   "id": "8e393ec8-6e77-4733-b393-65e3d686a7f7",
   "metadata": {},
   "outputs": [
    {
     "name": "stdout",
     "output_type": "stream",
     "text": [
      "219\n",
      "219\n"
     ]
    }
   ],
   "source": [
    "# Inner product of vectors; both produce 219\n",
    "print(v.dot(w))\n",
    "print(np.dot(v,w))\n",
    "\n",
    "# Vector multiplies Vector\n",
    "#9*11 + 10*12"
   ]
  },
  {
   "cell_type": "code",
   "execution_count": 49,
   "id": "1ac23ca6-3975-462b-b8c0-c94b51bcce1d",
   "metadata": {},
   "outputs": [
    {
     "name": "stdout",
     "output_type": "stream",
     "text": [
      "[29 67]\n",
      "[29 67]\n"
     ]
    }
   ],
   "source": [
    "# Matrix / vector product; both produce the rank 1 array [29 67]\n",
    "print(x.dot(v))\n",
    "print(np.dot(x,v))\n",
    "\n",
    "# Matrix multiplies Vector\n",
    "#(1*9 + 2*10 , 3*9 + 4*10)"
   ]
  },
  {
   "cell_type": "code",
   "execution_count": 50,
   "id": "6cfd4646-1385-4b22-9f57-b0396af53a70",
   "metadata": {},
   "outputs": [
    {
     "name": "stdout",
     "output_type": "stream",
     "text": [
      "[[19 22]\n",
      " [43 50]]\n",
      "[[19 22]\n",
      " [43 50]]\n"
     ]
    }
   ],
   "source": [
    "# Matrix / Matrix product; both produce the rank 2 array\n",
    "print(x.dot(y))\n",
    "print(np.dot(x,y))\n",
    "\n",
    "#Matrix multiplies Matrix\n",
    "# 1*5 + 2*7  ,  1*6 + 2*8\n",
    "# 3*5 + 4*7  ,  3*6 + 4*8"
   ]
  },
  {
   "cell_type": "code",
   "execution_count": 14,
   "id": "5cd9aa20-a87d-4111-b4f8-1c07c2148fbd",
   "metadata": {},
   "outputs": [
    {
     "name": "stdout",
     "output_type": "stream",
     "text": [
      "[[1 2]\n",
      " [3 4]]\n",
      "10\n",
      "[4 6]\n",
      "[3 7]\n"
     ]
    }
   ],
   "source": [
    "x = np.array([[1,2],[3,4]])\n",
    "print(x)\n",
    "\n",
    "print(np.sum(x))   #compute all elements; output = 10\n",
    "print(np.sum(x, axis = 0))   #compute sum of each column; output = [4,6]\n",
    "print(np.sum(x, axis = 1))   #compute sum of each row, output = [3,7]"
   ]
  },
  {
   "cell_type": "code",
   "execution_count": 53,
   "id": "077d64e3-4bda-4095-8ddd-855e63d75c40",
   "metadata": {},
   "outputs": [
    {
     "name": "stdout",
     "output_type": "stream",
     "text": [
      "[[1 2]\n",
      " [3 4]]\n",
      "[[1 3]\n",
      " [2 4]]\n"
     ]
    }
   ],
   "source": [
    "x = np.array([[1,2],[3,4]])\n",
    "\n",
    "print(x)\n",
    "\n",
    "print(x.T) # Phương trình nghịch đảo #Đảo chiều #Transpose"
   ]
  },
  {
   "cell_type": "code",
   "execution_count": 55,
   "id": "1b996878-ca63-47a3-89a0-2885f68be303",
   "metadata": {},
   "outputs": [
    {
     "name": "stdout",
     "output_type": "stream",
     "text": [
      "[1 2 3]\n",
      "[1 2 3]\n"
     ]
    }
   ],
   "source": [
    "# Note that taking the transpose of a rank 1 array does nothing\n",
    "v = np.array([1,2,3])\n",
    "print(v)\n",
    "print(v.T)\n",
    "\n",
    "'''\n",
    "Lý do Vector trong python chỉ có 1 chiều ngang, không cả ngang và dọc nên không transpose được"
   ]
  },
  {
   "cell_type": "markdown",
   "id": "794c7032-b901-4921-8aa2-449ad2ef8899",
   "metadata": {},
   "source": [
    "### Vectorization (broadcasting)"
   ]
  },
  {
   "cell_type": "code",
   "execution_count": 56,
   "id": "2eefc256-7bf9-409b-a043-dd6c93f3c43f",
   "metadata": {},
   "outputs": [],
   "source": [
    "import timeit"
   ]
  },
  {
   "cell_type": "code",
   "execution_count": 58,
   "id": "13df803f-88a8-4c1c-b83c-bc0d8ce30937",
   "metadata": {},
   "outputs": [
    {
     "name": "stdout",
     "output_type": "stream",
     "text": [
      "[0 1 2 3 4 5 6 7 8 9]\n"
     ]
    }
   ],
   "source": [
    "a = np.arange(10)\n",
    "print(a)"
   ]
  },
  {
   "cell_type": "code",
   "execution_count": 62,
   "id": "0412a87e-cbde-4edb-97e8-7d479e7c0f61",
   "metadata": {},
   "outputs": [
    {
     "name": "stdout",
     "output_type": "stream",
     "text": [
      "[10 11 12 13 14 15 16 17 18 19]\n",
      "1.588975299964659\n"
     ]
    }
   ],
   "source": [
    "# Add\n",
    "print(a + 10)\n",
    "print(timeit.timeit(setup = 'import numpy as np', stmt = 'np.arange(10) + 10'))\n",
    "\n"
   ]
  },
  {
   "cell_type": "code",
   "execution_count": 63,
   "id": "33fad0c5-a748-432d-b2dd-725809b9a6d2",
   "metadata": {},
   "outputs": [
    {
     "name": "stdout",
     "output_type": "stream",
     "text": [
      "[10, 11, 12, 13, 14, 15, 16, 17, 18, 19]\n",
      "2.502280000015162\n"
     ]
    }
   ],
   "source": [
    "# Nếu dùng pure Python\n",
    "print([x + 10 for x in a])\n",
    "print(timeit.timeit(setup = 'import numpy as np', stmt = '[x + 10 for x in np.arange(10)]'))\n",
    "\n",
    "#Nhược điểm: Dài hơn và Chậm hơn"
   ]
  },
  {
   "cell_type": "code",
   "execution_count": 67,
   "id": "c91b15e1-5f25-4fea-ac01-cd1e07aad5ab",
   "metadata": {},
   "outputs": [
    {
     "name": "stdout",
     "output_type": "stream",
     "text": [
      "[-8 -7 -6 -5 -4 -3 -2 -1  0  1]\n",
      "[ 0 10 20 30 40 50 60 70 80 90]\n",
      "[  0   1   8  27  64 125 216 343 512 729]\n"
     ]
    }
   ],
   "source": [
    "# Subtract\n",
    "print(a - 8)\n",
    "\n",
    "# Multiply\n",
    "print(a * 10)\n",
    "\n",
    "# Exponential\n",
    "print(a ** 3)"
   ]
  },
  {
   "cell_type": "markdown",
   "id": "305b14c0-5760-48d9-97af-63dc9b88d709",
   "metadata": {},
   "source": [
    "### [Important] Masking (lọc dữ liệu)"
   ]
  },
  {
   "cell_type": "code",
   "execution_count": 68,
   "id": "6aede0ca-391e-4056-97ee-ea103bb0a7a4",
   "metadata": {},
   "outputs": [
    {
     "name": "stdout",
     "output_type": "stream",
     "text": [
      "[  4  -9   5   6   4  -1  -5 -10  -4   9]\n"
     ]
    }
   ],
   "source": [
    "# Note: phần tử arrat có thể khác vì dùng random\n",
    "a = np.random.randint(-10, 10, size = 10)\n",
    "print(a)"
   ]
  },
  {
   "cell_type": "code",
   "execution_count": 69,
   "id": "a4eeff77-e968-45fe-9906-7dee1d0adc32",
   "metadata": {},
   "outputs": [
    {
     "name": "stdout",
     "output_type": "stream",
     "text": [
      "[ True False  True  True  True False False False False  True]\n"
     ]
    }
   ],
   "source": [
    "# Masking a > 0\n",
    "print(a > 0)"
   ]
  },
  {
   "cell_type": "code",
   "execution_count": 72,
   "id": "e650fc64-89e4-440d-951e-2a5879ae0216",
   "metadata": {},
   "outputs": [
    {
     "name": "stdout",
     "output_type": "stream",
     "text": [
      "[4 5 6 4 9]\n",
      "[4, 4, 5, 6, 9]\n"
     ]
    }
   ],
   "source": [
    "# Dùng masking để filter\n",
    "mask = a > 0\n",
    "print(a[mask])\n",
    "print(sorted(a[mask]))"
   ]
  },
  {
   "cell_type": "code",
   "execution_count": 73,
   "id": "eba51160-411f-4b17-bba1-6288517f949f",
   "metadata": {},
   "outputs": [
    {
     "name": "stdout",
     "output_type": "stream",
     "text": [
      "[4 5 6 4 9]\n"
     ]
    }
   ],
   "source": [
    "# Dùng masking để filter (2)\n",
    "print(a[a > 0])"
   ]
  },
  {
   "cell_type": "code",
   "execution_count": 74,
   "id": "60fe4626-8c5b-40cb-a752-e16fbb32b03b",
   "metadata": {},
   "outputs": [
    {
     "name": "stdout",
     "output_type": "stream",
     "text": [
      "[  4   6   4 -10  -4]\n"
     ]
    }
   ],
   "source": [
    "# Lấy các số chẵn\n",
    "print(a[a % 2 ==0])"
   ]
  },
  {
   "cell_type": "code",
   "execution_count": 76,
   "id": "a7af3bef-7d51-43cc-840f-a2ab8bfcc1f2",
   "metadata": {},
   "outputs": [
    {
     "name": "stdout",
     "output_type": "stream",
     "text": [
      "[False False False  True False False False False False  True]\n"
     ]
    }
   ],
   "source": [
    "mask = a > 5\n",
    "print(mask)"
   ]
  },
  {
   "cell_type": "code",
   "execution_count": 77,
   "id": "cf66e4af-8fa5-43de-8de4-1408b59057f4",
   "metadata": {},
   "outputs": [
    {
     "name": "stdout",
     "output_type": "stream",
     "text": [
      "False\n"
     ]
    }
   ],
   "source": [
    "# Kiểm tra với mọi element (all)\n",
    "print(np.all(a > 0))"
   ]
  },
  {
   "cell_type": "code",
   "execution_count": 79,
   "id": "352306a9-3a30-4ba0-bfc5-cdea20a696bf",
   "metadata": {},
   "outputs": [
    {
     "name": "stdout",
     "output_type": "stream",
     "text": [
      "True\n"
     ]
    }
   ],
   "source": [
    "# Kiểm tra tồn tại (any)\n",
    "print(np.any(a > 0))"
   ]
  },
  {
   "cell_type": "markdown",
   "id": "044bebbb-121c-4a3c-8e39-8751770a4717",
   "metadata": {},
   "source": [
    "## Structured Array"
   ]
  },
  {
   "cell_type": "markdown",
   "id": "d3eeb263-fc59-4387-a423-83e8174251cd",
   "metadata": {},
   "source": [
    "Cần thì xem lại, vì có trong Pandas "
   ]
  },
  {
   "cell_type": "markdown",
   "id": "dea8c88f-3e34-4ea6-b0a9-b83c43a869c1",
   "metadata": {},
   "source": [
    "## Thống kê mô tả (Descriptive Statistics)"
   ]
  },
  {
   "cell_type": "markdown",
   "id": "82240816-1b2e-469d-887c-48a853b79848",
   "metadata": {},
   "source": [
    "### 1-D array"
   ]
  },
  {
   "cell_type": "code",
   "execution_count": 87,
   "id": "25c02ab5-eb78-4c39-8603-f6a6f0f31d15",
   "metadata": {},
   "outputs": [
    {
     "name": "stdout",
     "output_type": "stream",
     "text": [
      "[ 0  1  2  3  4  5  6  7  8  9 10]\n",
      "0\n",
      "0\n",
      "10\n",
      "10\n",
      "5.0\n",
      "5.0\n",
      "5.0\n",
      "3.1622776601683795\n"
     ]
    }
   ],
   "source": [
    "a = np.arange(11)\n",
    "print(a)\n",
    "\n",
    "#Min\n",
    "print(a.min())\n",
    "print(np.min(a))\n",
    "\n",
    "#Max\n",
    "print(a.max())\n",
    "print(np.max(a))\n",
    "\n",
    "#Mean\n",
    "print(a.mean())\n",
    "print(np.mean(a))\n",
    "\n",
    "#Median\n",
    "print(np.median(a))\n",
    "\n",
    "#Standard deviation\n",
    "print(np.std(a))"
   ]
  },
  {
   "cell_type": "markdown",
   "id": "fb9f5e19-2f67-4166-bcb4-e533d5071781",
   "metadata": {},
   "source": [
    "### 2-D array"
   ]
  },
  {
   "cell_type": "code",
   "execution_count": 96,
   "id": "3226e490-60d3-4287-a9ed-cdf6c58f21fa",
   "metadata": {},
   "outputs": [
    {
     "name": "stdout",
     "output_type": "stream",
     "text": [
      "[[ 0  1  2  3  4  5  6  7  8  9]\n",
      " [10 11 12 13 14 15 16 17 18 19]\n",
      " [20 21 22 23 24 25 26 27 28 29]\n",
      " [30 31 32 33 34 35 36 37 38 39]\n",
      " [40 41 42 43 44 45 46 47 48 49]\n",
      " [50 51 52 53 54 55 56 57 58 59]\n",
      " [60 61 62 63 64 65 66 67 68 69]\n",
      " [70 71 72 73 74 75 76 77 78 79]\n",
      " [80 81 82 83 84 85 86 87 88 89]\n",
      " [90 91 92 93 94 95 96 97 98 99]]\n"
     ]
    }
   ],
   "source": [
    "a = np.arange(100).reshape(10,10)\n",
    "print(a)"
   ]
  },
  {
   "cell_type": "code",
   "execution_count": 99,
   "id": "5c088d35-4c49-4b59-a1ae-3a919c70924e",
   "metadata": {},
   "outputs": [
    {
     "name": "stdout",
     "output_type": "stream",
     "text": [
      "[45. 46. 47. 48. 49. 50. 51. 52. 53. 54.]\n",
      "[ 4.5 14.5 24.5 34.5 44.5 54.5 64.5 74.5 84.5 94.5]\n"
     ]
    }
   ],
   "source": [
    "#Mean row-wise (across rows)\n",
    "print(a.mean(axis = 0))\n",
    "\n",
    "#column\n",
    "print(a.mean(axis = 1))"
   ]
  },
  {
   "cell_type": "markdown",
   "id": "885c31d9-5094-4cd2-b90c-c2f530c6ae07",
   "metadata": {},
   "source": [
    "## Exercise"
   ]
  },
  {
   "cell_type": "code",
   "execution_count": 103,
   "id": "72f325c4-f8f1-4601-b0a3-63aec17f441a",
   "metadata": {},
   "outputs": [
    {
     "data": {
      "text/plain": [
       "array([0, 1, 2, 3, 4, 5, 6, 7, 8, 9])"
      ]
     },
     "execution_count": 103,
     "metadata": {},
     "output_type": "execute_result"
    }
   ],
   "source": [
    "'''\n",
    "    Create a 1D array of numbers from 0 to 9\n",
    "'''\n",
    "import numpy as np\n",
    "a = np.arange(10)\n",
    "a"
   ]
  },
  {
   "cell_type": "code",
   "execution_count": 106,
   "id": "e90844b7-45f5-4b17-b40f-6a96fc208750",
   "metadata": {},
   "outputs": [
    {
     "name": "stdout",
     "output_type": "stream",
     "text": [
      "[ 0 -1  2 -1  4 -1  6 -1  8 -1]\n"
     ]
    }
   ],
   "source": [
    "'''\n",
    "    Extract all odd numbers from arr\n",
    "    Replace all odd numbers in arr with -1\n",
    "'''\n",
    "a [a % 2 > 0] = -1\n",
    "print(a)"
   ]
  },
  {
   "cell_type": "code",
   "execution_count": 109,
   "id": "645e6261-36df-453f-900d-66af61268a34",
   "metadata": {},
   "outputs": [
    {
     "data": {
      "text/plain": [
       "array([ 0, -1,  2, -1,  4, -1,  6, -1,  8, -1])"
      ]
     },
     "execution_count": 109,
     "metadata": {},
     "output_type": "execute_result"
    }
   ],
   "source": [
    "''' \n",
    "    Convert a 1D arrat to a 2D arrat with 2 rows\n",
    "'''\n",
    "a.reshape((2,5))\n",
    "a"
   ]
  },
  {
   "cell_type": "code",
   "execution_count": 110,
   "id": "33850ebc-f40e-43ab-8190-032bd3f69ee2",
   "metadata": {},
   "outputs": [
    {
     "data": {
      "text/plain": [
       "array([2, 4])"
      ]
     },
     "execution_count": 110,
     "metadata": {},
     "output_type": "execute_result"
    }
   ],
   "source": [
    "'''\n",
    "    Get the common items between a and b using intersect1d\n",
    "    a = np.array([1,2,3,2,3,4,3,4,5,6])\n",
    "    b = np.array([7,2,10,2,7,4,9,4,9,8])\n",
    "'''\n",
    "a = np.array([1,2,3,2,3,4,3,4,5,6])\n",
    "b = np.array([7,2,10,2,7,4,9,4,9,8])\n",
    "np.intersect1d(a,b)"
   ]
  },
  {
   "cell_type": "code",
   "execution_count": 112,
   "id": "1a204557-b27b-4066-847e-b60773c1a028",
   "metadata": {},
   "outputs": [
    {
     "data": {
      "text/plain": [
       "array([1, 2, 3, 4])"
      ]
     },
     "execution_count": 112,
     "metadata": {},
     "output_type": "execute_result"
    }
   ],
   "source": [
    "'''\n",
    "    From array a, remove all items present in array b using setfidd1d\n",
    "    a = np.array([1,2,3,4,5])\n",
    "    b = np.array([5,6,7,8,9])\n",
    "'''\n",
    "a1 = np.array([1,2,3,4,5])\n",
    "b1 = np.array([5,6,7,8,9])\n",
    "np.setdiff1d(a1,b1)\n"
   ]
  },
  {
   "cell_type": "code",
   "execution_count": 122,
   "id": "fa75d5f8-664b-4f88-83d3-75e1c55eac39",
   "metadata": {},
   "outputs": [
    {
     "ename": "SyntaxError",
     "evalue": "invalid syntax (4116503558.py, line 10)",
     "output_type": "error",
     "traceback": [
      "\u001b[1;36m  Cell \u001b[1;32mIn[122], line 10\u001b[1;36m\u001b[0m\n\u001b[1;33m    a[(a>5) & (a=<10)]\u001b[0m\n\u001b[1;37m                ^\u001b[0m\n\u001b[1;31mSyntaxError\u001b[0m\u001b[1;31m:\u001b[0m invalid syntax\n"
     ]
    }
   ],
   "source": [
    "'''\n",
    "    Get all items between 5 and 10 a\n",
    "    a = np.array([2,6,1,9,10,3,27])\n",
    "'''\n",
    "a = np.array([2,6,1,9,10,3,27])\n",
    "x = a[a<10]\n",
    "y = a[a>5]\n",
    "np.intersect1d(x,y)\n",
    "\n",
    "a[(a>5) & (a=<10)]\n"
   ]
  },
  {
   "cell_type": "code",
   "execution_count": 124,
   "id": "20b07283-d3d4-4481-9034-56e0659d3416",
   "metadata": {},
   "outputs": [
    {
     "name": "stdout",
     "output_type": "stream",
     "text": [
      "[[0 1 2]\n",
      " [3 4 5]\n",
      " [6 7 8]]\n"
     ]
    },
    {
     "data": {
      "text/plain": [
       "array([[2, 1, 0],\n",
       "       [5, 4, 3],\n",
       "       [8, 7, 6]])"
      ]
     },
     "execution_count": 124,
     "metadata": {},
     "output_type": "execute_result"
    }
   ],
   "source": [
    "'''\n",
    "    Swap columns 1 and 2 in the array ar\n",
    "    ar = np.arange(9).reshape(3,3)\n",
    "'''\n",
    "ar = np.arange(9).reshape(3,3)\n",
    "print(ar)\n",
    "\n",
    "ar[:,[0,2]] = ar [:,[2,0]]\n",
    "ar"
   ]
  },
  {
   "cell_type": "code",
   "execution_count": 125,
   "id": "d0b6b41e-7efc-41ee-be90-7b043396de51",
   "metadata": {},
   "outputs": [
    {
     "data": {
      "text/plain": [
       "array([[1, 2, 0],\n",
       "       [4, 5, 3],\n",
       "       [7, 8, 6]])"
      ]
     },
     "execution_count": 125,
     "metadata": {},
     "output_type": "execute_result"
    }
   ],
   "source": [
    "ar[:,[1,0,2]]"
   ]
  },
  {
   "cell_type": "code",
   "execution_count": 126,
   "id": "927aa372-b0e6-4cdb-8ae6-ed53a695c848",
   "metadata": {},
   "outputs": [
    {
     "data": {
      "text/plain": [
       "array([[8, 7, 6],\n",
       "       [5, 4, 3],\n",
       "       [2, 1, 0]])"
      ]
     },
     "execution_count": 126,
     "metadata": {},
     "output_type": "execute_result"
    }
   ],
   "source": [
    "'''\n",
    "    Reserse the rows of a 2D array ar above\n",
    "'''\n",
    "ar[::-1]"
   ]
  },
  {
   "cell_type": "code",
   "execution_count": 127,
   "id": "280af207-7738-4efe-acd6-e147e3592c34",
   "metadata": {},
   "outputs": [
    {
     "data": {
      "text/plain": [
       "array([5.1, 4.9, 4.7, 4.6, 5. , 5.4, 4.6, 5. , 4.4, 4.9, 5.4, 4.8, 4.8,\n",
       "       4.3, 5.8, 5.7, 5.4, 5.1, 5.7, 5.1, 5.4, 5.1, 4.6, 5.1, 4.8, 5. ,\n",
       "       5. , 5.2, 5.2, 4.7, 4.8, 5.4, 5.2, 5.5, 4.9, 5. , 5.5, 4.9, 4.4,\n",
       "       5.1, 5. , 4.5, 4.4, 5. , 5.1, 4.8, 5.1, 4.6, 5.3, 5. , 7. , 6.4,\n",
       "       6.9, 5.5, 6.5, 5.7, 6.3, 4.9, 6.6, 5.2, 5. , 5.9, 6. , 6.1, 5.6,\n",
       "       6.7, 5.6, 5.8, 6.2, 5.6, 5.9, 6.1, 6.3, 6.1, 6.4, 6.6, 6.8, 6.7,\n",
       "       6. , 5.7, 5.5, 5.5, 5.8, 6. , 5.4, 6. , 6.7, 6.3, 5.6, 5.5, 5.5,\n",
       "       6.1, 5.8, 5. , 5.6, 5.7, 5.7, 6.2, 5.1, 5.7, 6.3, 5.8, 7.1, 6.3,\n",
       "       6.5, 7.6, 4.9, 7.3, 6.7, 7.2, 6.5, 6.4, 6.8, 5.7, 5.8, 6.4, 6.5,\n",
       "       7.7, 7.7, 6. , 6.9, 5.6, 7.7, 6.3, 6.7, 7.2, 6.2, 6.1, 6.4, 7.2,\n",
       "       7.4, 7.9, 6.4, 6.3, 6.1, 7.7, 6.3, 6.4, 6. , 6.9, 6.7, 6.9, 5.8,\n",
       "       6.8, 6.7, 6.7, 6.3, 6.5, 6.2, 5.9])"
      ]
     },
     "execution_count": 127,
     "metadata": {},
     "output_type": "execute_result"
    }
   ],
   "source": [
    "'''\n",
    "    Find the mean, median, standard deviation of iris's sepallenth (1st)\n",
    "    url = 'https://archive.ics.uci.edu/ml/machine-learning-databases/iris/iris.data'\n",
    "    iris = np.genfromtxt(url, delimiter = ',', dtype = 'object')\n",
    "    sepallength = np.genfromtxt(url, delimiter = ',' , dtype = 'float', usecols = [0])\n",
    "'''\n",
    "url = 'https://archive.ics.uci.edu/ml/machine-learning-databases/iris/iris.data'\n",
    "iris = np.genfromtxt(url, delimiter = ',', dtype = 'object')\n",
    "sepallength = np.genfromtxt(url, delimiter = ',' , dtype = 'float', usecols = [0])\n",
    "\n",
    "sepallength\n"
   ]
  },
  {
   "cell_type": "code",
   "execution_count": 131,
   "id": "4249982e-44a2-487d-88d2-f3fdd93958e9",
   "metadata": {},
   "outputs": [
    {
     "name": "stdout",
     "output_type": "stream",
     "text": [
      "5.843333333333334\n",
      "5.843333333333334\n",
      "5.8\n",
      "0.8253012917851409\n"
     ]
    }
   ],
   "source": [
    "print(np.mean(sepallength, axis = 0))\n",
    "print(np.mean(sepallength))\n",
    "print(np.median(sepallength))\n",
    "print(np.std(sepallength))"
   ]
  },
  {
   "cell_type": "code",
   "execution_count": 133,
   "id": "1e53479e-0002-46a6-8996-2c839fe2221d",
   "metadata": {},
   "outputs": [
    {
     "name": "stdout",
     "output_type": "stream",
     "text": [
      "[[8 6 4]\n",
      " [6 6 3]\n",
      " [3 9 7]\n",
      " [2 8 7]\n",
      " [9 5 2]]\n"
     ]
    },
    {
     "data": {
      "text/plain": [
       "array([8, 6, 9, 8, 9])"
      ]
     },
     "execution_count": 133,
     "metadata": {},
     "output_type": "execute_result"
    }
   ],
   "source": [
    "'''\n",
    "    Compute the maximun fro each row in the given array\n",
    "    a = np.random.randint(1,10, [5,3])\n",
    "'''\n",
    "a = np.random.randint(1,10, [5,3])\n",
    "print(a)\n",
    "np.max(a,axis = 1)"
   ]
  },
  {
   "cell_type": "code",
   "execution_count": null,
   "id": "eb3fb80c-ea83-461a-8d4f-471f85c2cdfe",
   "metadata": {},
   "outputs": [],
   "source": []
  }
 ],
 "metadata": {
  "kernelspec": {
   "display_name": "Python 3 (ipykernel)",
   "language": "python",
   "name": "python3"
  },
  "language_info": {
   "codemirror_mode": {
    "name": "ipython",
    "version": 3
   },
   "file_extension": ".py",
   "mimetype": "text/x-python",
   "name": "python",
   "nbconvert_exporter": "python",
   "pygments_lexer": "ipython3",
   "version": "3.11.7"
  }
 },
 "nbformat": 4,
 "nbformat_minor": 5
}
