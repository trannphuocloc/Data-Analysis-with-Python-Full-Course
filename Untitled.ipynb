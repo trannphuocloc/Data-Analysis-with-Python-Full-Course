{
 "cells": [
  {
   "cell_type": "code",
   "execution_count": 1,
   "id": "cc905cd0-020b-459f-b80d-57104bdd25a4",
   "metadata": {},
   "outputs": [
    {
     "name": "stdin",
     "output_type": "stream",
     "text": [
      "File 'anyfilename' exists. Overwrite?  Untitled.ipynb\n",
      "File 'anyfilename' exists. Overwrite?  Yes\n"
     ]
    },
    {
     "name": "stdout",
     "output_type": "stream",
     "text": [
      "Overwriting file.\n"
     ]
    }
   ],
   "source": [
    "%history -g -f anyfilename"
   ]
  },
  {
   "cell_type": "code",
   "execution_count": null,
   "id": "44ba8d51-a307-4d5a-b58e-baf99e90086b",
   "metadata": {},
   "outputs": [],
   "source": []
  }
 ],
 "metadata": {
  "kernelspec": {
   "display_name": "Python 3 (ipykernel)",
   "language": "python",
   "name": "python3"
  },
  "language_info": {
   "codemirror_mode": {
    "name": "ipython",
    "version": 3
   },
   "file_extension": ".py",
   "mimetype": "text/x-python",
   "name": "python",
   "nbconvert_exporter": "python",
   "pygments_lexer": "ipython3",
   "version": "3.11.7"
  }
 },
 "nbformat": 4,
 "nbformat_minor": 5
}
