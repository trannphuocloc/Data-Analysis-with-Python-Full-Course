{
 "cells": [
  {
   "cell_type": "markdown",
   "id": "d845bb81-b33e-4fac-9a3c-8898a8c6af21",
   "metadata": {},
   "source": [
    "# Buổi 02: Build-in Data Structure\n",
    "\n",
    "## 1. Kiểu dữ liệu LIST\n",
    "### 1.1 List\n",
    "- Chứa 0 hoặc nhiều phần tử trong cùng một tên biến\n",
    "- Các phần tử có sắp thứ tự và đánh index\n",
    "- Mutable: tức có thể thêm, sửa xóa phần tử sau khi tạo\n",
    "- List dùng []\n",
    "- List có thể chứa các List (nested list)\n",
    "- Các phần tử có thể truy xuất qua indexing hoặc slicing\n",
    "\n",
    "### 1.2 Tạo list"
   ]
  },
  {
   "cell_type": "markdown",
   "id": "c3663eb6-4af8-4edd-9d09-c56cb0b5d1fb",
   "metadata": {},
   "source": [
    "Bên trong List, từng phần tử gọi là các element, có thể lưu các loại dữ liệu khác nhau như string, int,...\\\n",
    "__index__ trong lúc này là __0, 1, 2, 3, 4__"
   ]
  },
  {
   "cell_type": "code",
   "execution_count": 1,
   "id": "83a18f27-54fb-411b-937f-bdfea19bd682",
   "metadata": {},
   "outputs": [
    {
     "name": "stdout",
     "output_type": "stream",
     "text": [
      "[1, 2, 3, 4, 5]\n",
      "<class 'list'>\n"
     ]
    }
   ],
   "source": [
    "l = [1, 2, 3, 4, 5]\n",
    "print(a)\n",
    "print(type(a))"
   ]
  },
  {
   "cell_type": "markdown",
   "id": "03555d20-d449-489c-b4ab-3717b8f3488f",
   "metadata": {},
   "source": [
    "### 1.3 Indexing"
   ]
  },
  {
   "cell_type": "code",
   "execution_count": 2,
   "id": "189f6758-7fd7-48db-af79-98b677765639",
   "metadata": {},
   "outputs": [],
   "source": [
    "'''List các số nguyên'''\n",
    "l = [1,2,3,4,5]"
   ]
  },
  {
   "cell_type": "code",
   "execution_count": 10,
   "id": "9e2fecc2-3bb3-48e3-aebd-8b60e9d431f7",
   "metadata": {},
   "outputs": [
    {
     "name": "stdout",
     "output_type": "stream",
     "text": [
      "1\n",
      "3\n",
      "5\n",
      "4\n"
     ]
    }
   ],
   "source": [
    "'''Truy vấn phần tử đầu tiên'''\n",
    "print(l[0])\n",
    "\n",
    "'''Truy vấn phần tử thứ 3'''\n",
    "print(l[2])\n",
    "\n",
    "'''Truy vấn phần tử cuối cùng'''\n",
    "print(l[-1])\n",
    "\n",
    "'''Truy vấn phần tử thứ 2 kể từ phần tử cuối cùng'''\n",
    "print(l[-2])"
   ]
  },
  {
   "cell_type": "code",
   "execution_count": 13,
   "id": "b295b624-f315-40dd-98d0-317a06752ecd",
   "metadata": {},
   "outputs": [
    {
     "name": "stdout",
     "output_type": "stream",
     "text": [
      "[1, 2, 99, 4, 5]\n"
     ]
    }
   ],
   "source": [
    "'''Truy vấn element thứ 3, gán thành 99, print list'''\n",
    "l[2] = 99\n",
    "print(l)"
   ]
  },
  {
   "cell_type": "code",
   "execution_count": 14,
   "id": "466079e0-1131-4c61-ae73-8b2afad5369a",
   "metadata": {},
   "outputs": [
    {
     "name": "stdout",
     "output_type": "stream",
     "text": [
      "[1, 2, 'Hello, World!', 4, 5]\n"
     ]
    }
   ],
   "source": [
    "'''Truy vấn element thứ 3, gán thành \"Hello\", print list'''\n",
    "l[2] = \"Hello, World!\"\n",
    "print(l)"
   ]
  },
  {
   "cell_type": "code",
   "execution_count": 18,
   "id": "2259ee1e-0fc5-40a3-9056-4a201cc27eee",
   "metadata": {},
   "outputs": [
    {
     "name": "stdout",
     "output_type": "stream",
     "text": [
      "[1, 2, [8, 9], 4, 5]\n"
     ]
    }
   ],
   "source": [
    "'''Truy vấn element thứ 3, gán thành [8,9], print list'''\n",
    "l[2] = [8,9]\n",
    "print(l)"
   ]
  },
  {
   "cell_type": "code",
   "execution_count": 28,
   "id": "090306f8-2e9e-4b81-8c23-a2d0c0f34f50",
   "metadata": {},
   "outputs": [
    {
     "data": {
      "text/plain": [
       "[20, 10, 6, 5, 3]"
      ]
     },
     "execution_count": 28,
     "metadata": {},
     "output_type": "execute_result"
    }
   ],
   "source": [
    "'''Swap the first and the last element position'''\n",
    "test = [3, 10, 6, 5, 20]\n",
    "# -> [20, 10, 6, 5, 3]\n",
    "\n",
    "test[0], test[-1] = test[-1], test[0]\n",
    "test"
   ]
  },
  {
   "cell_type": "code",
   "execution_count": 34,
   "id": "96d7ebc3-8886-4bd2-8eea-b062097146a7",
   "metadata": {},
   "outputs": [
    {
     "name": "stdin",
     "output_type": "stream",
     "text": [
      "Hãy nhập vị trí của index mà bạn muốn thay đổi: 0\n",
      "Hãy nhập số mới: 99\n"
     ]
    },
    {
     "name": "stdout",
     "output_type": "stream",
     "text": [
      "[99, 10, 6, 5, 20]\n"
     ]
    }
   ],
   "source": [
    "'''Replace element at given position by user input'''\n",
    "test = [3, 10, 6, 5, 20]\n",
    "# -> user muốn thay đổi element ở vị trí nào\n",
    "# -> thay bằng số mới là số nào\n",
    "\n",
    "i = int(input(\"Hãy nhập vị trí của index mà bạn muốn thay đổi:\"))\n",
    "n = int(input(\"Hãy nhập số mới:\"))\n",
    "\n",
    "test[i] = n\n",
    "print(test)"
   ]
  },
  {
   "cell_type": "code",
   "execution_count": 37,
   "id": "6f1e23fe-8ef2-43a7-a81e-c142e9121ed5",
   "metadata": {},
   "outputs": [
    {
     "name": "stdout",
     "output_type": "stream",
     "text": [
      "[3, 10, 6, 100, 20]\n"
     ]
    }
   ],
   "source": [
    "test = [3, 10, 6, 5, 20]\n",
    "# 5 -> 100\n",
    "\n",
    "test[3] = 100\n",
    "print(test)"
   ]
  },
  {
   "cell_type": "code",
   "execution_count": 47,
   "id": "23e515c5-df9a-4048-8f8a-9f9588e05a31",
   "metadata": {},
   "outputs": [
    {
     "data": {
      "text/plain": [
       "4"
      ]
     },
     "execution_count": 47,
     "metadata": {},
     "output_type": "execute_result"
    }
   ],
   "source": [
    "'''Find length of a list'''\n",
    "# test = [3, 10, 6, 5, 20]\n",
    "# #w1 : use len()\n",
    "# #w2 : use index()\n",
    "# len(test)\n",
    "# test.index(test[-1])\n",
    "\n",
    "'''thêm 1 số 20 vào '''\n",
    "test2 = [3, 10, 6, 5, 20, 20]\n",
    "test2.index(test[-1])\n",
    "#có 2 giá trùng lặp, vị trí index trả về là vị trí đằng trước\n",
    "#ko áp dụng index.test[-1] với list có element mà duplicate"
   ]
  },
  {
   "cell_type": "code",
   "execution_count": 57,
   "id": "0405a79a-c6f7-4bf3-b6f8-de035c422745",
   "metadata": {},
   "outputs": [
    {
     "name": "stdout",
     "output_type": "stream",
     "text": [
      "20\n"
     ]
    }
   ],
   "source": [
    "'''Find maximum of the first, middle, last element of a list'''\n",
    "#w1: use max()\n",
    "#w2: not using max()\n",
    "\n",
    "l = [3, 10, 6, 5, 20]\n",
    "\n",
    "#w1:\n",
    "# a = l[0], l[-1], len(l)//2\n",
    "# print(a)\n",
    "# max(a)\n",
    "\n",
    "#w2\n",
    "a = l[0]\n",
    "b = l[-1]\n",
    "c = len(l)//2\n",
    "\n",
    "if a > b and a > c:\n",
    "    print(a)\n",
    "elif b > a and b > c:\n",
    "    print(b)\n",
    "else:\n",
    "    print(c)"
   ]
  },
  {
   "cell_type": "markdown",
   "id": "5117df42-f035-4266-baa7-9c8070f1fa64",
   "metadata": {},
   "source": [
    "### 1.4 Slicing"
   ]
  },
  {
   "cell_type": "markdown",
   "id": "5dd2cf36-65ec-4efd-9896-687cd32fca20",
   "metadata": {},
   "source": [
    "- Truy cập nhóm element cùng lúc (luôn trả về 1 list)\n",
    "- Cú pháp `l[start:stop]` hoặc `l[start:stop:step]`\n",
    "- `start` : index phần tử đầu tiên (included)\n",
    "- `stop` : index phần tử cuối cùng (excluded)\n",
    "- `step` : bước nhảy, mặc định là 1"
   ]
  },
  {
   "cell_type": "code",
   "execution_count": 1,
   "id": "3a3fe25e-300d-4f08-9d15-7ef2edabc00c",
   "metadata": {},
   "outputs": [],
   "source": [
    "#khoi tao lai list\n",
    "l = [1, 2, 3, 4, 5]"
   ]
  },
  {
   "cell_type": "code",
   "execution_count": 10,
   "id": "39544dac-38e9-4ae7-ae8e-3190f6152d1f",
   "metadata": {},
   "outputs": [
    {
     "name": "stdout",
     "output_type": "stream",
     "text": [
      "[1, 2, 3]\n",
      "[1, 3, 5]\n",
      "[2, 3, 4]\n"
     ]
    }
   ],
   "source": [
    "#Slice từ phần tử đầu tiên đến phần tử thứ 3\n",
    "print(l[0:3])\n",
    "print(l[:5:2])\n",
    "#bước nhảy 2: nhảy 1 - 3 - 5\n",
    "\n",
    "print(l[1:4])"
   ]
  },
  {
   "cell_type": "code",
   "execution_count": 11,
   "id": "afa3fd28-b753-46c0-8df2-d6b82a0f1001",
   "metadata": {},
   "outputs": [
    {
     "name": "stdout",
     "output_type": "stream",
     "text": [
      "1\n",
      "[1]\n"
     ]
    }
   ],
   "source": [
    "#khác nhau giữa 2 câu\n",
    "print(l[0])      #index -> element\n",
    "print(l[0:1])    #slice -> list"
   ]
  },
  {
   "cell_type": "code",
   "execution_count": 18,
   "id": "aed51d4c-3bf0-4cfb-987d-35dd2f54abb1",
   "metadata": {},
   "outputs": [],
   "source": [
    "#lấy element từ trong print(l[0:1])\n",
    "l[0] = l[0:1][0]"
   ]
  },
  {
   "cell_type": "code",
   "execution_count": 19,
   "id": "9a00f55c-d2c0-4086-91e8-852b474b7eed",
   "metadata": {},
   "outputs": [
    {
     "name": "stdout",
     "output_type": "stream",
     "text": [
      "[5, 4, 3, 2, 1]\n"
     ]
    }
   ],
   "source": [
    "#slice đảo ngược list\n",
    "print(l[::-1])"
   ]
  },
  {
   "cell_type": "code",
   "execution_count": 22,
   "id": "e84cb0ad-9de5-4bcd-ac5d-cfc849f5aba1",
   "metadata": {},
   "outputs": [
    {
     "name": "stdout",
     "output_type": "stream",
     "text": [
      "[1, 99, 100, 4, 5]\n"
     ]
    }
   ],
   "source": [
    "#slice phần tử từ 2 đến 4, và thay bằng [99, 100] \n",
    "(l[1:3]) = [99,100]\n",
    "print(l)"
   ]
  },
  {
   "cell_type": "code",
   "execution_count": 23,
   "id": "c552d71c-b39b-4b9d-aea9-daafc5b88634",
   "metadata": {},
   "outputs": [
    {
     "name": "stdout",
     "output_type": "stream",
     "text": [
      "[1, 99, 100, 101, 'Apple', 4, 5]\n"
     ]
    }
   ],
   "source": [
    "#slice phần tử từ 2 đến 4, và thay bằng [99, 100] \n",
    "#insert nhiều hơn 2 phần tử gốc là 2 và 3\n",
    "(l[1:3]) = [99,100,101,\"Apple\"]\n",
    "print(l)"
   ]
  },
  {
   "cell_type": "code",
   "execution_count": 25,
   "id": "a4da487e-cbd5-45cd-8c9e-b9cb1f48e820",
   "metadata": {},
   "outputs": [
    {
     "name": "stdout",
     "output_type": "stream",
     "text": [
      "4\n",
      "[4, 5]\n"
     ]
    }
   ],
   "source": [
    "#lấy n phần tử cuối cùng\n",
    "print(l[-2])\n",
    "print(l[-2:])"
   ]
  },
  {
   "cell_type": "code",
   "execution_count": 82,
   "id": "e77ca64a-ac0c-4026-84fa-65904e0636f7",
   "metadata": {},
   "outputs": [
    {
     "name": "stdout",
     "output_type": "stream",
     "text": [
      "[4, 6, 8]\n",
      "[1, 3, 5, 7, 9]\n",
      "[1, 2, 3, 4, 5, 6, 7, 8, 9, 10]\n",
      "[1, 2, 3, 4, 5, 6, 7, 8, 9, 10]\n",
      "[10, 9, 8, 7, 6, 5, 4, 3, 2, 1]\n",
      "[10, 8, 6, 4, 2]\n",
      "[10, 7, 4, 1]\n",
      "[10, 9, 8, 7, 6, 5, 4, 3]\n"
     ]
    }
   ],
   "source": [
    "L = [1, 2, 3, 4, 5, 6, 7, 8, 9, 10]\n",
    "print(L[3:9:2])\n",
    "print(L[::2])\n",
    "print(L[::])\n",
    "print(L)\n",
    "print(L[::-1])\n",
    "print(L[::-2])\n",
    "print(L[::-3])\n",
    "print(L[:1:-1])"
   ]
  },
  {
   "cell_type": "code",
   "execution_count": 83,
   "id": "a0b2d1bb-a231-45e6-9891-6d0e48809c6a",
   "metadata": {},
   "outputs": [
    {
     "name": "stdout",
     "output_type": "stream",
     "text": [
      "[10, 9, 8]\n"
     ]
    }
   ],
   "source": [
    "#in 3 element cuối, theo thứ tự desc\n",
    "a = L[-3:][::-1]\n",
    "print(a)"
   ]
  },
  {
   "cell_type": "code",
   "execution_count": 87,
   "id": "c02ec803-6f47-4515-96de-e959da10d003",
   "metadata": {},
   "outputs": [
    {
     "name": "stdout",
     "output_type": "stream",
     "text": [
      "[1, 2, 3, 4, 5, 6, 7, 8, 9, 10]\n",
      "[5, 6]\n"
     ]
    }
   ],
   "source": [
    "#in ra 3 element ở giữa nếu tổng số element là lẻ, nếu là chẵn in ra 2 element ở giữa\n",
    "#[1, 2, 3, 4, 5, 6, 7, 8, 9] -> [4, 5, 6]\n",
    "#[1, 2, 3, 4, 5, 6, 7, 8] -> [4, 5]\n",
    "\n",
    "print(L)\n",
    "if len(L) % 2 > 0 :\n",
    "    print(L[4:7])\n",
    "else :\n",
    "    print(L[4:6])\n",
    "    \n",
    "#  Phát triển để nó tự động\n",
    "# print(L)\n",
    "# if len(L) % 2 > 0 and \n",
    "#     (L[0]+L[-1]) % 2 = 0:\n",
    "#     print(L[3:(L[0]+L[-1])/2])\n",
    "# else :\n",
    "#     print(L[3:5])\n"
   ]
  },
  {
   "cell_type": "markdown",
   "id": "8dc82a8c-9caa-4ed3-b243-eb6fd9361fbe",
   "metadata": {},
   "source": [
    "### 1.5 Lỗi out-of-range"
   ]
  },
  {
   "cell_type": "code",
   "execution_count": 92,
   "id": "30781d93-baf1-409e-9d1a-664c5a7c28f9",
   "metadata": {},
   "outputs": [
    {
     "name": "stdout",
     "output_type": "stream",
     "text": [
      "[1, 2, 3, 4, 5]\n"
     ]
    }
   ],
   "source": [
    "#Khởi tạo lại list\n",
    "L = [1, 2, 3, 4, 5]\n",
    "print(L)"
   ]
  },
  {
   "cell_type": "code",
   "execution_count": 97,
   "id": "b71c8151-a8db-47ba-8ecb-30a3710fff53",
   "metadata": {},
   "outputs": [
    {
     "ename": "IndexError",
     "evalue": "list index out of range",
     "output_type": "error",
     "traceback": [
      "\u001b[1;31m---------------------------------------------------------------------------\u001b[0m",
      "\u001b[1;31mIndexError\u001b[0m                                Traceback (most recent call last)",
      "Cell \u001b[1;32mIn[97], line 1\u001b[0m\n\u001b[1;32m----> 1\u001b[0m L[\u001b[38;5;241m5\u001b[39m]\n",
      "\u001b[1;31mIndexError\u001b[0m: list index out of range"
     ]
    }
   ],
   "source": [
    "L[5]"
   ]
  },
  {
   "cell_type": "code",
   "execution_count": 91,
   "id": "571932e8-d8f7-4139-8441-02ec5916dd50",
   "metadata": {},
   "outputs": [
    {
     "name": "stdout",
     "output_type": "stream",
     "text": [
      "[1, 2, 3, 4, 5]\n"
     ]
    }
   ],
   "source": [
    "#Index L[5] sẽ báo lỗi Out-Of-Range vì last index chỉ là 4\n",
    "#Nhưng slice sẽ không kiểm tra lỗi này\n",
    "#Nếu stop index lớn hơn last index thì slice tự động slice đến cuối list\n",
    "print(L[0:1000])"
   ]
  },
  {
   "cell_type": "markdown",
   "id": "fc372807-6ca8-43bc-8bb1-d71f63a6e1b2",
   "metadata": {},
   "source": [
    "### 1.6 Các thao tác với List\n",
    "- Đếm số phần tử\n",
    "- Kiểm tra membership\n",
    "- Concatenate\n",
    "- Xóa element\n",
    "- Sắp xếp element"
   ]
  },
  {
   "cell_type": "code",
   "execution_count": 98,
   "id": "70d37301-081f-4836-b4ca-55679bfc9813",
   "metadata": {},
   "outputs": [],
   "source": [
    "#Khởi tạo lại list\n",
    "L = [1, 2, 3, 4, 5]"
   ]
  },
  {
   "cell_type": "code",
   "execution_count": 99,
   "id": "989409d6-282a-489e-8ddc-f6e9c4b66bf7",
   "metadata": {},
   "outputs": [
    {
     "data": {
      "text/plain": [
       "5"
      ]
     },
     "execution_count": 99,
     "metadata": {},
     "output_type": "execute_result"
    }
   ],
   "source": [
    "#Đếm số phần tử\n",
    "len(L)"
   ]
  },
  {
   "cell_type": "code",
   "execution_count": 101,
   "id": "149308ae-601a-4b46-bb6a-1731af8dfc0f",
   "metadata": {},
   "outputs": [
    {
     "name": "stdout",
     "output_type": "stream",
     "text": [
      "[1, 2, 3, 4, 5]\n",
      "True\n",
      "False\n"
     ]
    }
   ],
   "source": [
    "#Kiểm tra giá trị nào đó có trong list không\n",
    "print(L)\n",
    "print(1 in L)\n",
    "print(99 in L)"
   ]
  },
  {
   "cell_type": "code",
   "execution_count": 105,
   "id": "f5a1c96f-ae0e-46e3-8c1e-6c2672045f03",
   "metadata": {},
   "outputs": [
    {
     "name": "stdout",
     "output_type": "stream",
     "text": [
      "[1, 2, 3, 4, 5, 1, -3, 8]\n",
      "[1, -3, 8, 1, 2, 3, 4, 5]\n"
     ]
    }
   ],
   "source": [
    "#Nối 2 list\n",
    "L2 = [1, -3, 8]\n",
    "print(L + L2)\n",
    "print(L2 + L)"
   ]
  },
  {
   "cell_type": "code",
   "execution_count": 106,
   "id": "cf3778c1-af02-412a-bdfa-8f24eea94587",
   "metadata": {},
   "outputs": [
    {
     "name": "stdout",
     "output_type": "stream",
     "text": [
      "[1, 2, 1, 2, 1, 2, 1, 2]\n"
     ]
    }
   ],
   "source": [
    "#Tạo list mới bằng cách replicate các element đã có sẵn\n",
    "l = [1, 2]\n",
    "print(l * 4)"
   ]
  },
  {
   "cell_type": "code",
   "execution_count": 109,
   "id": "cb2122f8-dd6f-406f-b493-8ad32c58f173",
   "metadata": {},
   "outputs": [
    {
     "name": "stdout",
     "output_type": "stream",
     "text": [
      "[1, -3, 8]\n",
      "[-3, 1, 8]\n",
      "[8, 1, -3]\n"
     ]
    }
   ],
   "source": [
    "#Sắp xép một list (nếu có thể)\n",
    "print(L2)\n",
    "print(sorted(L2))            #mặc định, sort từ nhỏ đến lớn(asc)\n",
    "print(sorted(L2, reverse = True)) #lớn -> nhỏ"
   ]
  },
  {
   "cell_type": "code",
   "execution_count": 112,
   "id": "9d9f9834-b508-4f91-9a3c-01d733651109",
   "metadata": {},
   "outputs": [
    {
     "name": "stdout",
     "output_type": "stream",
     "text": [
      "[1, 8]\n"
     ]
    }
   ],
   "source": [
    "#xóa phần tử thứ 2\n",
    "del L2[1]\n",
    "print(L2)"
   ]
  },
  {
   "cell_type": "code",
   "execution_count": 119,
   "id": "72065fc8-9362-431b-a7b1-9494ceb4ebfa",
   "metadata": {},
   "outputs": [
    {
     "name": "stdout",
     "output_type": "stream",
     "text": [
      "10\n",
      "30\n"
     ]
    },
    {
     "data": {
      "text/plain": [
       "(None, None)"
      ]
     },
     "execution_count": 119,
     "metadata": {},
     "output_type": "execute_result"
    }
   ],
   "source": [
    "#Gán element trong list thành variable (pack list)\n",
    "L3 = [10, 20, 30]\n",
    "\n",
    "y, m, d = L3\n",
    "print(y), print(d)"
   ]
  },
  {
   "cell_type": "code",
   "execution_count": 120,
   "id": "53e43bfa-9842-40e4-b9bd-a2a5ff032826",
   "metadata": {},
   "outputs": [
    {
     "name": "stdout",
     "output_type": "stream",
     "text": [
      "10\n",
      "[20, 30]\n"
     ]
    }
   ],
   "source": [
    "#Unpack list\n",
    "L3 = [10, 20, 30]\n",
    "\n",
    "a, *b = L3\n",
    "print(a)\n",
    "print(b)"
   ]
  },
  {
   "cell_type": "code",
   "execution_count": 123,
   "id": "d9593a78-ee0d-406f-a205-da259cf32c8b",
   "metadata": {},
   "outputs": [
    {
     "name": "stdout",
     "output_type": "stream",
     "text": [
      "6\n"
     ]
    }
   ],
   "source": [
    "#Tìm element có giá trị nhỏ nhất mà không dùng hàm min\n",
    "L4 = [10, 11, 14, 6, 8]\n",
    "print(sorted(L4)[0])"
   ]
  },
  {
   "cell_type": "markdown",
   "id": "5169477a-a06b-4a90-9c77-4b2dcf11703c",
   "metadata": {},
   "source": [
    "### 1.7 Các phương thức (method) của list\n",
    "Phương thức (meothod) là các hàm dành riêng cho đối tượng của một kiểu nào đó. \n",
    "Rất nhiều phương thức của list thuộc dạng \"inplace\", tức khi gọi phương thức thông qua tên list, thì effect của action sẽ được reflect vào list mà không cần thông qua phép gán\n",
    "- Các phương thức thông dụng:\n",
    " - .count() - L.count(2) - count bao nhiêu giá trị 2 trong list\n",
    " - .index() - L.index(100,0, 13) - output là index của giá trị 100 trong list[start 0 : stop 13],nếu stop nhỏ hơn index của giá trị 100 trong list thì error\n",
    " - .append() - giống extend nhưng nguyên list khi đưa vào vẫn giữ được nguyên list mà ko bị tách ra từng element\n",
    " - .extend() - nếu giá trị đầu đưa vào là list, thì extend tách các thành phần trong list đó và đưa vào trở thành từng element\n",
    " - .insert() - L.insert(2,'888')| giá trị 888 được insert sau index thứ\n",
    " - .pop() - xóa cái element ở vị trí index mà mình nhập\n",
    " - .remove() --- xóa giá trị mà mình điền, nhưng là giá trị đầu tiên trong chuỗi nếu có trùng (duplicate)\n",
    " - .clear()\n",
    " - .sort()"
   ]
  },
  {
   "cell_type": "code",
   "execution_count": 2,
   "id": "71e08391-3db5-4ddd-b18e-a64a51532a8d",
   "metadata": {},
   "outputs": [],
   "source": [
    "#Khởi tạo lại list\n",
    "L = [1, 2, 3, 4, 5]"
   ]
  },
  {
   "cell_type": "code",
   "execution_count": 30,
   "id": "d2658929-e95c-4a06-a13f-555d02e180fe",
   "metadata": {},
   "outputs": [
    {
     "name": "stdout",
     "output_type": "stream",
     "text": [
      "[1, 2, 3, 4, 5]\n"
     ]
    }
   ],
   "source": [
    "print(L)"
   ]
  },
  {
   "cell_type": "code",
   "execution_count": 18,
   "id": "ea27b460-7ddb-450f-96d0-deb096324266",
   "metadata": {},
   "outputs": [
    {
     "data": {
      "text/plain": [
       "1"
      ]
     },
     "execution_count": 18,
     "metadata": {},
     "output_type": "execute_result"
    }
   ],
   "source": [
    "#Đếm số lần xuất hiện của value 1\n",
    "L.count(1)"
   ]
  },
  {
   "cell_type": "code",
   "execution_count": 27,
   "id": "5b6eb1c1-f282-4173-8ad1-473777a92b0a",
   "metadata": {},
   "outputs": [
    {
     "data": {
      "text/plain": [
       "3"
      ]
     },
     "execution_count": 27,
     "metadata": {},
     "output_type": "execute_result"
    }
   ],
   "source": [
    "#Lấy index của value 5 xuất hiện đầu tiên\n",
    "L1 = [1, 2, 3, 5, 5]\n",
    "L1.index(5)"
   ]
  },
  {
   "cell_type": "code",
   "execution_count": 28,
   "id": "ff48b40d-da11-4cb3-9b71-a287598f05f5",
   "metadata": {},
   "outputs": [],
   "source": [
    "L.extend([\"A\",\"B\",\"C\"])"
   ]
  },
  {
   "cell_type": "code",
   "execution_count": 29,
   "id": "62f9c067-efb0-413c-bfe0-b31e879ab1ea",
   "metadata": {},
   "outputs": [
    {
     "name": "stdout",
     "output_type": "stream",
     "text": [
      "[1, 'A', 'B', 'C']\n"
     ]
    }
   ],
   "source": [
    "print(L)"
   ]
  },
  {
   "cell_type": "code",
   "execution_count": 33,
   "id": "cacb2b40-a4e4-4cfc-8988-0b4806279222",
   "metadata": {},
   "outputs": [],
   "source": [
    "L.append([\"A\",\"B\",\"C\"])"
   ]
  },
  {
   "cell_type": "code",
   "execution_count": 34,
   "id": "62ed3108-de6a-4382-8788-69734f3532b1",
   "metadata": {},
   "outputs": [
    {
     "name": "stdout",
     "output_type": "stream",
     "text": [
      "[1, 2, 3, 4, 5, 'A', 'B', 'C', ['A', 'B', 'C']]\n"
     ]
    }
   ],
   "source": [
    "print(L)"
   ]
  },
  {
   "cell_type": "code",
   "execution_count": 17,
   "id": "b5658b76-b60b-4217-87b7-e0c7ac08bd7e",
   "metadata": {},
   "outputs": [
    {
     "name": "stdout",
     "output_type": "stream",
     "text": [
      "[1, 2, 99, 99, 99, 3, 4, 5]\n"
     ]
    }
   ],
   "source": [
    "L.insert(2,99)\n",
    "print(L)"
   ]
  },
  {
   "cell_type": "code",
   "execution_count": 19,
   "id": "c9ea0cd7-0e42-4775-a2a9-0d600f6a10e1",
   "metadata": {},
   "outputs": [
    {
     "name": "stdout",
     "output_type": "stream",
     "text": [
      "[1, 2, 99, 99, 3, 4, 5]\n"
     ]
    }
   ],
   "source": [
    "L.remove(99)\n",
    "print(L)"
   ]
  },
  {
   "cell_type": "code",
   "execution_count": 10,
   "id": "0004d011-4f55-4f85-960e-d3789ee7b75f",
   "metadata": {},
   "outputs": [
    {
     "name": "stdout",
     "output_type": "stream",
     "text": [
      "[2, 99, 3, 4, 5]\n"
     ]
    }
   ],
   "source": [
    "L.pop(0)\n",
    "print(L)"
   ]
  },
  {
   "cell_type": "code",
   "execution_count": 26,
   "id": "3be0fd07-00b2-4f14-b57b-ddb771b35183",
   "metadata": {},
   "outputs": [
    {
     "name": "stdout",
     "output_type": "stream",
     "text": [
      "[1]\n"
     ]
    }
   ],
   "source": [
    "L.insert(0,1)\n",
    "print(L)"
   ]
  },
  {
   "cell_type": "code",
   "execution_count": 25,
   "id": "248357fc-4e6d-4252-9fb1-bb0c970fab1f",
   "metadata": {},
   "outputs": [
    {
     "name": "stdout",
     "output_type": "stream",
     "text": [
      "[]\n"
     ]
    }
   ],
   "source": [
    "L.clear()\n",
    "print(L)"
   ]
  },
  {
   "cell_type": "code",
   "execution_count": null,
   "id": "77cdac31-dd6e-4919-be7f-1e06aa1536b0",
   "metadata": {},
   "outputs": [],
   "source": [
    "L1.sort"
   ]
  },
  {
   "cell_type": "markdown",
   "id": "af4d8469-ced7-4a02-a922-7e8588dea2f8",
   "metadata": {},
   "source": [
    "## 2. Kiểu tuple\n",
    "- Tương tự list, nhưng immutable, là một khi được tạo ra thì tuple không thể thay đổi được.\n",
    "- Element của tuple thuộc data type tùy ý\n",
    "- Dùng `()` hoặc `tuple()` để khởi tạo"
   ]
  },
  {
   "cell_type": "code",
   "execution_count": 88,
   "id": "7fba3746-de4f-4583-ba1b-4b3b6b3d26d8",
   "metadata": {},
   "outputs": [
    {
     "name": "stdout",
     "output_type": "stream",
     "text": [
      "(1, 2, 3, 4)\n",
      "<class 'tuple'>\n"
     ]
    }
   ],
   "source": [
    "# #Khởi tạo tuple bằng ()\n",
    "t = (1, 2, 3, 4)\n",
    "print(t)\n",
    "print(type(t))\n",
    "\n",
    "# #Khởi tạo tuple bằng tuple()\n",
    "t = tuple([1, 2, 3, 4])\n",
    "print(t)\n",
    "print(type(t))\n",
    "\n",
    "# #Khởi tạo tuple bằng ()\n",
    "t = 1, 2, 3, 4\n",
    "print(t)\n",
    "print(type(t))"
   ]
  },
  {
   "cell_type": "markdown",
   "id": "24b92924-2195-4366-9d06-370199e1926c",
   "metadata": {},
   "source": [
    "## 3. Kiểu str(string)\n",
    " - Dùng để biểu diễn immutable sequence của các ký tự Unicode\n",
    " - `str` có thể tạo bằng cách dùng `'`, `\"`, `'''`, `\"\"` hoặc hàm `str()`\n",
    " - Triple quotes có thể span trên nhiều dòng, và bảo tồn các khoảng trắng (space, tab, new line)"
   ]
  },
  {
   "cell_type": "markdown",
   "id": "bf30e63b-ed5b-4219-a883-d58596e6e10f",
   "metadata": {},
   "source": [
    "### Khởi tạo str"
   ]
  },
  {
   "cell_type": "code",
   "execution_count": 89,
   "id": "eb7c5e50-147a-4932-a4e7-190cb8fec3f3",
   "metadata": {},
   "outputs": [
    {
     "name": "stdout",
     "output_type": "stream",
     "text": [
      "Hello World!\n",
      "<class 'str'>\n"
     ]
    }
   ],
   "source": [
    "s = 'Hello World!'\n",
    "print(s)\n",
    "print(type(s))"
   ]
  },
  {
   "cell_type": "markdown",
   "id": "4f08183a-1c2f-40d7-9237-96efaa97797c",
   "metadata": {},
   "source": [
    "### Các thao tác với str\n",
    "Tương tự `list` và `tuple`, ngoại trừ việc indexing tương đồng với slicing 1 phần tử."
   ]
  },
  {
   "cell_type": "code",
   "execution_count": 90,
   "id": "4d388dfa-b9c4-4dba-b797-d62d769082a6",
   "metadata": {},
   "outputs": [],
   "source": [
    "# Khởi tạo\n",
    "s = \"Hello Wordl!\""
   ]
  },
  {
   "cell_type": "code",
   "execution_count": 91,
   "id": "216f40d6-7ca4-411a-834a-cd579ac75ae8",
   "metadata": {},
   "outputs": [
    {
     "data": {
      "text/plain": [
       "12"
      ]
     },
     "execution_count": 91,
     "metadata": {},
     "output_type": "execute_result"
    }
   ],
   "source": [
    "len(s)"
   ]
  },
  {
   "cell_type": "code",
   "execution_count": 95,
   "id": "ff93a9db-c1dd-4fb5-a4e6-136704b0b8ca",
   "metadata": {},
   "outputs": [
    {
     "name": "stdout",
     "output_type": "stream",
     "text": [
      "W !\n",
      "Hell\n",
      "rdl!\n"
     ]
    }
   ],
   "source": [
    "#SLice 4 ký tự đầu và 4 ký tự cuối\n",
    "print(s[6], s[-1])\n",
    "print(s[0:4])\n",
    "print(s[-4:])"
   ]
  },
  {
   "cell_type": "code",
   "execution_count": 96,
   "id": "d1046ce5-a084-42cb-a55d-ee3ddd9a722f",
   "metadata": {},
   "outputs": [
    {
     "data": {
      "text/plain": [
       "'olleH'"
      ]
     },
     "execution_count": 96,
     "metadata": {},
     "output_type": "execute_result"
    }
   ],
   "source": [
    "#SLice đảo ngược string\n",
    "s = 'Hello'\n",
    "s[::-1]"
   ]
  },
  {
   "cell_type": "code",
   "execution_count": 98,
   "id": "cbb2da0c-7ef5-424e-9fff-71f03d430824",
   "metadata": {},
   "outputs": [
    {
     "data": {
      "text/plain": [
       "'HelloWorld'"
      ]
     },
     "execution_count": 98,
     "metadata": {},
     "output_type": "execute_result"
    }
   ],
   "source": [
    "# Nối 2 string\n",
    "s = 'Hello'\n",
    "s1 = 'World'\n",
    "s + s1"
   ]
  },
  {
   "cell_type": "code",
   "execution_count": 99,
   "id": "ead7eeb9-7c01-4eb2-8b5a-c6790db7cb18",
   "metadata": {},
   "outputs": [
    {
     "data": {
      "text/plain": [
       "'HelloHelloHelloHello'"
      ]
     },
     "execution_count": 99,
     "metadata": {},
     "output_type": "execute_result"
    }
   ],
   "source": [
    "# Replicate một string\n",
    "s = 'Hello'\n",
    "s * 4"
   ]
  },
  {
   "cell_type": "code",
   "execution_count": null,
   "id": "644d1d94-d23f-44a8-a470-8602d524fb1c",
   "metadata": {},
   "outputs": [],
   "source": [
    "# Đếm số ký tự\n",
    "len"
   ]
  },
  {
   "cell_type": "code",
   "execution_count": 102,
   "id": "8c7a0a88-fa81-4e72-aedb-07f93432136d",
   "metadata": {},
   "outputs": [
    {
     "data": {
      "text/plain": [
       "2"
      ]
     },
     "execution_count": 102,
     "metadata": {},
     "output_type": "execute_result"
    }
   ],
   "source": [
    "# Đếm số lần xuất hiện của ký tự\n",
    "s = 'Hello'\n",
    "s.count('l')"
   ]
  },
  {
   "cell_type": "code",
   "execution_count": 103,
   "id": "146da4d4-aacd-4ab2-b7fa-80d5735b0dcb",
   "metadata": {},
   "outputs": [
    {
     "data": {
      "text/plain": [
       "True"
      ]
     },
     "execution_count": 103,
     "metadata": {},
     "output_type": "execute_result"
    }
   ],
   "source": [
    "'l' in s"
   ]
  },
  {
   "cell_type": "code",
   "execution_count": 104,
   "id": "0d48165e-987c-4004-b899-32cfa6e15431",
   "metadata": {},
   "outputs": [
    {
     "data": {
      "text/plain": [
       "['H', 'e', 'l', 'l', 'o']"
      ]
     },
     "execution_count": 104,
     "metadata": {},
     "output_type": "execute_result"
    }
   ],
   "source": [
    "#Sắp xếp \n",
    "sorted(s)"
   ]
  },
  {
   "cell_type": "markdown",
   "id": "b68a6508-5915-414f-8256-96a737a92a9d",
   "metadata": {},
   "source": [
    "### String method"
   ]
  },
  {
   "cell_type": "code",
   "execution_count": 128,
   "id": "df8b4017-d656-45d0-b449-06445621b699",
   "metadata": {},
   "outputs": [
    {
     "name": "stdout",
     "output_type": "stream",
     "text": [
      "PYTHON IS FUN\n",
      "python is fun\n",
      "Python is fun\n",
      "Python Is Fun\n",
      "pYTHON IS FuN\n"
     ]
    }
   ],
   "source": [
    "#Khởi tạo string\n",
    "s = 'Python is fUn'\n",
    "print(s.upper())\n",
    "print(s.lower())\n",
    "print(s.capitalize())\n",
    "print(s.title())\n",
    "print(s.swapcase()) #cái nào đang in hoa thì in thường và ngược lại"
   ]
  },
  {
   "cell_type": "code",
   "execution_count": 113,
   "id": "d0c3b7db-e5f0-4242-a8a3-65eac2586a9d",
   "metadata": {},
   "outputs": [
    {
     "name": "stdout",
     "output_type": "stream",
     "text": [
      "True\n",
      "False\n",
      "False\n",
      "False\n"
     ]
    }
   ],
   "source": [
    "#Kiểm tra ký tự có phải là lowercase\n",
    "print('hello'.islower())\n",
    "print('HEllo'.islower())\n",
    "print(s.isupper())\n",
    "print(s.istitle())"
   ]
  },
  {
   "cell_type": "markdown",
   "id": "cfb53b88-a86e-41e7-9a78-4e0d1e2dc363",
   "metadata": {},
   "source": [
    "#### Kiểm tra string"
   ]
  },
  {
   "cell_type": "code",
   "execution_count": 114,
   "id": "d5ba14e1-3063-42ec-9feb-4f0ff96ef3db",
   "metadata": {},
   "outputs": [
    {
     "data": {
      "text/plain": [
       "True"
      ]
     },
     "execution_count": 114,
     "metadata": {},
     "output_type": "execute_result"
    }
   ],
   "source": [
    "a = 'Py'\n",
    "b = 'py'\n",
    "a.lower() == b.lower()"
   ]
  },
  {
   "cell_type": "code",
   "execution_count": 118,
   "id": "d09d4d97-5973-476a-81d4-0c86ba936655",
   "metadata": {},
   "outputs": [
    {
     "name": "stdout",
     "output_type": "stream",
     "text": [
      "True\n",
      "False\n",
      "False\n",
      "True\n",
      "True\n"
     ]
    }
   ],
   "source": [
    "#Kiểm tra string có bắt đầu với py ko\n",
    "print(s.startswith('Py'))\n",
    "print(s.startswith('alo'))\n",
    "print(s.endswith('alo'))\n",
    "print(s.endswith('fuN'))"
   ]
  },
  {
   "cell_type": "code",
   "execution_count": 119,
   "id": "301b57fc-47b4-4e38-a20b-96aa87e3757a",
   "metadata": {},
   "outputs": [
    {
     "name": "stdout",
     "output_type": "stream",
     "text": [
      "True\n",
      "False\n"
     ]
    }
   ],
   "source": [
    "print('ython' in s)\n",
    "print('YTHON' in s)"
   ]
  },
  {
   "cell_type": "markdown",
   "id": "204651d3-641f-48e8-9c96-aa34c41d4171",
   "metadata": {},
   "source": [
    "#### Tìm kiếm trong string\n",
    "\n",
    "- Dùng method `.find()` hoặc `.rfind()` , nếu ko tìm thấy trả về `-1`\n",
    "- Ngoài ra, có thể dùng `.index()` hoặc `.rindex()`. Hai hàm này tương tự như hai hàm trên, khác ở chỗ nếu ko tìm thấy sẽ raise `ValueError` thay vì trả về `-1`"
   ]
  },
  {
   "cell_type": "code",
   "execution_count": 130,
   "id": "1529b849-31eb-4fd6-a4ac-6b40e2917a19",
   "metadata": {},
   "outputs": [
    {
     "name": "stdout",
     "output_type": "stream",
     "text": [
      "5\n",
      "-1\n"
     ]
    }
   ],
   "source": [
    "#Tìm index của substring đầu tiên (từ trái sang)\n",
    "print(s.find('n'))\n",
    "print(s.find('G'))"
   ]
  },
  {
   "cell_type": "code",
   "execution_count": 129,
   "id": "fd317933-3cae-42fb-9abc-96242c8861fd",
   "metadata": {},
   "outputs": [
    {
     "name": "stdout",
     "output_type": "stream",
     "text": [
      "12\n"
     ]
    }
   ],
   "source": [
    "#Tìm index của substring đầu tiên (từ phải sang)\n",
    "print(s.rfind('n'))"
   ]
  },
  {
   "cell_type": "markdown",
   "id": "b7f4f8af-4a2b-4f50-b34b-ff5ca6759726",
   "metadata": {},
   "source": [
    "#### Method cho khoảng trắng"
   ]
  },
  {
   "cell_type": "code",
   "execution_count": 135,
   "id": "934f5b57-3b98-4309-ab1d-e6cb04f6c997",
   "metadata": {},
   "outputs": [
    {
     "name": "stdout",
     "output_type": "stream",
     "text": [
      "\n",
      " t\t\\   \n",
      "    \t   \n",
      "    \n",
      "False\n"
     ]
    }
   ],
   "source": [
    "s = \"\"\"\n",
    " t\\t\\   \n",
    "    \\t   \n",
    "    \"\"\"\n",
    "print(s)\n",
    "print(s.isspace())"
   ]
  },
  {
   "cell_type": "code",
   "execution_count": 140,
   "id": "ac8aeca3-6cea-47fb-ad1c-0ca863700c46",
   "metadata": {},
   "outputs": [
    {
     "name": "stdout",
     "output_type": "stream",
     "text": [
      "   Hello   World   \n",
      "19\n",
      "Hello   World   \n",
      "16\n",
      "   Hello   World\n",
      "16\n",
      "Hello   World\n",
      "13\n"
     ]
    }
   ],
   "source": [
    "#Bỏ khoảng trắng thừa\n",
    "s = \"   Hello   World   \"\n",
    "print(s)\n",
    "print(len(s))\n",
    "\n",
    "s1 = s.lstrip()\n",
    "print(s1)\n",
    "print(len(s1))\n",
    "\n",
    "s2 = s.rstrip()\n",
    "print(s2)\n",
    "print(len(s2))\n",
    "\n",
    "s3 = s.strip()\n",
    "print(s3)\n",
    "print(len(s3))"
   ]
  },
  {
   "cell_type": "markdown",
   "id": "322e1f18-26dd-4159-93dd-c2f9f062c574",
   "metadata": {},
   "source": [
    "#### Phân tách strings"
   ]
  },
  {
   "cell_type": "code",
   "execution_count": 142,
   "id": "ebe5ebb8-c2de-4596-839f-49f78b1799e4",
   "metadata": {},
   "outputs": [
    {
     "name": "stdout",
     "output_type": "stream",
     "text": [
      "['This', 'is', 'a', 'text', 'string']\n"
     ]
    }
   ],
   "source": [
    "s = \"This is a text string\"\n",
    "words = s.split(\" \")\n",
    "print(words)"
   ]
  },
  {
   "cell_type": "code",
   "execution_count": 144,
   "id": "d6d992e7-2155-47a1-be20-6253a793f05a",
   "metadata": {},
   "outputs": [
    {
     "name": "stdout",
     "output_type": "stream",
     "text": [
      "('Na', 'm', 'e: Loc')\n"
     ]
    }
   ],
   "source": [
    "# # Partition (tách) string thành 3 phần\n",
    "# - Trước separator\n",
    "# - Separator itself\n",
    "# - Sau separator\n",
    "\n",
    "s = 'Name: Loc'\n",
    "print(s.partition(\"m\"))"
   ]
  },
  {
   "cell_type": "code",
   "execution_count": 146,
   "id": "b09f8c2a-1073-4f64-9df9-777f874f0774",
   "metadata": {},
   "outputs": [
    {
     "name": "stdout",
     "output_type": "stream",
     "text": [
      "['This', 'is', 'a', 'text', 'string']\n",
      "This_is_a_text_string\n"
     ]
    }
   ],
   "source": [
    "#Nối nhiều substring thành 1 string\n",
    "#Note: elements của list/tuple phải string type\n",
    "\n",
    "words = ['This', 'is', 'a', 'text', 'string']\n",
    "s = \"_\".join(words)\n",
    "\n",
    "print(words)\n",
    "print(s)"
   ]
  },
  {
   "cell_type": "markdown",
   "id": "63443d9f-9013-4a0f-b568-2b4aec2a4c06",
   "metadata": {},
   "source": [
    "#### Formating strings\n",
    "More info: **pyformat.info**"
   ]
  },
  {
   "cell_type": "code",
   "execution_count": 147,
   "id": "509f1380-d3bc-4c44-b549-095f894659a2",
   "metadata": {},
   "outputs": [
    {
     "name": "stdout",
     "output_type": "stream",
     "text": [
      "Loc o nha que moi len\n"
     ]
    }
   ],
   "source": [
    "# Format thông thường\n",
    "name = \"Loc\"\n",
    "city = 'nha que'\n",
    "print(\"{} o {} moi len\".format(name,city))"
   ]
  },
  {
   "cell_type": "code",
   "execution_count": 149,
   "id": "1eb832e5-2a51-4637-9b71-50a96d7ad3cd",
   "metadata": {},
   "outputs": [
    {
     "name": "stdout",
     "output_type": "stream",
     "text": [
      "5 times 5 is equal to 25\n"
     ]
    }
   ],
   "source": [
    "# Format 1 biến dùng lại nhiều lần\n",
    "number = 5\n",
    "print(\"{0} times {0} is equal to {1}\".format(number, number**2))\n",
    "# 0 là index của number trong format\n",
    "# 1 là index của number**2 trong format"
   ]
  },
  {
   "cell_type": "code",
   "execution_count": 150,
   "id": "2fcd7b39-959e-445d-9256-db3fa7042fbe",
   "metadata": {},
   "outputs": [
    {
     "name": "stdout",
     "output_type": "stream",
     "text": [
      "Number of male student:         20\n",
      "Number of female student:         30\n",
      "Percentage of male student:       40.0%\n"
     ]
    }
   ],
   "source": [
    "#Padding and alignment\n",
    "# > Align to the right\n",
    "# < Align to the left\n",
    "# ^ Centered\n",
    "\n",
    "male = 20\n",
    "female = 30\n",
    "total = male + female\n",
    "percent_male = round(male*100/total,2)\n",
    "\n",
    "print(\"Number of male student: {:>10}\".format(male)) #cách ra 10 lầnk\n",
    "print(\"Number of female student: {:>10}\".format(female))\n",
    "print(\"Percentage of male student: {:>10}%\".format(percent_male))"
   ]
  },
  {
   "cell_type": "code",
   "execution_count": 151,
   "id": "c377de91-ff23-445a-b69c-68d58274c930",
   "metadata": {},
   "outputs": [
    {
     "name": "stdout",
     "output_type": "stream",
     "text": [
      "Barra)\n"
     ]
    }
   ],
   "source": [
    "# Truncate long strings\n",
    "name = \"Barrack very long Obama\"\n",
    "print(\"{:.5})\".format(name))"
   ]
  },
  {
   "cell_type": "markdown",
   "id": "9479c194-0aba-4406-937a-b47e5706be88",
   "metadata": {},
   "source": [
    "#### **Thường dùng**"
   ]
  },
  {
   "cell_type": "code",
   "execution_count": 156,
   "id": "7351b033-5cb0-43fb-9c47-39e1a4130587",
   "metadata": {},
   "outputs": [
    {
     "name": "stdout",
     "output_type": "stream",
     "text": [
      "Month 1: 05\n",
      "Month 2: 09\n"
     ]
    }
   ],
   "source": [
    "#Format số nguyên\n",
    "month1 = 5\n",
    "month2 = 9\n",
    "\n",
    "print(\"Month 1: {:02d}\".format(month1))\n",
    "print(\"Month 2: {:02d}\".format(month2))"
   ]
  },
  {
   "cell_type": "code",
   "execution_count": 155,
   "id": "681ae46a-2016-4750-b8f7-a5106cc78d16",
   "metadata": {},
   "outputs": [
    {
     "name": "stdout",
     "output_type": "stream",
     "text": [
      "3.33\n"
     ]
    }
   ],
   "source": [
    "#Format số thực\n",
    "print(\"{:.2f}\".format(10/3))"
   ]
  },
  {
   "cell_type": "markdown",
   "id": "0bfb4931-e6d9-46a1-8218-92290dc37c36",
   "metadata": {},
   "source": [
    "## 4. Kiểu dict (dictionary)"
   ]
  },
  {
   "cell_type": "markdown",
   "id": "fd98150b-1e03-4f9c-bdf2-42071aa073c7",
   "metadata": {},
   "source": [
    "### Tổng quan\n",
    " - Dùng để lưu data mà các elements có dạng `key: value`\n",
    " - Các phần tử không được xếp thứ tự và do đó **không có index**\n",
    " - Các phần tử được truy xuất qua `key`\n",
    " - Các key phải **unique** và thuộc kiểu immutable(VD:số, str, tuple)\n",
    " - Value có thể thuộc kiểu tùy ý\n",
    " - Dictionary là mutable\n",
    " - Khới tạo dict dùng `{}` hoặc hàm `dict()`\n",
    " - Dict có thể nest tùy ý\n",
    " - ***Note:** không nên dùng `float` để làm key vì máy tính lưu `float` ở dạng xấp xỉ*"
   ]
  },
  {
   "cell_type": "markdown",
   "id": "f32c8c41-759c-4ca4-9439-18d137522358",
   "metadata": {},
   "source": [
    "#### Khởi tạo"
   ]
  },
  {
   "cell_type": "code",
   "execution_count": 160,
   "id": "3699674f-644b-43e0-a0f2-35c6e80d05c7",
   "metadata": {},
   "outputs": [
    {
     "name": "stdout",
     "output_type": "stream",
     "text": [
      "{'name': 'Jack', 'country': 'US', 'age': 20}\n",
      "<class 'dict'>\n"
     ]
    }
   ],
   "source": [
    "# #Khởi tạo dict\n",
    "d = {\n",
    "    \"name\" : \"Jack\",\n",
    "    \"country\" : \"US\",\n",
    "    \"age\" : 20\n",
    "}\n",
    "\n",
    "#Khởi tạo dict dùng dict()\n",
    "d = dict(\n",
    "    name = \"Jack\",\n",
    "    country = \"US\",\n",
    "    age = 20\n",
    ")\n",
    "print(d)\n",
    "print(type(d))"
   ]
  },
  {
   "cell_type": "code",
   "execution_count": 166,
   "id": "378d1679-5422-4e86-b6cd-700671e237e9",
   "metadata": {},
   "outputs": [
    {
     "name": "stdout",
     "output_type": "stream",
     "text": [
      "{'name': 'John', 'country': 'US', 'age': 20}\n",
      "<class 'dict'>\n"
     ]
    }
   ],
   "source": [
    "#Khời tạo khi có giá trị trùng, giá trị cuối được giữ lại\n",
    "#Khởi tạo dict dùng dict()\n",
    "d = {\n",
    "    \"name\" : \"Jack\",\n",
    "    \"country\" : \"US\",\n",
    "    \"age\" : 20,\n",
    "    \"name\" : \"John\"\n",
    "}\n",
    "\n",
    "print(d)\n",
    "print(type(d))"
   ]
  },
  {
   "cell_type": "code",
   "execution_count": 167,
   "id": "99179ae0-cea4-4302-a0f8-0c1f5085e136",
   "metadata": {},
   "outputs": [
    {
     "name": "stdout",
     "output_type": "stream",
     "text": [
      "[['name', 'Jack'], ['country', 'US'], ['age', 20]]\n",
      "{'name': 'Jack', 'country': 'US', 'age': 20}\n"
     ]
    }
   ],
   "source": [
    "#Khởi tạo từ list/typle\n",
    "l = [[\"name\", \"Jack\"], [\"country\",\"US\"], [\"age\", 20]]\n",
    "d = dict(l)\n",
    "\n",
    "print(l)\n",
    "print(d)"
   ]
  },
  {
   "cell_type": "code",
   "execution_count": 169,
   "id": "726ce418-e95f-4bf6-b5e5-3089f1ec9c4e",
   "metadata": {},
   "outputs": [
    {
     "name": "stdout",
     "output_type": "stream",
     "text": [
      "{'name': 'Jack', 'country': 'US', 'age': 20}\n",
      "<class 'dict'>\n"
     ]
    }
   ],
   "source": [
    "#Khởi tạo dùng zip của list/tuple\n",
    "keys = [\"name\", \"country\",\"age\"]\n",
    "values = [\"Jack\", \"US\", 20]\n",
    "d = dict(zip(keys, values))\n",
    "\n",
    "print(d)\n",
    "print(type(d))"
   ]
  },
  {
   "cell_type": "markdown",
   "id": "1fbc7d87-b13a-4fd7-80c4-d60a5100b7f1",
   "metadata": {},
   "source": [
    "#### Các method"
   ]
  },
  {
   "cell_type": "code",
   "execution_count": 170,
   "id": "4e4ee776-3ed6-4a0d-ac75-9c06f1ef79bc",
   "metadata": {},
   "outputs": [],
   "source": [
    "#Khởi tạo\n",
    "d = {\n",
    "    \"name\" : \"Jack\",\n",
    "    \"country\" : \"US\",\n",
    "    \"age\" : 20\n",
    "}\n"
   ]
  },
  {
   "cell_type": "code",
   "execution_count": 176,
   "id": "d5add5bc-a204-4448-b6a2-d8881e24c0ef",
   "metadata": {},
   "outputs": [
    {
     "data": {
      "text/plain": [
       "3"
      ]
     },
     "execution_count": 176,
     "metadata": {},
     "output_type": "execute_result"
    }
   ],
   "source": [
    "#Đếm số lượng phần tử\n",
    "len(d)"
   ]
  },
  {
   "cell_type": "code",
   "execution_count": 179,
   "id": "ffd4b44c-d69a-4305-97d4-daa17dd5ae95",
   "metadata": {},
   "outputs": [
    {
     "name": "stdout",
     "output_type": "stream",
     "text": [
      "['name', 'country', 'age']\n"
     ]
    }
   ],
   "source": [
    "#Lấy list các key\n",
    "print(list(d))\n"
   ]
  },
  {
   "cell_type": "code",
   "execution_count": 182,
   "id": "a3fe9e1b-c440-4443-9cfd-db2aaa215291",
   "metadata": {},
   "outputs": [
    {
     "name": "stdout",
     "output_type": "stream",
     "text": [
      "Jack\n"
     ]
    }
   ],
   "source": [
    "#Truy xuất phần tử thông qua key, nếu key ko tồn tại, raise KeyError\n",
    "print(d[\"name\"])\n",
    "\n",
    "#print(d[\"jobs\"])"
   ]
  },
  {
   "cell_type": "code",
   "execution_count": 183,
   "id": "b15a26b1-6441-4050-8a26-8a24f60de4ea",
   "metadata": {},
   "outputs": [
    {
     "name": "stdout",
     "output_type": "stream",
     "text": [
      "{'name': 'Jack', 'country': 'US', 'age': 20, 'education': 'bachelor'}\n"
     ]
    }
   ],
   "source": [
    "#Thêm key mới\n",
    "d[\"education\"] = \"bachelor\"\n",
    "\n",
    "print(d)"
   ]
  },
  {
   "cell_type": "code",
   "execution_count": 184,
   "id": "76f4accd-5b37-4691-a077-8112582eeb74",
   "metadata": {},
   "outputs": [
    {
     "name": "stdout",
     "output_type": "stream",
     "text": [
      "{'name': 'Jack', 'country': 'US', 'age': 20, 'education': 'master'}\n"
     ]
    }
   ],
   "source": [
    "#Truy xuất và chính sửa\n",
    "d[\"education\"] = \"master\"\n",
    "\n",
    "print(d)"
   ]
  },
  {
   "cell_type": "code",
   "execution_count": 185,
   "id": "91aa3458-a9cb-466f-8704-a841598aa435",
   "metadata": {},
   "outputs": [
    {
     "name": "stdout",
     "output_type": "stream",
     "text": [
      "{'name': 'Jack', 'country': 'US', 'age': 20}\n"
     ]
    }
   ],
   "source": [
    "#Xóa element\n",
    "del d[\"education\"]\n",
    "\n",
    "print(d)"
   ]
  },
  {
   "cell_type": "code",
   "execution_count": 188,
   "id": "045e711d-7775-4219-8543-267b9ce9d96c",
   "metadata": {},
   "outputs": [
    {
     "name": "stdout",
     "output_type": "stream",
     "text": [
      "{'name': 'Jack', 'age': 20}\n",
      "Jack\n",
      "{'age': 20}\n"
     ]
    }
   ],
   "source": [
    "#Pop value by key\n",
    "#Nếu key ko tồn tại sẽ pop giá trị mặc định\n",
    "#Nếu ko có giá trị nặc định, raise KeyError\n",
    "\n",
    "d = {\"name\" : \"Jack\", \"age\" : 20}\n",
    "print(d)\n",
    "\n",
    "element = d.pop(\"name\")\n",
    "\n",
    "print(element)\n",
    "print(d)"
   ]
  },
  {
   "cell_type": "code",
   "execution_count": 191,
   "id": "e3f0480a-d319-470b-a36b-8dba9aa23d41",
   "metadata": {},
   "outputs": [
    {
     "name": "stdout",
     "output_type": "stream",
     "text": [
      "{'name': 'Jack', 'age': 20}\n",
      "{'name': 'Jack', 'age': 20}\n",
      "{'name': 'Jack', 'age': 20, 'education': 'N/A'}\n"
     ]
    }
   ],
   "source": [
    "#Set default value cho một key nếu chưa tồn tại\n",
    "#Nếu đã tồn tại, ko làm gì cả\n",
    "\n",
    "d = {\"name\" : \"Jack\", \"age\" : 20}\n",
    "print(d)\n",
    "\n",
    "d.setdefault(\"name\", \"N/A\")\n",
    "print(d)\n",
    "\n",
    "d.setdefault(\"education\",\"N/A\")\n",
    "print(d)"
   ]
  },
  {
   "cell_type": "code",
   "execution_count": 192,
   "id": "334eb9ae-c722-481c-8c3e-bd7830d7e41d",
   "metadata": {},
   "outputs": [
    {
     "name": "stdout",
     "output_type": "stream",
     "text": [
      "{'name': 'Jack', 'age': 20}\n",
      "{'name': 'Jack', 'age': '25', 'education': 'master'}\n"
     ]
    }
   ],
   "source": [
    "#Update (inplace) dict với một dict khác\n",
    "#Value của key trùng sẽ bị ghi đè\n",
    "\n",
    "d = {\"name\" : \"Jack\", \"age\" : 20}\n",
    "print(d)\n",
    "\n",
    "d2 = {\"age\" : \"25\", \"education\" : \"master\"}\n",
    "d.update(d2)\n",
    "\n",
    "print(d)"
   ]
  },
  {
   "cell_type": "markdown",
   "id": "fa0633a9-d00a-447c-8baf-3804b5d3d246",
   "metadata": {},
   "source": [
    "### Dict view\n",
    " - Các đối tượng trả về từ method như `d.keys()`, `d.values()`, `d.items()` là các **view objects**, nghĩa là khi đối tượng `d` thay đổi thì các view này cũng được update để phản ánh đúng trạng thái của `d`."
   ]
  },
  {
   "cell_type": "code",
   "execution_count": 194,
   "id": "1fb340fc-f3de-4158-9e4e-c1590488ce12",
   "metadata": {},
   "outputs": [
    {
     "name": "stdout",
     "output_type": "stream",
     "text": [
      "{}\n",
      "dict_keys([])\n"
     ]
    }
   ],
   "source": [
    "#Ví dụ, khởi tạo dict và view tới keys\n",
    "d = {}\n",
    "d_keys = d.keys()\n",
    "\n",
    "print(d)\n",
    "print(d_keys)"
   ]
  },
  {
   "cell_type": "code",
   "execution_count": 195,
   "id": "9a83cdf9-8832-4f57-9b4c-cca179772c64",
   "metadata": {},
   "outputs": [
    {
     "name": "stdout",
     "output_type": "stream",
     "text": [
      "{'name': 'Jack', 'age': 25}\n",
      "dict_keys(['name', 'age'])\n"
     ]
    }
   ],
   "source": [
    "#Update dict và theo dõi thay đổi\n",
    "d[\"name\"] = \"Jack\"\n",
    "d[\"age\"] = 25\n",
    "\n",
    "print(d)\n",
    "print(d_keys)"
   ]
  },
  {
   "cell_type": "markdown",
   "id": "1a365020-2a1c-4537-8834-17fa8e7755c8",
   "metadata": {},
   "source": [
    "## 5. Kiểu Set"
   ]
  },
  {
   "cell_type": "markdown",
   "id": "11662b8a-24bf-407e-bb00-8a7d4436f655",
   "metadata": {},
   "source": [
    "### Tổng quan\n",
    "- Dùng để lưu các collection của các phần tử immutable\n",
    "- Các phần tử của set là unique và không có thứ tự\n",
    "- Có 2 loại set:\n",
    "- `set` : mutable, có thể thêm/sửa/xóa phần tử\n",
    "- `frozenset` : immutable, ko thế thay đổi sau khi tạo\n",
    "- set/frozenset tương tự list/tuple\n",
    "- Khởi tạo set dùng `{}` hoặc `set()`"
   ]
  },
  {
   "cell_type": "markdown",
   "id": "0aafeca4-cdd4-41ef-af01-1d9a6168e06a",
   "metadata": {},
   "source": [
    "### Các method với set"
   ]
  },
  {
   "cell_type": "markdown",
   "id": "0119f834-f4e8-43e6-8f6c-11eb5ea61e5d",
   "metadata": {},
   "source": [
    "- `s1 | s2` : set union\n",
    "- `s1 & s2` :  set intersection\n",
    "- `s1 - s2` : set difference\n",
    "- `s1 <= s2` : check if s1 is a subset of s2\n",
    "- `s1 < s2` : check if s1 is a strict subset of s2"
   ]
  },
  {
   "cell_type": "code",
   "execution_count": 199,
   "id": "a60c3483-30ec-4448-8e0a-5ca295bd927b",
   "metadata": {},
   "outputs": [
    {
     "name": "stdout",
     "output_type": "stream",
     "text": [
      "{1, 2, 3}\n"
     ]
    }
   ],
   "source": [
    "# Khới tạo\n",
    "s = {1, 2, 3}\n",
    "print(s)\n",
    "print(type(s))\n",
    "\n",
    "s = set([1, 2, 3, 3, 3, 3, 3])\n",
    "print(s)"
   ]
  },
  {
   "cell_type": "code",
   "execution_count": 214,
   "id": "ffe753ef-c0e9-43fd-9dcf-5d213773df52",
   "metadata": {},
   "outputs": [
    {
     "data": {
      "text/plain": [
       "True"
      ]
     },
     "execution_count": 214,
     "metadata": {},
     "output_type": "execute_result"
    }
   ],
   "source": [
    "# Khới tạo\n",
    "s1 = {1, 2, 3, 4, 5}\n",
    "s2 = {1, 2, 3}\n",
    "\n",
    "#union - tất output nhưng set data type chỉ lấy unique value\n",
    "s1 | s2\n",
    "\n",
    "#intersection - giá trị trùng - giống inner join\n",
    "s1 & s2\n",
    "\n",
    "#difference\n",
    "#print(s1 - s2) #difference giữa s1 với s2\n",
    "#print(s2 - s1) #difference giữa s2 với s1\n",
    "\n",
    "#subset\n",
    "s1 <= s2 #s1 ko phải là subset của s2\n",
    "s2 <= s1\n",
    "\n"
   ]
  },
  {
   "cell_type": "markdown",
   "id": "e1996d98-d63e-4474-9e93-639f030a170a",
   "metadata": {},
   "source": [
    "## BTVN"
   ]
  },
  {
   "cell_type": "markdown",
   "id": "941bf457-49d6-45e0-8554-c2b0766da756",
   "metadata": {},
   "source": [
    "### Khởi tạo List"
   ]
  },
  {
   "cell_type": "code",
   "execution_count": 30,
   "id": "3710c932-d268-44ec-99d4-3bbd1a8dfa7b",
   "metadata": {},
   "outputs": [
    {
     "name": "stdout",
     "output_type": "stream",
     "text": [
      "[1, 2, 3, 4, 5, 6, 7, 8, 9]\n"
     ]
    }
   ],
   "source": [
    "L = [1, 2, 3, 4, 5, 6, 7, 8, 9]\n",
    "print(L)"
   ]
  },
  {
   "cell_type": "markdown",
   "id": "2728a348-7123-4e5d-8989-3b34e8e06588",
   "metadata": {},
   "source": [
    "### Truy xuất phần tử"
   ]
  },
  {
   "cell_type": "code",
   "execution_count": 35,
   "id": "175b6e2b-4024-4d09-bca3-e32664f48e06",
   "metadata": {},
   "outputs": [
    {
     "name": "stdout",
     "output_type": "stream",
     "text": [
      "1 5 9\n"
     ]
    }
   ],
   "source": [
    "#Lấy phần tử đầu, giữa, cuối\n",
    "print(L[0], L[len(L)//2], L[-1])"
   ]
  },
  {
   "cell_type": "code",
   "execution_count": 73,
   "id": "13812fdb-336b-47b6-af01-5ab257a547f8",
   "metadata": {},
   "outputs": [
    {
     "name": "stdout",
     "output_type": "stream",
     "text": [
      "[1, 5, 9]\n"
     ]
    }
   ],
   "source": [
    "#Tạo list rỗng và add các element vừa truy xuất vào list đó\n",
    "L2 = []\n",
    "L2.append(L[0])\n",
    "L2.append(L[len(L)//2])\n",
    "L2.append(L[-1])\n",
    "print(L2)\n"
   ]
  },
  {
   "cell_type": "code",
   "execution_count": 74,
   "id": "952a31af-6802-4106-9114-ba267aa05655",
   "metadata": {},
   "outputs": [
    {
     "name": "stdout",
     "output_type": "stream",
     "text": [
      "15 5.0\n"
     ]
    }
   ],
   "source": [
    "L2\n",
    "import numpy as np\n",
    "tong = sum(L2)\n",
    "tb = np.mean(L2)\n",
    "max\n",
    "min\n",
    "\n",
    "print (tong, tb)"
   ]
  },
  {
   "cell_type": "code",
   "execution_count": 76,
   "id": "c51be036-06f6-4e57-b5e5-549433985a05",
   "metadata": {},
   "outputs": [
    {
     "data": {
      "text/plain": [
       "[9, 5, 1]"
      ]
     },
     "execution_count": 76,
     "metadata": {},
     "output_type": "execute_result"
    }
   ],
   "source": [
    "#sort list\n",
    "sorted(L2, reverse = True)"
   ]
  },
  {
   "cell_type": "code",
   "execution_count": 77,
   "id": "dbfbc19c-95dd-404a-84f6-2308b618cad9",
   "metadata": {},
   "outputs": [
    {
     "name": "stdout",
     "output_type": "stream",
     "text": [
      "[1, 2, 3, 4, 5, 6, 7, 8, 9, [15, 5.0]]\n"
     ]
    }
   ],
   "source": [
    "L3 = [tong, tb]\n",
    "L.append(L3)\n",
    "print(L)"
   ]
  },
  {
   "cell_type": "code",
   "execution_count": 78,
   "id": "5de37fd6-dad0-41c3-a0a9-23de11a71be2",
   "metadata": {},
   "outputs": [
    {
     "name": "stdout",
     "output_type": "stream",
     "text": [
      "[1, 2, 3, 4, 5, 6, 7, 8, 9, [15, 5.0], 15, 5.0]\n"
     ]
    }
   ],
   "source": [
    "L.extend(L3)\n",
    "print(L)"
   ]
  },
  {
   "cell_type": "code",
   "execution_count": 84,
   "id": "6b58360d-d118-4525-9da3-57bd1236d52e",
   "metadata": {},
   "outputs": [
    {
     "name": "stdout",
     "output_type": "stream",
     "text": [
      "[]\n",
      "[1, 2, 3, 4]\n"
     ]
    }
   ],
   "source": [
    "L4 = [1, 2, 3, 4]\n",
    "\n",
    "L_chan = []\n",
    "L_le = []\n",
    "if sum(L4[-2:]) %2 == 0:\n",
    "    L_chan.extend(L4)\n",
    "else:\n",
    "    L_le.extend(L4)\n",
    "\n",
    "print(L_chan)\n",
    "print(L_le)"
   ]
  },
  {
   "cell_type": "code",
   "execution_count": null,
   "id": "3fb01f78-571f-4608-abed-a927d8a71773",
   "metadata": {},
   "outputs": [],
   "source": []
  }
 ],
 "metadata": {
  "kernelspec": {
   "display_name": "Python 3 (ipykernel)",
   "language": "python",
   "name": "python3"
  },
  "language_info": {
   "codemirror_mode": {
    "name": "ipython",
    "version": 3
   },
   "file_extension": ".py",
   "mimetype": "text/x-python",
   "name": "python",
   "nbconvert_exporter": "python",
   "pygments_lexer": "ipython3",
   "version": "3.11.7"
  }
 },
 "nbformat": 4,
 "nbformat_minor": 5
}
