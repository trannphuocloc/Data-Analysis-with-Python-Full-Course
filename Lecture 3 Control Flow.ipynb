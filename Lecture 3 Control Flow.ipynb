{
 "cells": [
  {
   "cell_type": "markdown",
   "id": "93bd5c24-80f5-4994-aa16-45de5c990212",
   "metadata": {},
   "source": [
    "# Lecture 3: Control Flow + Def Function\n",
    "\n",
    "## Control Flow\n",
    "- Có 3 pattern trong lập trình:\n",
    "  1. **Sequntial:** thực thi từ trên xuống dưới\n",
    "  2. **Branching:** kiểm tra điều kiện, nếu đúng làm block lệnh này, sai làm block lệnh kia\n",
    "  3. **Looping:** kiểm tra điều kiện và lặp lại một block lệnh"
   ]
  },
  {
   "cell_type": "markdown",
   "id": "696f473f-6321-4ba3-a20f-7394ba224716",
   "metadata": {},
   "source": [
    "### 1. Branching\n",
    "- Branching là động tác điều hướng chương trình thực thi các khối lệnh khác nhau dựa trên kết quả của việc kiểm tra một điều kiện nào đó.\n",
    "- Branching sử dụng các từ khóa `if`, `elif`,`else`.\n",
    "- `elif`, `else` là optional"
   ]
  },
  {
   "cell_type": "markdown",
   "id": "e6a434f5-dfe8-4638-9ea6-b09c59ed6c24",
   "metadata": {},
   "source": [
    "#### Ví dụ"
   ]
  },
  {
   "cell_type": "markdown",
   "id": "db9bad3c-07e3-4411-9395-5fee8573152b",
   "metadata": {},
   "source": [
    "#### VD1: `if`"
   ]
  },
  {
   "cell_type": "code",
   "execution_count": 8,
   "id": "83065d95-c9ca-4542-b018-b26eb42294a5",
   "metadata": {},
   "outputs": [
    {
     "name": "stdout",
     "output_type": "stream",
     "text": [
      "positive\n"
     ]
    }
   ],
   "source": [
    "#Kiểm tra một số nguyên xem có phải là số dương hay không, nếu đúng in ra \"positive\"\n",
    "x = 10\n",
    "if x > 0:\n",
    "    print(\"positive\")"
   ]
  },
  {
   "cell_type": "code",
   "execution_count": 16,
   "id": "4687ddd7-6aec-4cc7-b494-6584204ede85",
   "metadata": {},
   "outputs": [
    {
     "name": "stdout",
     "output_type": "stream",
     "text": [
      "positive\n"
     ]
    }
   ],
   "source": [
    "#Kiểm tra một số nguyên xem có phải là số dương hay không, nếu đúng in ra \"positive\"\n",
    "x = 10\n",
    "if x > 0:\n",
    "    print(\"positive\")\n",
    "elif x == 0:\n",
    "    print( \"x = 0\")\n",
    "else:\n",
    "    print(\"negative\")"
   ]
  },
  {
   "cell_type": "markdown",
   "id": "bf2795e4-8b0d-42f2-adea-279da272d71b",
   "metadata": {},
   "source": [
    "#### VD2: `if` `else`"
   ]
  },
  {
   "cell_type": "code",
   "execution_count": 17,
   "id": "922a8891-e5f8-481b-8559-eb344e05efd3",
   "metadata": {},
   "outputs": [
    {
     "name": "stdout",
     "output_type": "stream",
     "text": [
      "odd\n"
     ]
    }
   ],
   "source": [
    "#Kiểm tra một số nguyên là even hay odd, nếu chẵn in \"even\", nếu lẻ in \"odd\"\n",
    "x = 3\n",
    "if x%2 > 0:\n",
    "    print(\"odd\")\n",
    "else:\n",
    "    print(\"even\")"
   ]
  },
  {
   "cell_type": "code",
   "execution_count": 27,
   "id": "651e1afc-75c2-4c74-8fa4-ad24e43b4d85",
   "metadata": {},
   "outputs": [
    {
     "name": "stdout",
     "output_type": "stream",
     "text": [
      "pass\n"
     ]
    }
   ],
   "source": [
    "#Kiểm tra xem điểm có hợp lệ hay không (0-10)\n",
    "#Nếu hợp lệ, kiểm tra có qua môn hay không (pass score >=5)\n",
    "\n",
    "x = 6\n",
    "\n",
    "if x >= 0 and x <= 10:\n",
    "    if x >= 5 :\n",
    "        print(\"pass\")\n",
    "    else: \n",
    "        print(\"fail\")\n",
    "else:\n",
    "    print(\"Diem ko hop le\")"
   ]
  },
  {
   "cell_type": "code",
   "execution_count": 30,
   "id": "6d9265b6-976b-4524-982a-9babe1641f89",
   "metadata": {},
   "outputs": [],
   "source": [
    "#VD thực hành: Tạo một dictionary lưu điểm\n",
    "\n",
    "score = {\n",
    "    \"Jack\" : 9,\n",
    "    \"Bill\" : 4,\n",
    "    \"Hillary\" : 7\n",
    "}"
   ]
  },
  {
   "cell_type": "code",
   "execution_count": 32,
   "id": "eb72ea93-c4a8-4af1-995c-b5cea60031f6",
   "metadata": {},
   "outputs": [
    {
     "name": "stdout",
     "output_type": "stream",
     "text": [
      "hs ko co trong he thong\n"
     ]
    }
   ],
   "source": [
    "#Kiểm tra student có trong danh sách không \n",
    "#Nếu có, tiếp tục kiểm tra xem student đó có qua môn không (pass socre >= 5)\n",
    "student = \"Thu\"\n",
    "\n",
    "if student not in score.keys():\n",
    "    print(\"hs ko co trong he thong\")\n",
    "elif score.pop(student) >= 5:\n",
    "    print(\"pass\")\n",
    "else:\n",
    "    print(\"fail\")"
   ]
  },
  {
   "cell_type": "code",
   "execution_count": null,
   "id": "eb5e652f-253b-47c3-a57f-2aa67c900312",
   "metadata": {},
   "outputs": [],
   "source": [
    "#Exercise\n",
    "'''\n",
    "    Viết một chương trình để tính giá trị hóa đơn sau giảm giá của một cửa hàng, giá trị hóa đơn do nhân viên cửa hàng nhập,\n",
    "    -> 1 000 000 : 10%\n",
    "    -> 500 000 - 1 000 000 : 5%\n",
    "    -> < 500 000 : 2%\n",
    "'''\n",
    "x = int(input(\"Hay nhap gia tri don hang:\"))\n",
    "if x > 1000000:\n",
    "    print(x*(1-0.1))\n",
    "elif 1000000 > x > 500000:\n",
    "    print(x*(1-0.05))\n",
    "else:\n",
    "    print(x*(1-0.02))\n",
    "\n",
    "#Better\n",
    "\n",
    "x = 100000000\n",
    "if x < 500000:\n",
    "    print(x*(1-0.02))\n",
    "elif x < 1000000:\n",
    "    print(x*(1-0.05))\n",
    "else:\n",
    "    print(x*(1-0.1))"
   ]
  },
  {
   "cell_type": "markdown",
   "id": "43eec1ad-7277-4d76-a1c1-db604da344b1",
   "metadata": {},
   "source": [
    "### 2. Looping\n",
    "- Looping (lặp) là động tác lặp đi lặp lại block lệnh nhiều lần\n",
    "- Looping trong Python được thực hiện thông qua `for` hoặc `while`"
   ]
  },
  {
   "cell_type": "markdown",
   "id": "8af7f1b4-f2f2-4135-a87e-b26d091b183a",
   "metadata": {},
   "source": [
    "#### 2.1 `for` loop\n",
    "- Vòng `for` thường được dùng để duyệt qua một `iterable`\n",
    "- Cú pháp:\n",
    "- \n",
    "        for var in interable:\n",
    "  \n",
    "           # do something"
   ]
  },
  {
   "cell_type": "markdown",
   "id": "f7eb0bdc-638d-45a7-91eb-f5afbe25f561",
   "metadata": {},
   "source": [
    "#### VD1: Duyệt interable cơ bản"
   ]
  },
  {
   "cell_type": "code",
   "execution_count": null,
   "id": "f88f841f-c72e-403d-9aae-808d5aeafd7c",
   "metadata": {},
   "outputs": [],
   "source": [
    "#In ra 10 số nguyên đầu tiên\n",
    "for i in range(10):\n",
    "    print(i)"
   ]
  },
  {
   "cell_type": "code",
   "execution_count": 3,
   "id": "09ca8e31-5ca2-4724-b092-e98dd9011b82",
   "metadata": {},
   "outputs": [
    {
     "name": "stdout",
     "output_type": "stream",
     "text": [
      "0123456789"
     ]
    }
   ],
   "source": [
    "#In ra 10 số nguyên đầu tiên\n",
    "for i in range(10):\n",
    "    print(i, end = '')"
   ]
  },
  {
   "cell_type": "code",
   "execution_count": 4,
   "id": "4dba6247-0d7f-434a-8469-093a9ee21418",
   "metadata": {},
   "outputs": [
    {
     "data": {
      "text/plain": [
       "285"
      ]
     },
     "execution_count": 4,
     "metadata": {},
     "output_type": "execute_result"
    }
   ],
   "source": [
    "# Tính tổng bình phương của 10 số nguyên tố đầu tiên\n",
    "\n",
    "total = 0\n",
    "for i in range(10):\n",
    "    total = total + i**2\n",
    "total"
   ]
  },
  {
   "cell_type": "code",
   "execution_count": 37,
   "id": "a3ff7a70-e685-41c5-a7a4-7cba064fad3f",
   "metadata": {},
   "outputs": [
    {
     "data": {
      "text/plain": [
       "6"
      ]
     },
     "execution_count": 37,
     "metadata": {},
     "output_type": "execute_result"
    }
   ],
   "source": [
    "# Đếm số ký tự viết hoa trong 1 string\n",
    "s = \"WTO is short for World Trade Organization\"\n",
    "\n",
    "c = 0\n",
    "\n",
    "for i in s:\n",
    "    if i.isupper():\n",
    "        c = c + 1\n",
    "c"
   ]
  },
  {
   "cell_type": "code",
   "execution_count": 38,
   "id": "b3ddd839-bfbc-4bea-a733-00282131df7e",
   "metadata": {},
   "outputs": [
    {
     "name": "stdout",
     "output_type": "stream",
     "text": [
      "Student 1 is Jack\n",
      "Student 2 is Bill\n",
      "Student 3 is Jane\n"
     ]
    }
   ],
   "source": [
    "#Duyệt kèm index với enumerate\n",
    "students = [\"Jack\",\"Bill\",\"Jane\"]\n",
    "for i, x in enumerate(students):\n",
    "    print(\"Student {} is {}\".format(i + 1, x))"
   ]
  },
  {
   "cell_type": "code",
   "execution_count": 40,
   "id": "7622c235-16f5-47c6-90a4-2d9021075386",
   "metadata": {},
   "outputs": [
    {
     "name": "stdout",
     "output_type": "stream",
     "text": [
      "Jack\n",
      "Bill\n",
      "Hillary\n"
     ]
    }
   ],
   "source": [
    "#Duyệt dict keys\n",
    "scores = {\n",
    "    \"Jack\" : 9,\n",
    "    \"Bill\" : 4,\n",
    "    \"Hillary\" : 7\n",
    "}\n",
    "for k in scores:\n",
    "    print(k)"
   ]
  },
  {
   "cell_type": "code",
   "execution_count": 41,
   "id": "59e5d55c-ce77-4433-897f-f1c2dc712b08",
   "metadata": {},
   "outputs": [
    {
     "name": "stdout",
     "output_type": "stream",
     "text": [
      "9\n",
      "4\n",
      "7\n"
     ]
    }
   ],
   "source": [
    "#Duyệt dict values\n",
    "for v in scores.values():\n",
    "    print(v)"
   ]
  },
  {
   "cell_type": "code",
   "execution_count": 42,
   "id": "c1c73c11-d396-439f-bfd9-b30664449911",
   "metadata": {},
   "outputs": [
    {
     "name": "stdout",
     "output_type": "stream",
     "text": [
      "Student Jack has score of 9\n",
      "Student Bill has score of 4\n",
      "Student Hillary has score of 7\n"
     ]
    }
   ],
   "source": [
    "for k, v in scores.items():\n",
    "    print(\"Student {} has score of {}\".format(k,v))"
   ]
  },
  {
   "cell_type": "code",
   "execution_count": 43,
   "id": "d5a7db82-3880-4d38-a227-7073774614c8",
   "metadata": {},
   "outputs": [
    {
     "name": "stdout",
     "output_type": "stream",
     "text": [
      "0 1 2 3 4 5 6 7 8 9 \n",
      "1 2 3 4 5 6 7 8 9 \n",
      "2 3 4 5 6 7 8 9 \n",
      "3 4 5 6 7 8 9 \n",
      "4 5 6 7 8 9 \n",
      "5 6 7 8 9 \n",
      "6 7 8 9 \n",
      "7 8 9 \n",
      "8 9 \n",
      "9 \n"
     ]
    }
   ],
   "source": [
    "#In ra tam giác\n",
    "for i in range(0, 10): #duyệt từ 0 đến 9\n",
    "    for j in range(i, 10): #ứng với mỗi i duyệt tiếp từ 0 đến 9\n",
    "        print(j, end = \" \")\n",
    "    print (\"\")"
   ]
  },
  {
   "cell_type": "code",
   "execution_count": 47,
   "id": "e07b77d9-c918-4036-8dec-6b782c4009e5",
   "metadata": {},
   "outputs": [
    {
     "name": "stdout",
     "output_type": "stream",
     "text": [
      "T_h_i_s_ _i_s_ _a_ _s_t_r_i_n_g_"
     ]
    }
   ],
   "source": [
    "# Dùng trong for duyệt 1 sequence\n",
    "s = \"This is a string\"\n",
    "for i in s:\n",
    "    print(i, end = '_')"
   ]
  },
  {
   "cell_type": "code",
   "execution_count": 49,
   "id": "a23f20b3-70c8-42f3-8787-511b516acc33",
   "metadata": {},
   "outputs": [
    {
     "name": "stdout",
     "output_type": "stream",
     "text": [
      "T h i s   i s   a   s t r i n g "
     ]
    }
   ],
   "source": [
    "# Thực hiện VD trên với while\n",
    "i = 0\n",
    "while i < len(s):\n",
    "    print(s[i], end = ' ')\n",
    "    i += 1"
   ]
  },
  {
   "cell_type": "code",
   "execution_count": 51,
   "id": "ac917a49-7183-4b49-be14-f5181178c877",
   "metadata": {},
   "outputs": [
    {
     "name": "stdout",
     "output_type": "stream",
     "text": [
      "[1, 2, 3, 4, 0, -2]\n"
     ]
    }
   ],
   "source": [
    "#Tính tổng một list số nguyên và làm rỗng list khi tính xong\n",
    "l = [1, 2, 3, 4, 0, -2]\n",
    "print(l)"
   ]
  },
  {
   "cell_type": "code",
   "execution_count": 52,
   "id": "956b0b27-632a-4c3d-90f5-52add7ae0945",
   "metadata": {},
   "outputs": [
    {
     "name": "stdout",
     "output_type": "stream",
     "text": [
      "8\n",
      "[]\n"
     ]
    }
   ],
   "source": [
    "#Tính tổng một list số nguyên và LÀM RỖNG LIST sau khi tính xong\n",
    "total = 0\n",
    "\n",
    "while l:\n",
    "    total += l.pop()\n",
    "\n",
    "print(total)\n",
    "print(l)"
   ]
  },
  {
   "cell_type": "code",
   "execution_count": 53,
   "id": "063ad4b4-8fc9-48e9-be43-f4ca4a86a433",
   "metadata": {},
   "outputs": [
    {
     "name": "stdout",
     "output_type": "stream",
     "text": [
      "12345\n",
      "1"
     ]
    }
   ],
   "source": [
    "# In ra các chữ số của một số nguyên theo chiều ngược lại\n",
    "#VD số ban đầu 12345678, số in ra 87654321\n",
    "\n",
    "num = 12345\n",
    "print(num)\n",
    "\n",
    "while num > 0:\n",
    "    r = num % 10\n",
    "    num = num // 10\n",
    "\n",
    "print(r, end = \"\")"
   ]
  },
  {
   "cell_type": "code",
   "execution_count": 54,
   "id": "7d5a03b7-287e-4b95-be3f-6f1233a8c305",
   "metadata": {},
   "outputs": [
    {
     "data": {
      "text/plain": [
       "76544321"
      ]
     },
     "execution_count": 54,
     "metadata": {},
     "output_type": "execute_result"
    }
   ],
   "source": [
    "num = 12344567\n",
    "\n",
    "int(str(num)[::-1])"
   ]
  },
  {
   "cell_type": "markdown",
   "id": "029857aa-17a7-4581-a744-aa53c0037e6c",
   "metadata": {},
   "source": [
    "### 3. `break` and `continue`"
   ]
  },
  {
   "cell_type": "markdown",
   "id": "f5ee0c18-ceaa-4761-b3c1-2185b0407430",
   "metadata": {},
   "source": [
    "#### 3.1. `break`"
   ]
  },
  {
   "cell_type": "code",
   "execution_count": 55,
   "id": "40d63c96-cc0c-4b07-89ec-45dcda619bbd",
   "metadata": {},
   "outputs": [],
   "source": [
    "# In ra số chẵn đầu tiên của list(nếu tìm thấy) và dừng vòng lặp\n",
    "# Đồng thời in ra số thứ tự của iteration ở mỗi bước (bắt đầu từ 1)\n",
    "l = [1,3,-15,4,8,-2,7]\n",
    "l2 = list(range(1,10,2))"
   ]
  },
  {
   "cell_type": "code",
   "execution_count": 57,
   "id": "6d6b7a15-7f38-4993-a9d3-c523ac6a6986",
   "metadata": {},
   "outputs": [
    {
     "name": "stdout",
     "output_type": "stream",
     "text": [
      "4\n"
     ]
    }
   ],
   "source": [
    "#test với l\n",
    "for i in l:\n",
    "    if i % 2 == 0:\n",
    "        print(i)\n",
    "        break"
   ]
  },
  {
   "cell_type": "markdown",
   "id": "bc68b4cc-eaa4-4bdc-ba2a-c179e0657226",
   "metadata": {},
   "source": [
    "#### 3.2. `continue`"
   ]
  },
  {
   "cell_type": "code",
   "execution_count": 69,
   "id": "10204826-3a91-444c-bc2f-0ad9ac3facb0",
   "metadata": {},
   "outputs": [
    {
     "data": {
      "text/plain": [
       "8"
      ]
     },
     "execution_count": 69,
     "metadata": {},
     "output_type": "execute_result"
    }
   ],
   "source": [
    "# cho 1 list chỉ tính tổng các số dương\n",
    "l = [1,3,-15,4,-2,0,-8]\n",
    "\n",
    "total = 0\n",
    "for i in l:\n",
    "    if i >= 0:\n",
    "        total = total + i\n",
    "    else:\n",
    "        continue\n",
    "total"
   ]
  },
  {
   "cell_type": "code",
   "execution_count": 58,
   "id": "5846979c-9b80-401f-a35f-c2cebc3cd5a9",
   "metadata": {},
   "outputs": [
    {
     "name": "stdout",
     "output_type": "stream",
     "text": [
      "8\n"
     ]
    }
   ],
   "source": [
    "#VD trên (không dùng continue)\n",
    "l = [1,3,-15,4,-2,0,-8]\n",
    "\n",
    "total = 0\n",
    "for x in l:\n",
    "    if x > 0:\n",
    "        total += x\n",
    "\n",
    "print(total)"
   ]
  },
  {
   "cell_type": "code",
   "execution_count": 64,
   "id": "30c35de0-eef0-4db1-90c7-135c69d49974",
   "metadata": {},
   "outputs": [
    {
     "name": "stdout",
     "output_type": "stream",
     "text": [
      "2\n",
      "4\n",
      "5\n"
     ]
    }
   ],
   "source": [
    "#cho 1 list, chỉ tính tổng các số dương\n",
    "l = [1,3,-15,4,-2,0,-8]\n",
    "\n",
    "total = 0\n",
    "for i in l:\n",
    "    if i > 0:\n",
    "        print(total + i + 1)"
   ]
  },
  {
   "cell_type": "code",
   "execution_count": 80,
   "id": "3c9e4f09-9465-4b03-bfd9-20e6d7e1bd6f",
   "metadata": {},
   "outputs": [
    {
     "data": {
      "text/plain": [
       "[11, 15, 10]"
      ]
     },
     "execution_count": 80,
     "metadata": {},
     "output_type": "execute_result"
    }
   ],
   "source": [
    "#Exercise 1:\n",
    "'''\n",
    "Cho list l lưu id của các đơn hàng trong 1 ngày  \n",
    "= [11,6,4,15,21,26,'machine',10]\n",
    "- Tạo một list gồm các đơn hàng gia dụng (id bắt đầu từ số 1)\n",
    "- Tính tổng số đơn hàng không thuộc nhóm gia dụng\n",
    "- Tìm và in ra phần tử không phải là id đơn hàng (isnumeris)\n",
    "\n",
    "'''\n",
    "\n",
    "id = [11,6,4,15,21,26,'machine',10]\n",
    "g = []\n",
    "for i in id:\n",
    "    if str(i).startswith('1'):\n",
    "        g.append(i)\n",
    "g"
   ]
  },
  {
   "cell_type": "code",
   "execution_count": 81,
   "id": "76423607-b447-4cbf-9a28-a56dd39a1a83",
   "metadata": {},
   "outputs": [
    {
     "data": {
      "text/plain": [
       "5"
      ]
     },
     "execution_count": 81,
     "metadata": {},
     "output_type": "execute_result"
    }
   ],
   "source": [
    "total = 0\n",
    "for i in id:\n",
    "    if str(i).startswith('1'):    # gặp điều kiện thuộc nhóm gia dụng thì skip\n",
    "        continue\n",
    "    total += 1\n",
    "\n",
    "total"
   ]
  },
  {
   "cell_type": "code",
   "execution_count": 83,
   "id": "2a5dbbff-d2f2-473c-a881-085b93b53d55",
   "metadata": {},
   "outputs": [
    {
     "name": "stdout",
     "output_type": "stream",
     "text": [
      "machine\n"
     ]
    }
   ],
   "source": [
    "for i in id:\n",
    "    if str(i).isnumeric():\n",
    "        continue\n",
    "    print(i)"
   ]
  },
  {
   "cell_type": "markdown",
   "id": "4aef203a-9edd-454c-a29f-6e2939d921ff",
   "metadata": {},
   "source": [
    "### 4. Comprehensions"
   ]
  },
  {
   "cell_type": "markdown",
   "id": "b97a1ce3-d049-4db4-8574-8faba0d50f60",
   "metadata": {},
   "source": [
    "#### 4.1. Tống quan\n",
    "- Comprehensions là một cách ngắn gọn để tạo sequences hoặc dictionaries mà không viết vòng lặp\n",
    "- Cú pháp tổng quát:\n",
    "\n",
    "    l = [expr for item in interable if condition]\n",
    "\n",
    "    t = (expr for item in interable if condition)\n",
    "\n",
    "    d = {expr_1:expr_2 for item in interable if condition}\n",
    "\n",
    "- **Viết phần điều kiện từ `for` viết trước**"
   ]
  },
  {
   "cell_type": "markdown",
   "id": "73a45f53-00dc-48b9-b2be-7def56897114",
   "metadata": {},
   "source": [
    "#### 4.2. Ví dụ"
   ]
  },
  {
   "cell_type": "markdown",
   "id": "95efdeb9-84ab-4418-9044-cdbe2f72b215",
   "metadata": {},
   "source": [
    "#### VD1: List comprehensions"
   ]
  },
  {
   "cell_type": "code",
   "execution_count": 84,
   "id": "1b0b258b-4350-40f9-b9b3-343b9a21f418",
   "metadata": {},
   "outputs": [
    {
     "name": "stdout",
     "output_type": "stream",
     "text": [
      "[0, 1, 4, 9, 16, 25, 36, 49, 64, 81, 100]\n"
     ]
    }
   ],
   "source": [
    "# Generate squares <= 100\n",
    "l = [x**2 for x in range(11)]\n",
    "print(l)"
   ]
  },
  {
   "cell_type": "code",
   "execution_count": 85,
   "id": "42ccd0af-0ba3-4530-a450-f60862ceea9c",
   "metadata": {},
   "outputs": [
    {
     "name": "stdout",
     "output_type": "stream",
     "text": [
      "[0, 4, 16, 36, 64, 100]\n"
     ]
    }
   ],
   "source": [
    "# Generate squares <= 100 of even number only\n",
    "l = [x**2 for x in range(11) if x%2 == 0]\n",
    "print(l)"
   ]
  },
  {
   "cell_type": "code",
   "execution_count": 88,
   "id": "e5e6c0e4-4c36-4d35-8a96-fc4d8bb29a2f",
   "metadata": {},
   "outputs": [
    {
     "data": {
      "text/plain": [
       "[4, 2, 1, 4, 2, 4]"
      ]
     },
     "execution_count": 88,
     "metadata": {},
     "output_type": "execute_result"
    }
   ],
   "source": [
    "#Count number of characters for each word\n",
    "word_list = [\"this\",\"is\",\"a\",\"list\",\"of\",\"word\"]\n",
    "[ len(i)  for i in word_list]"
   ]
  },
  {
   "cell_type": "code",
   "execution_count": 89,
   "id": "35896a2e-d46b-4995-9c57-e867cee2bc69",
   "metadata": {},
   "outputs": [
    {
     "data": {
      "text/plain": [
       "['20', '1000000']"
      ]
     },
     "execution_count": 89,
     "metadata": {},
     "output_type": "execute_result"
    }
   ],
   "source": [
    "#Extract tokens that are numbers from a string (isnumeric)\n",
    "text = \"I am 20 years old and earn 1000000 USD annually\"\n",
    "\n",
    "[i  for i in text.split() if str(i).isnumeric()]"
   ]
  },
  {
   "cell_type": "markdown",
   "id": "6ee0abad-2dcb-4b66-92ac-74182c748669",
   "metadata": {},
   "source": [
    "#### VD2: Dict comprehensions"
   ]
  },
  {
   "cell_type": "code",
   "execution_count": 90,
   "id": "ba992adf-58fb-454f-9042-910b26f9fabc",
   "metadata": {},
   "outputs": [
    {
     "name": "stdout",
     "output_type": "stream",
     "text": [
      "{0: 0, 1: 1, 2: 4, 3: 9, 4: 16, 5: 25, 6: 36, 7: 49, 8: 64, 9: 81, 10: 100}\n"
     ]
    }
   ],
   "source": [
    "#Generate x: x^2 pairs for x <= 10\n",
    "d = {x: x**2 for x in range(11)}\n",
    "print (d)"
   ]
  },
  {
   "cell_type": "code",
   "execution_count": 91,
   "id": "0ea0a191-d2a9-4087-b240-8a625e959895",
   "metadata": {},
   "outputs": [
    {
     "name": "stdout",
     "output_type": "stream",
     "text": [
      "{0: 0, 2: 4, 4: 16, 6: 36, 8: 64, 10: 100}\n"
     ]
    }
   ],
   "source": [
    "#Generate x: x^2 pairs for x <= 10 for even numbers only\n",
    "d = {x: x**2 for x in range(11) if x%2 == 0}\n",
    "print (d)"
   ]
  },
  {
   "cell_type": "code",
   "execution_count": 92,
   "id": "555bb170-60d5-4a55-ab3f-53f582f28a5d",
   "metadata": {},
   "outputs": [
    {
     "name": "stdout",
     "output_type": "stream",
     "text": [
      "{0: 'this', 1: 'is', 2: 'a', 3: 'list', 4: 'of', 5: 'word'}\n"
     ]
    }
   ],
   "source": [
    "#Generate a dict of position: value pairs from a list\n",
    "word_list = [\"this\",\"is\",\"a\",\"list\",\"of\",\"word\"]\n",
    "d = {i: x for i, x in enumerate(word_list)}\n",
    "print(d)"
   ]
  },
  {
   "cell_type": "code",
   "execution_count": 94,
   "id": "15e0bbb1-faf3-4f1f-911c-76c37ae38e50",
   "metadata": {},
   "outputs": [
    {
     "data": {
      "text/plain": [
       "[4, 2, 1, 4, 2, 4]"
      ]
     },
     "execution_count": 94,
     "metadata": {},
     "output_type": "execute_result"
    }
   ],
   "source": [
    "# Count number of characters for earch word\n",
    "word_list = [\"this\",\"is\",\"a\",\"list\",\"of\",\"word\"]\n",
    "[len(i)  for i in word_list]"
   ]
  },
  {
   "cell_type": "code",
   "execution_count": 95,
   "id": "eb2edd2d-0741-46ab-877d-28e4307a8d26",
   "metadata": {},
   "outputs": [
    {
     "data": {
      "text/plain": [
       "{'this': 'this',\n",
       " 'is': 'is',\n",
       " 'a': 'a',\n",
       " 'list': 'list',\n",
       " 'of': 'of',\n",
       " 'word': 'word'}"
      ]
     },
     "execution_count": 95,
     "metadata": {},
     "output_type": "execute_result"
    }
   ],
   "source": [
    "#Generate lowercase: uppercase pairs\n",
    "word_list = [\"this\",\"is\",\"a\",\"list\",\"of\",\"word\"]\n",
    "{str(i):str(i) for i in word_list}"
   ]
  },
  {
   "cell_type": "code",
   "execution_count": 96,
   "id": "b8f1bff8-db7e-4645-a65a-9cd6738922d6",
   "metadata": {},
   "outputs": [
    {
     "data": {
      "text/plain": [
       "{'this': 'THIS',\n",
       " 'is': 'IS',\n",
       " 'a': 'A',\n",
       " 'list': 'LIST',\n",
       " 'of': 'OF',\n",
       " 'word': 'WORD'}"
      ]
     },
     "execution_count": 96,
     "metadata": {},
     "output_type": "execute_result"
    }
   ],
   "source": [
    "#Generate lowercase: uppercase pairs\n",
    "word_list = [\"this\",\"is\",\"a\",\"list\",\"of\",\"word\"]\n",
    "{str(i):str(i).upper() for i in word_list}"
   ]
  },
  {
   "cell_type": "markdown",
   "id": "9ffb972d-03e5-4120-a45d-b6e003f952f8",
   "metadata": {},
   "source": [
    "## Function"
   ]
  },
  {
   "cell_type": "markdown",
   "id": "0449042c-4978-4ecb-bc13-f1a4fffe503e",
   "metadata": {},
   "source": [
    "### 1. Functions\n",
    "\n",
    "#### 1.1. Tổng quan\n",
    "- Hàm là một tập các khối code được viết ra nhằm cho việc tái sử dụng code.\n",
    "- Vd bạn thường xuyên phải làm tác vụ lọc ra các số trong 1 string, thì thay vì viết đi viết lại đoạn code đó mỗi lần cần dên, thì bạn có thể đóng nó lại thành một hàm, và khi nào cần thì có thể gọi chúng ra dùng.\n",
    "\n",
    "#### 1.2. Khai báo và sử dụng hàm\n",
    "- Cú pháp khai báo (định nghĩa một hàm như sau):\n",
    "```\n",
    "    def function_name(params):\n",
    "        # code here\n",
    "```\n",
    "`function_name` là tên hàm muốn đặt\n",
    "\n",
    "`params` là danh sách tham số (parameters) user muốn truyền vào.\n",
    "\n",
    "- Hàm có thể:\n",
    "    - không có tham số\n",
    "    - có một tham số\n",
    "    - có nhiều tham số cách nhau bởi dấu phẩy\n",
    "- Hàm có thể trả về kết quả thông qua `return` hoặc không trả về kết quả `none` .\n",
    "- Sử dụng (gọi) hàm bằng cách viết tên hàm, kèm dấu ngoặc tròn, và truyền tham số (nếu có)   \n"
   ]
  },
  {
   "cell_type": "markdown",
   "id": "bf122941-06bf-4fda-8c1b-1c012ab4093d",
   "metadata": {},
   "source": [
    "#### VD1: Hàm `say_hi()`"
   ]
  },
  {
   "cell_type": "code",
   "execution_count": 104,
   "id": "82f40188-f22c-4214-9efa-436713e87ef5",
   "metadata": {},
   "outputs": [],
   "source": [
    "# Định nghĩa\n",
    "def say_hi():\n",
    "    print('Hello user! Have a good day.')"
   ]
  },
  {
   "cell_type": "code",
   "execution_count": null,
   "id": "9c661d6e-134e-4269-9da4-bb57d0e1deb8",
   "metadata": {},
   "outputs": [],
   "source": [
    "# Gọi hàm\n",
    "say_hi()"
   ]
  },
  {
   "cell_type": "markdown",
   "id": "b75ead71-dfb9-46ff-8b14-7c5170292dea",
   "metadata": {},
   "source": [
    "#### VD2: Hàm `say_hi(name)`"
   ]
  },
  {
   "cell_type": "code",
   "execution_count": 106,
   "id": "0bab4b55-e5c5-494f-868f-af1dad568417",
   "metadata": {},
   "outputs": [],
   "source": [
    "# Định nghĩa\n",
    "def say_hi(name):\n",
    "    print('Hello {}! Have a good day.'.format(name))"
   ]
  },
  {
   "cell_type": "code",
   "execution_count": null,
   "id": "5b96e247-8d43-416d-aefd-2fbf72f948e3",
   "metadata": {},
   "outputs": [],
   "source": [
    "# Gọi\n",
    "say_hi('Tony')"
   ]
  },
  {
   "cell_type": "markdown",
   "id": "193aa71e-d439-4d37-8269-3ed98129c7db",
   "metadata": {},
   "source": [
    "#### VD3: Hàm cộng hai số và trả về tổng"
   ]
  },
  {
   "cell_type": "code",
   "execution_count": 109,
   "id": "04a343e2-165d-436b-be7c-642b2fab1b70",
   "metadata": {},
   "outputs": [],
   "source": [
    "# Định nghĩa\n",
    "def summ(a,b):\n",
    "    return a+b"
   ]
  },
  {
   "cell_type": "code",
   "execution_count": 110,
   "id": "d7d00e6b-7dcc-453d-a421-101a699b5da8",
   "metadata": {},
   "outputs": [
    {
     "name": "stdout",
     "output_type": "stream",
     "text": [
      "3\n",
      "0\n"
     ]
    }
   ],
   "source": [
    "# Gọi\n",
    "print(summ(1,2))\n",
    "print(summ(-1,1))"
   ]
  },
  {
   "cell_type": "markdown",
   "id": "c0f5a99b-26c9-4ac4-a5ca-f3f3aefac237",
   "metadata": {},
   "source": [
    "#### VD4: Hàm loại các ký tự đặc biệt (chỉ giữ lại a-z, A-Z, 0-9)"
   ]
  },
  {
   "cell_type": "code",
   "execution_count": 132,
   "id": "a0328283-acfe-4bba-8300-68d4363ea5ea",
   "metadata": {},
   "outputs": [],
   "source": [
    "# Định nghĩa\n",
    "def remove_special_chars(s):\n",
    "    for i in s:\n",
    "        if (i.lower() >= 'a' and i.lower() <= 'z' or i.lower() >= '0' and i.lower() <= '9'):\n",
    "            l.append(i)\n",
    "    return l"
   ]
  },
  {
   "cell_type": "code",
   "execution_count": 134,
   "id": "2732328f-70b7-4883-b2f9-0dc2fd21ab67",
   "metadata": {},
   "outputs": [
    {
     "name": "stdout",
     "output_type": "stream",
     "text": [
      "Hello World 123 #%!$%@#\n",
      "[0, 4, 16, 36, 64, 100, 'H', 'e', 'l', 'l', 'o', 'W', 'o', 'r', 'l', 'd', 'H', 'e', 'l', 'l', 'o', 'W', 'o', 'r', 'l', 'd', '1', '2', '3', 'H', 'e', 'l', 'l', 'o', 'W', 'o', 'r', 'l', 'd', '1', '2', '3', 'H', 'e', 'l', 'l', 'o', 'W', 'o', 'r', 'l', 'd', '1', '2', '3', 'H', 'e', 'l', 'l', 'o', 'W', 'o', 'r', 'l', 'd', '1', '2', '3', 'H', 'e', 'l', 'l', 'o', 'W', 'o', 'r', 'l', 'd', '1', '2', '3', 'H', 'e', 'l', 'l', 'o', 'W', 'o', 'r', 'l', 'd', '1', '2', '3', 'H', 'H', 'e', 'l', 'l', 'o', 'W', 'o', 'r', 'l', 'd', '1', '2', '3', 'H', 'e', 'l', 'l', 'o', 'W', 'o', 'r', 'l', 'd', '1', '2', '3', 'H', 'e', 'l', 'l', 'o', 'W', 'o', 'r', 'l', 'd', '1', '2', '3', 'H', 'e', 'l', 'l', 'o', 'W', 'o', 'r', 'l', 'd', '1', '2', '3']\n"
     ]
    }
   ],
   "source": [
    "# Gọi\n",
    "s = 'Hello World 123 #%!$%@#'\n",
    "s_std = remove_special_chars(s)\n",
    "\n",
    "print(s)\n",
    "print(s_std)"
   ]
  },
  {
   "cell_type": "code",
   "execution_count": null,
   "id": "84c3ed9c-f11b-429b-80c4-377c9e74770f",
   "metadata": {},
   "outputs": [],
   "source": [
    "# Định nghĩa (2): dùng comprehensions, isalnum\n",
    "def remove_special_chars(s):"
   ]
  },
  {
   "cell_type": "code",
   "execution_count": null,
   "id": "e523203b-af20-42c7-8a5e-da2dee5eaaf1",
   "metadata": {},
   "outputs": [],
   "source": [
    "# Gọi\n",
    "s = 'Hello World 123 #%!$%@#'\n",
    "s_std = remove_special_chars(s)\n",
    "\n",
    "print(s)\n",
    "print(s_std)"
   ]
  },
  {
   "cell_type": "markdown",
   "id": "17d6797c-2de1-437e-9b54-236514e38458",
   "metadata": {},
   "source": [
    "#### 1.3. Tham số mặc định\n",
    "-  Thông thường nếu chúng ta khai báo hàm có tham số truyền vào, nhưng lúc gọi hàm chúng ta không truyền tham số vào, thì chương trình sẽ báo lỗi\n",
    "-  Python cho phép khai báo giá trị mặc định cho tham số. Nếu người dùng không truyền tham số lúc gọi hàm, thì giá trị mặc định này sẽ được sử dụng.\n",
    "-  Cú pháp:\n",
    "```\n",
    "def function_name(required_params, default_1 = value_1, default_2 = value_2) :\n",
    "    # code here\n",
    "```\n",
    "- `required_params` : danh sách các tham số bắt buộc, cách nhau bởi dấu phẩy.\n",
    "- `default_1, default_2` : danh sách các tham số tùy chọn với giá trị mặc định tương ứng `value_1, value_2`.\n",
    "  \n",
    "- Tham số mặc định luôn xếp cuối cùng"
   ]
  },
  {
   "cell_type": "markdown",
   "id": "3f08242c-e7e0-46f0-8028-1b9a86730ac0",
   "metadata": {},
   "source": [
    "#### VD1: Hàm say_hi(name = 'user')"
   ]
  },
  {
   "cell_type": "code",
   "execution_count": 135,
   "id": "8e0e5e6d-b405-4d5f-a07a-177e2abb55b9",
   "metadata": {},
   "outputs": [],
   "source": [
    "# Định nghĩa\n",
    "def say_hi(name = 'user'):\n",
    "    print('Hello {}! Have a good day.'.format(name))"
   ]
  },
  {
   "cell_type": "code",
   "execution_count": 136,
   "id": "71e7c607-24c3-492b-b368-636642d808df",
   "metadata": {},
   "outputs": [
    {
     "name": "stdout",
     "output_type": "stream",
     "text": [
      "Hello user! Have a good day.\n",
      "Hello Bob! Have a good day.\n"
     ]
    }
   ],
   "source": [
    "# Gọi\n",
    "say_hi()\n",
    "say_hi('Bob')"
   ]
  },
  {
   "cell_type": "markdown",
   "id": "b24cbc21-47e6-4437-98af-8b6f96eaebe1",
   "metadata": {},
   "source": [
    "#### VD2: Hàm print"
   ]
  },
  {
   "cell_type": "code",
   "execution_count": 137,
   "id": "dc4a271c-0a79-47bb-b01b-4688abe60a81",
   "metadata": {},
   "outputs": [
    {
     "name": "stdout",
     "output_type": "stream",
     "text": [
      "H\n",
      "e\n",
      "l\n",
      "l\n",
      "o\n"
     ]
    }
   ],
   "source": [
    "S = 'Hello'\n",
    "\n",
    "for x in S:\n",
    "    print(x)"
   ]
  },
  {
   "cell_type": "code",
   "execution_count": 138,
   "id": "6ef41338-b322-447f-8bc3-bf8c067f8c7b",
   "metadata": {},
   "outputs": [
    {
     "name": "stdout",
     "output_type": "stream",
     "text": [
      "H_e_l_l_o_"
     ]
    }
   ],
   "source": [
    "for x in S:\n",
    "    print(x, end = '_')"
   ]
  },
  {
   "cell_type": "markdown",
   "id": "c108e923-c7a4-4ccc-8809-499f545c2928",
   "metadata": {},
   "source": [
    "#### 1.4. Phạm vi của biến"
   ]
  },
  {
   "cell_type": "markdown",
   "id": "d7e95dca-8f2b-4cce-b972-ed7f8ded6b1c",
   "metadata": {},
   "source": [
    "- Khi một biến được khai báo ở trong hàm thì nó chỉ có thể được sử dụng ở trong hàm đó.\n",
    "\n",
    "VD:\n",
    "```\n",
    "def say_hi():\n",
    "    # Biến a mặc định trong hàm\n",
    "    a = 'Hello'\n",
    "    print(a)\n",
    "```\n",
    "- Thử in biến a bên ngoài scope của hàm print(a)\n",
    "- Lỗi: name 'a' is not defined\n",
    "\n",
    "- Hai biến cùng tên nhưng ở phạm vi khác nhau là hai biến khác nhau"
   ]
  },
  {
   "cell_type": "code",
   "execution_count": 141,
   "id": "8b8d73d3-dd97-4a84-bf6f-9eda362f6f78",
   "metadata": {},
   "outputs": [
    {
     "name": "stdout",
     "output_type": "stream",
     "text": [
      "Hi user\n"
     ]
    }
   ],
   "source": [
    "# Khai báo biến a ở global environment\n",
    "a = 'Hello user!'\n",
    "\n",
    "# Khai báo hàm say() với biến định nghĩa ở local environment\n",
    "def say(a):\n",
    "    #Biến a ở local scope\n",
    "    a = 'Hi user'\n",
    "    print(a)\n",
    "\n",
    "# Test\n",
    "say(a)  # KQ: Hi user\n",
    "\n",
    "print(a)  #KQ: Hello user"
   ]
  },
  {
   "cell_type": "markdown",
   "id": "50840ad9-e077-4197-881e-b2c0effc91b2",
   "metadata": {},
   "source": [
    "##### Lưu ý:\n",
    "- Nếu như biến có kiểu dữ liệu là mutable như list hoặc dict thì khi truyền biến vào hàm, và trong hàm thay đổi biến đó thì biến đó ở bên ngoài cũng bị thay đổi theo\n",
    "- Lý do: khi truyền list vào hàm, bản chất là ta truyền chính list đó vào hàm (mà không phải bản copy của list), nên sửa list trong hàm đồng nghĩa với effect sẽ được giữ lại khi thoát ra khỏi hàm"
   ]
  },
  {
   "cell_type": "code",
   "execution_count": 142,
   "id": "cc9d65b7-899c-4e3c-be40-1651cd830b4a",
   "metadata": {},
   "outputs": [
    {
     "name": "stdout",
     "output_type": "stream",
     "text": [
      "[1, -2, 4]\n",
      "[-2, 1, 4]\n"
     ]
    }
   ],
   "source": [
    "a = [1,-2,4]\n",
    "print(a)\n",
    "\n",
    "def sort_a_list(l):\n",
    "    l.sort()\n",
    "    return l\n",
    "\n",
    "sort_a_list(a)\n",
    "print(a)"
   ]
  },
  {
   "cell_type": "markdown",
   "id": "6201ff90-7f0a-4696-acc2-068c89cd5aa6",
   "metadata": {},
   "source": [
    "#### 1.5. Truyền vô số tham số vào hàm\n",
    "- Trên thực tế không phải lúc nào cũng biết trước được chính xác số biến truyền vào trong hàm.\n",
    "- Python cung cấp khai báo một param đại diện cho các biến truyền vào hàm bằng cách thêm dấu * vào trước param đó"
   ]
  },
  {
   "cell_type": "code",
   "execution_count": 150,
   "id": "316dab6a-d808-4134-8c71-8c44c108c598",
   "metadata": {},
   "outputs": [],
   "source": [
    "def get_sum(*num):\n",
    "    total = 0\n",
    "\n",
    "#Duyệt qua các tham số\n",
    "    for i in num:\n",
    "        total += 1\n",
    "    return total"
   ]
  },
  {
   "cell_type": "code",
   "execution_count": 151,
   "id": "2ea370c9-c4c2-41eb-b69a-51fe48569213",
   "metadata": {},
   "outputs": [
    {
     "name": "stdout",
     "output_type": "stream",
     "text": [
      "2\n",
      "6\n"
     ]
    }
   ],
   "source": [
    "print(get_sum(1,2))\n",
    "print(get_sum(1,2,3,4,5,6))"
   ]
  },
  {
   "cell_type": "markdown",
   "id": "11d0736e-981e-4d82-9631-e444978626aa",
   "metadata": {},
   "source": [
    "### 2. Lamdda Function\n",
    "Lambda là một hàm ẩn danh, nhận input là một biểu thức"
   ]
  },
  {
   "cell_type": "code",
   "execution_count": 152,
   "id": "f0ac47ce-1a6f-4f2c-a43e-20b6bc61073b",
   "metadata": {},
   "outputs": [
    {
     "name": "stdout",
     "output_type": "stream",
     "text": [
      "15\n"
     ]
    }
   ],
   "source": [
    "x = lambda a : a + 10\n",
    "print(x(5))\n",
    "\n",
    "# x là kết quả trả về\n",
    "# lambda là khai báo function\n",
    "# a(1st) là biến a truyền vào\n",
    "# a + 1 là return"
   ]
  },
  {
   "cell_type": "code",
   "execution_count": 153,
   "id": "bfa6bfc7-4b73-43bb-a5b5-c43a279f2f0b",
   "metadata": {},
   "outputs": [
    {
     "name": "stdout",
     "output_type": "stream",
     "text": [
      "30\n"
     ]
    }
   ],
   "source": [
    "x = lambda a,b : a*b\n",
    "print(x(5,6))"
   ]
  },
  {
   "cell_type": "code",
   "execution_count": 156,
   "id": "218655eb-9b48-4131-a37a-cb39bf973877",
   "metadata": {},
   "outputs": [
    {
     "name": "stdout",
     "output_type": "stream",
     "text": [
      "13\n"
     ]
    }
   ],
   "source": [
    "x = lambda a, b, c : a+b+c\n",
    "print(x(5,6,2))"
   ]
  },
  {
   "cell_type": "code",
   "execution_count": 157,
   "id": "be62df9d-c645-4e5b-8c76-cf61fc15fd2d",
   "metadata": {},
   "outputs": [
    {
     "name": "stdout",
     "output_type": "stream",
     "text": [
      "100\n"
     ]
    }
   ],
   "source": [
    "max = lambda a,b : a if(a>b) else b\n",
    "print(max(100,6))"
   ]
  },
  {
   "cell_type": "markdown",
   "id": "98910a53-d692-48a1-b00d-65df9e52bbfe",
   "metadata": {},
   "source": [
    "## Exercise"
   ]
  },
  {
   "cell_type": "code",
   "execution_count": 159,
   "id": "98844206-ff48-4d85-a251-6f792d4ff269",
   "metadata": {},
   "outputs": [
    {
     "name": "stdout",
     "output_type": "stream",
     "text": [
      "[80]\n",
      "[250]\n",
      "[100, 150, 160]\n"
     ]
    }
   ],
   "source": [
    "'''\n",
    "    Cho list giá trị đơn hàng trong ngày:\n",
    "        [100, 150, 80, 160, 250]\n",
    "    Sử dụng vòng lặp for phân loại list trên thành 3 list: <100, 100-200, >=200\n",
    "'''\n",
    "l = [100, 150, 80, 160, 250]\n",
    "l1 = []\n",
    "l2 = []\n",
    "l3 = []\n",
    "\n",
    "for i in l:\n",
    "    if i < 100:\n",
    "        l1.append(i)\n",
    "    elif i >= 200:\n",
    "        l2.append(i)\n",
    "    else:\n",
    "        l3.append(i)\n",
    "\n",
    "print(l1)\n",
    "print(l2)\n",
    "print(l3)"
   ]
  },
  {
   "cell_type": "code",
   "execution_count": 160,
   "id": "7e962c2c-d3e2-4356-a7f2-963276baded3",
   "metadata": {},
   "outputs": [
    {
     "data": {
      "text/plain": [
       "{'G12': 400, 'M15': 140, 'C20': 650000}"
      ]
     },
     "execution_count": 160,
     "metadata": {},
     "output_type": "execute_result"
    }
   ],
   "source": [
    "'''\n",
    "    Thiết kế hàm tính lợi nhuận của đơn hàng\n",
    "    Đầu vào là dict: {'G12' : 500, 'M15' : 200, 'C20' : 1000000}\n",
    "    Kết quả trả ra là dict: {'G12' : ..LN, 'M15' : ..LN, 'C20' : ..LN}\n",
    "    Biết chi phí ứng với từng dòng sản phẩm như sau: G -> 20%, M -> 30%, C -> 35%\n",
    "'''\n",
    "\n",
    "d1 = {'G12' : 500, 'M15' : 200, 'C20' : 1000000}\n",
    "d2 = {}\n",
    "for i in d1:\n",
    "    if str(i).startswith('G'):\n",
    "        d3 = {'G12' : int(500*.8)}\n",
    "    if str(i).startswith('M'):\n",
    "        d4 = {'M15' : int(200*.7)}\n",
    "    if str(i).startswith('C'):\n",
    "        d5 = {'C20' : int(1000000*.65)}\n",
    "d2.update(d3)\n",
    "d2.update(d4)\n",
    "d2.update(d5)\n",
    "d2"
   ]
  },
  {
   "cell_type": "code",
   "execution_count": 163,
   "id": "2d5ebee2-38ac-4b2e-b457-793ca4f9e105",
   "metadata": {},
   "outputs": [
    {
     "name": "stdout",
     "output_type": "stream",
     "text": [
      "Don hang cua anh/chi: Manh, co gia tri la:50\n",
      "Don hang cua anh/chi: Manh, co gia tri la:50\n",
      "Don hang cua anh/chi: Manh, co gia tri la:50\n"
     ]
    }
   ],
   "source": [
    "'''\n",
    "    Cho list tên khách ahng2: ['Tuan', 'Manh', 'Cuong', 'Lan']\n",
    "    Cho dict tên khách ahng2 ứng với giá trị các đơn hàng: {'Tuan':100, 'Manh':300, 'Cuong':200, 'Lan':50}\n",
    "    Sử dụng nested loop để in ra tổng giá trị đơn hàng ứng với từng khách hàng\n",
    "'''\n",
    "l_kh = ['Tuan', 'Manh', 'Cuong', 'Lan']\n",
    "dict_kh = {'Tuan':100, 'Manh':300, 'Cuong':200, 'Manh':50}\n",
    "l = list(dict_kh)\n",
    "\n",
    "for i in range(len(l_kh)):\n",
    "    for j in range(len(l)):\n",
    "        if l_kh[i] == l[j]:\n",
    "            for k,v in dict_kh.items():\n",
    "                if k == l_kh[1]:\n",
    "                    print(\"Don hang cua anh/chi: {}, co gia tri la:{}\".format(k,v))"
   ]
  }
 ],
 "metadata": {
  "kernelspec": {
   "display_name": "Python 3 (ipykernel)",
   "language": "python",
   "name": "python3"
  },
  "language_info": {
   "codemirror_mode": {
    "name": "ipython",
    "version": 3
   },
   "file_extension": ".py",
   "mimetype": "text/x-python",
   "name": "python",
   "nbconvert_exporter": "python",
   "pygments_lexer": "ipython3",
   "version": "3.11.7"
  }
 },
 "nbformat": 4,
 "nbformat_minor": 5
}
